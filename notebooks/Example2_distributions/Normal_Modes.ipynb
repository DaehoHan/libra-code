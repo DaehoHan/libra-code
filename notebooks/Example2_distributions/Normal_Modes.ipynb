{
 "cells": [
  {
   "cell_type": "markdown",
   "metadata": {},
   "source": [
    "First, import all the necessary libraries:\n",
    "* liblibra_core - for general data types from Libra\n",
    "* libra_py - for the normal modes module\n",
    "* py3Dmol - for visualization\n",
    "\n",
    "The output of the cell below will throw a bunch of warnings, but this is not a problem nothing really serios. So just disregard them."
   ]
  },
  {
   "cell_type": "code",
   "execution_count": 11,
   "metadata": {
    "scrolled": true
   },
   "outputs": [],
   "source": [
    "from liblibra_core import *\n",
    "from libra_py import *\n",
    "import math\n",
    "import py3Dmol"
   ]
  },
  {
   "cell_type": "code",
   "execution_count": 12,
   "metadata": {},
   "outputs": [],
   "source": [
    "def test_data(x):\n",
    "    x.Calculate_Estimators()\n",
    "    x.Calculate_Mini_Max()\n",
    "\n",
    "    print \"ave = \",x.ave\n",
    "    print \"var = \",x.var\n",
    "    print \"sd = \",x.sd\n",
    "    print \"se = \",x.se\n",
    "    print \"mse = \",x.mse\n",
    "    print \"mae = \",x.mae\n",
    "    print \"rmse = \",x.rmse\n",
    "    print \"min_val =\", x.min_val\n",
    "    print \"min_indx =\", x.min_indx\n",
    "    print \"max_val =\", x.max_val\n",
    "    print \"max_indx =\", x.max_indx"
   ]
  },
  {
   "cell_type": "code",
   "execution_count": 13,
   "metadata": {
    "scrolled": true
   },
   "outputs": [
    {
     "name": "stdout",
     "output_type": "stream",
     "text": [
      "<liblibra_core.DATA object at 0x7f0448e5dd08>\n"
     ]
    }
   ],
   "source": [
    "x = DATA([1.0, 0.5, 2.0, -0.5])\n",
    "print x"
   ]
  },
  {
   "cell_type": "code",
   "execution_count": 14,
   "metadata": {},
   "outputs": [
    {
     "name": "stdout",
     "output_type": "stream",
     "text": [
      "ave =  0.75\n",
      "var =  1.08333333333\n",
      "sd =  1.04083299973\n",
      "se =  0.520416499867\n",
      "mse =  0.8125\n",
      "mae =  0.75\n",
      "rmse =  0.901387818866\n",
      "min_val = -0.5\n",
      "min_indx = 3\n",
      "max_val = 2.0\n",
      "max_indx = 2\n"
     ]
    }
   ],
   "source": [
    "test_data(x)"
   ]
  },
  {
   "cell_type": "code",
   "execution_count": 15,
   "metadata": {},
   "outputs": [
    {
     "name": "stdout",
     "output_type": "stream",
     "text": [
      "ave =  1.5\n",
      "var =  4.33333333333\n",
      "sd =  2.08166599947\n",
      "se =  1.04083299973\n",
      "mse =  3.25\n",
      "mae =  1.5\n",
      "rmse =  1.80277563773\n",
      "min_val = -1.0\n",
      "min_indx = 3\n",
      "max_val = 4.0\n",
      "max_indx = 2\n"
     ]
    }
   ],
   "source": [
    "x.ScaleData(2.0)\n",
    "test_data(x)"
   ]
  },
  {
   "cell_type": "code",
   "execution_count": 16,
   "metadata": {},
   "outputs": [
    {
     "name": "stdout",
     "output_type": "stream",
     "text": [
      "ave =  1.75\n",
      "var =  1.08333333333\n",
      "sd =  1.04083299973\n",
      "se =  0.520416499867\n",
      "mse =  0.8125\n",
      "mae =  0.75\n",
      "rmse =  0.901387818866\n",
      "min_val = 0.5\n",
      "min_indx = 3\n",
      "max_val = 3.0\n",
      "max_indx = 2\n"
     ]
    }
   ],
   "source": [
    "x.LinearTransformData(0.5, 1.0)\n",
    "test_data(x)"
   ]
  },
  {
   "cell_type": "code",
   "execution_count": 17,
   "metadata": {},
   "outputs": [
    {
     "name": "stdout",
     "output_type": "stream",
     "text": [
      "<liblibra_core.doubleList object at 0x7f0448e51e50>\n",
      "[2.0, 1.5, 3.0, 0.5]\n"
     ]
    }
   ],
   "source": [
    "print x.Data\n",
    "print Cpp2Py(x.Data)"
   ]
  },
  {
   "cell_type": "code",
   "execution_count": 18,
   "metadata": {
    "scrolled": true
   },
   "outputs": [],
   "source": [
    "x = []\n",
    "for i in xrange(100):\n",
    "    x.append(0.01*i)\n",
    "\n",
    "rnd = Random()\n",
    "y = []\n",
    "for i in xrange(100000):\n",
    "    y.append(rnd.uniform(0.0, 1.0))\n",
    "    #y.append(rnd.normal())\n",
    "    \n",
    "z = DATA(y)\n",
    "\n",
    "dens, cum = z.Calculate_Distribution(x)\n",
    "\n",
    "#sz = len(x)\n",
    "#for i in xrange(sz):\n",
    "#    print i, x[i], dens[i], cum[i]\n",
    "#print x, dens, cum"
   ]
  },
  {
   "cell_type": "code",
   "execution_count": 19,
   "metadata": {},
   "outputs": [],
   "source": [
    "import matplotlib\n",
    "#matplotlib.use('Agg')\n",
    "\n",
    "import matplotlib.pyplot as plt\n",
    "#from matplotlib.pyplot import figure\n",
    "%matplotlib inline\n",
    "\n",
    "\n",
    "plt.rc('axes', titlesize=24)      # fontsize of the axes title\n",
    "plt.rc('axes', labelsize=20)      # fontsize of the x and y labels\n",
    "plt.rc('legend', fontsize=20)     # legend fontsize\n",
    "plt.rc('xtick', labelsize=16)    # fontsize of the tick labels\n",
    "plt.rc('ytick', labelsize=16)    # fontsize of the tick labels\n",
    "\n",
    "plt.rc('figure.subplot', left=0.2)\n",
    "plt.rc('figure.subplot', right=0.95)\n",
    "plt.rc('figure.subplot', bottom=0.13)\n",
    "plt.rc('figure.subplot', top=0.88)\n",
    "\n",
    "colors = {}\n",
    "\n",
    "colors.update({\"11\": \"#8b1a0e\"})  # red       \n",
    "colors.update({\"12\": \"#FF4500\"})  # orangered \n",
    "colors.update({\"13\": \"#B22222\"})  # firebrick \n",
    "colors.update({\"14\": \"#DC143C\"})  # crimson   \n",
    "\n",
    "colors.update({\"21\": \"#5e9c36\"})  # green\n",
    "colors.update({\"22\": \"#006400\"})  # darkgreen  \n",
    "colors.update({\"23\": \"#228B22\"})  # forestgreen\n",
    "colors.update({\"24\": \"#808000\"})  # olive      \n",
    "\n",
    "colors.update({\"31\": \"#8A2BE2\"})  # blueviolet\n",
    "colors.update({\"32\": \"#00008B\"})  # darkblue  \n",
    "\n",
    "colors.update({\"41\": \"#2F4F4F\"})  # darkslategray"
   ]
  },
  {
   "cell_type": "code",
   "execution_count": 20,
   "metadata": {},
   "outputs": [
    {
     "data": {
      "image/png": "[encoded data removed]",
      "text/plain": [
       "<Figure size 432x288 with 1 Axes>"
      ]
     },
     "metadata": {},
     "output_type": "display_data"
    }
   ],
   "source": [
    "plt.title('Distribution function')\n",
    "plt.xlabel('x value')\n",
    "plt.ylabel('y value')\n",
    "plt.plot(x, dens, label='Density', linewidth=4, color = colors[\"11\"]) \n",
    "plt.plot(x, cum, label='CDF', linewidth=4, color = colors[\"21\"]) \n",
    "plt.legend()\n",
    "plt.show()\n",
    "plt.close()"
   ]
  },
  {
   "cell_type": "code",
   "execution_count": null,
   "metadata": {},
   "outputs": [],
   "source": []
  }
 ],
 "metadata": {
  "kernelspec": {
   "display_name": "Python 2",
   "language": "python",
   "name": "python2"
  },
  "language_info": {
   "codemirror_mode": {
    "name": "ipython",
    "version": 2
   },
   "file_extension": ".py",
   "mimetype": "text/x-python",
   "name": "python",
   "nbconvert_exporter": "python",
   "pygments_lexer": "ipython2",
   "version": "2.7.15"
  }
 },
 "nbformat": 4,
 "nbformat_minor": 2
}
