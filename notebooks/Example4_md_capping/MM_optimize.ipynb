{
 "cells": [
  {
   "cell_type": "code",
   "execution_count": 1,
   "metadata": {},
   "outputs": [
    {
     "name": "stderr",
     "output_type": "stream",
     "text": [
      "/home/alexey/miniconda2/lib/python2.7/site-packages/ipykernel_launcher.py:5: RuntimeWarning: to-Python converter for std::vector<std::complex<double>, std::allocator<std::complex<double> > > already registered; second conversion method ignored.\n",
      "  \"\"\"\n",
      "/home/alexey/miniconda2/lib/python2.7/site-packages/ipykernel_launcher.py:5: RuntimeWarning: to-Python converter for std::vector<std::vector<int, std::allocator<int> >, std::allocator<std::vector<int, std::allocator<int> > > > already registered; second conversion method ignored.\n",
      "  \"\"\"\n",
      "/home/alexey/miniconda2/lib/python2.7/site-packages/ipykernel_launcher.py:5: RuntimeWarning: to-Python converter for boost::python::detail::container_element<std::vector<std::vector<int, std::allocator<int> >, std::allocator<std::vector<int, std::allocator<int> > > >, unsigned long, boost::python::detail::final_vector_derived_policies<std::vector<std::vector<int, std::allocator<int> >, std::allocator<std::vector<int, std::allocator<int> > > >, false> > already registered; second conversion method ignored.\n",
      "  \"\"\"\n",
      "/home/alexey/miniconda2/lib/python2.7/site-packages/ipykernel_launcher.py:5: RuntimeWarning: to-Python converter for std::vector<std::vector<float, std::allocator<float> >, std::allocator<std::vector<float, std::allocator<float> > > > already registered; second conversion method ignored.\n",
      "  \"\"\"\n",
      "/home/alexey/miniconda2/lib/python2.7/site-packages/ipykernel_launcher.py:5: RuntimeWarning: to-Python converter for boost::python::detail::container_element<std::vector<std::vector<float, std::allocator<float> >, std::allocator<std::vector<float, std::allocator<float> > > >, unsigned long, boost::python::detail::final_vector_derived_policies<std::vector<std::vector<float, std::allocator<float> >, std::allocator<std::vector<float, std::allocator<float> > > >, false> > already registered; second conversion method ignored.\n",
      "  \"\"\"\n",
      "/home/alexey/miniconda2/lib/python2.7/site-packages/ipykernel_launcher.py:5: RuntimeWarning: to-Python converter for std::vector<std::vector<double, std::allocator<double> >, std::allocator<std::vector<double, std::allocator<double> > > > already registered; second conversion method ignored.\n",
      "  \"\"\"\n",
      "/home/alexey/miniconda2/lib/python2.7/site-packages/ipykernel_launcher.py:5: RuntimeWarning: to-Python converter for boost::python::detail::container_element<std::vector<std::vector<double, std::allocator<double> >, std::allocator<std::vector<double, std::allocator<double> > > >, unsigned long, boost::python::detail::final_vector_derived_policies<std::vector<std::vector<double, std::allocator<double> >, std::allocator<std::vector<double, std::allocator<double> > > >, false> > already registered; second conversion method ignored.\n",
      "  \"\"\"\n",
      "/home/alexey/miniconda2/lib/python2.7/site-packages/ipykernel_launcher.py:5: RuntimeWarning: to-Python converter for boost::python::detail::container_element<std::vector<std::vector<std::complex<double>, std::allocator<std::complex<double> > >, std::allocator<std::vector<std::complex<double>, std::allocator<std::complex<double> > > > >, unsigned long, boost::python::detail::final_vector_derived_policies<std::vector<std::vector<std::complex<double>, std::allocator<std::complex<double> > >, std::allocator<std::vector<std::complex<double>, std::allocator<std::complex<double> > > > >, false> > already registered; second conversion method ignored.\n",
      "  \"\"\"\n"
     ]
    }
   ],
   "source": [
    "import sys\n",
    "if sys.platform==\"cygwin\":\n",
    "    from cyglibra_core import *\n",
    "elif sys.platform==\"linux\" or sys.platform==\"linux2\":\n",
    "    from liblibra_core import *\n",
    "\n",
    "from libra_py import LoadPT\n",
    "from libra_py import LoadMolecule\n",
    "from libra_py import nve_md\n",
    "\n",
    "\n",
    "\n",
    "U = Universe()\n",
    "LoadPT.Load_PT(U, \"elements.dat\", 0)"
   ]
  },
  {
   "cell_type": "code",
   "execution_count": 2,
   "metadata": {},
   "outputs": [
    {
     "name": "stdout",
     "output_type": "stream",
     "text": [
      "24\n",
      "The number of atoms =  11\n",
      "0  C  2.409 0.661 0.000\n",
      "1  H  3.084 1.614 1.652\n",
      "2  H  3.084 1.614 -1.652\n",
      "3  H  0.387 0.661 0.000\n",
      "4  C  3.379 -2.082 0.000\n",
      "5  H  2.706 -3.035 -1.652\n",
      "6  H  5.401 -2.082 -0.000\n",
      "7  C  2.409 -3.454 2.375\n",
      "8  H  3.086 -2.504 4.027\n",
      "9  H  0.387 -3.451 2.377\n",
      "10  F  3.256 -5.860 2.373\n"
     ]
    }
   ],
   "source": [
    "syst = System()    \n",
    "LoadMolecule.Load_Molecule(U, syst, \"test1a.pdb\", \"pdb_1\")    \n",
    "\n",
    "nat = syst.Number_of_atoms\n",
    "print \"The number of atoms = \", nat\n",
    "for i in xrange(nat):\n",
    "    x = syst.Atoms[i].Atom_RB.rb_cm.x\n",
    "    y = syst.Atoms[i].Atom_RB.rb_cm.y\n",
    "    z = syst.Atoms[i].Atom_RB.rb_cm.z\n",
    "    print \"%i  %s  %5.3f %5.3f %5.3f\" % (i, syst.Atoms[i].Atom_element, x, y, z)"
   ]
  },
  {
   "cell_type": "code",
   "execution_count": 3,
   "metadata": {},
   "outputs": [
    {
     "name": "stdout",
     "output_type": "stream",
     "text": [
      "The number of atoms =  11\n",
      "0  C  2.423 0.670 -0.026\n",
      "1  H  3.121 1.714 1.657\n",
      "2  H  3.144 1.620 -1.752\n",
      "3  H  0.324 0.727 -0.056\n",
      "4  C  3.350 -2.059 0.033\n",
      "5  H  2.667 -3.057 -1.684\n",
      "6  H  5.450 -2.075 0.019\n",
      "7  C  2.399 -3.438 2.381\n",
      "8  H  3.095 -2.480 4.115\n",
      "9  H  0.300 -3.464 2.406\n",
      "10  F  3.274 -5.900 2.368\n"
     ]
    }
   ],
   "source": [
    "nve_md.optimize_syst(syst, {})\n",
    "\n",
    "nat = syst.Number_of_atoms\n",
    "print \"The number of atoms = \", nat\n",
    "for i in xrange(nat):\n",
    "    x = syst.Atoms[i].Atom_RB.rb_cm.x\n",
    "    y = syst.Atoms[i].Atom_RB.rb_cm.y\n",
    "    z = syst.Atoms[i].Atom_RB.rb_cm.z\n",
    "    print \"%i  %s  %5.3f %5.3f %5.3f\" % (i, syst.Atoms[i].Atom_element, x, y, z)"
   ]
  },
  {
   "cell_type": "code",
   "execution_count": null,
   "metadata": {},
   "outputs": [],
   "source": []
  }
 ],
 "metadata": {
  "kernelspec": {
   "display_name": "Python 2",
   "language": "python",
   "name": "python2"
  },
  "language_info": {
   "codemirror_mode": {
    "name": "ipython",
    "version": 2
   },
   "file_extension": ".py",
   "mimetype": "text/x-python",
   "name": "python",
   "nbconvert_exporter": "python",
   "pygments_lexer": "ipython2",
   "version": "2.7.14"
  }
 },
 "nbformat": 4,
 "nbformat_minor": 2
}
