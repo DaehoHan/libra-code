{
 "cells": [
  {
   "cell_type": "code",
   "execution_count": 2,
   "metadata": {},
   "outputs": [
    {
     "name": "stderr",
     "output_type": "stream",
     "text": [
      "/home/alexey/miniconda2/envs/libra/lib/python2.7/site-packages/ipykernel_launcher.py:8: RuntimeWarning: to-Python converter for std::vector<std::complex<double>, std::allocator<std::complex<double> > > already registered; second conversion method ignored.\n",
      "  \n",
      "/home/alexey/miniconda2/envs/libra/lib/python2.7/site-packages/ipykernel_launcher.py:8: RuntimeWarning: to-Python converter for std::vector<std::vector<int, std::allocator<int> >, std::allocator<std::vector<int, std::allocator<int> > > > already registered; second conversion method ignored.\n",
      "  \n",
      "/home/alexey/miniconda2/envs/libra/lib/python2.7/site-packages/ipykernel_launcher.py:8: RuntimeWarning: to-Python converter for boost::python::detail::container_element<std::vector<std::vector<int, std::allocator<int> >, std::allocator<std::vector<int, std::allocator<int> > > >, unsigned long, boost::python::detail::final_vector_derived_policies<std::vector<std::vector<int, std::allocator<int> >, std::allocator<std::vector<int, std::allocator<int> > > >, false> > already registered; second conversion method ignored.\n",
      "  \n",
      "/home/alexey/miniconda2/envs/libra/lib/python2.7/site-packages/ipykernel_launcher.py:8: RuntimeWarning: to-Python converter for std::vector<std::vector<float, std::allocator<float> >, std::allocator<std::vector<float, std::allocator<float> > > > already registered; second conversion method ignored.\n",
      "  \n",
      "/home/alexey/miniconda2/envs/libra/lib/python2.7/site-packages/ipykernel_launcher.py:8: RuntimeWarning: to-Python converter for boost::python::detail::container_element<std::vector<std::vector<float, std::allocator<float> >, std::allocator<std::vector<float, std::allocator<float> > > >, unsigned long, boost::python::detail::final_vector_derived_policies<std::vector<std::vector<float, std::allocator<float> >, std::allocator<std::vector<float, std::allocator<float> > > >, false> > already registered; second conversion method ignored.\n",
      "  \n",
      "/home/alexey/miniconda2/envs/libra/lib/python2.7/site-packages/ipykernel_launcher.py:8: RuntimeWarning: to-Python converter for std::vector<std::vector<double, std::allocator<double> >, std::allocator<std::vector<double, std::allocator<double> > > > already registered; second conversion method ignored.\n",
      "  \n",
      "/home/alexey/miniconda2/envs/libra/lib/python2.7/site-packages/ipykernel_launcher.py:8: RuntimeWarning: to-Python converter for boost::python::detail::container_element<std::vector<std::vector<double, std::allocator<double> >, std::allocator<std::vector<double, std::allocator<double> > > >, unsigned long, boost::python::detail::final_vector_derived_policies<std::vector<std::vector<double, std::allocator<double> >, std::allocator<std::vector<double, std::allocator<double> > > >, false> > already registered; second conversion method ignored.\n",
      "  \n",
      "/home/alexey/miniconda2/envs/libra/lib/python2.7/site-packages/ipykernel_launcher.py:8: RuntimeWarning: to-Python converter for boost::python::detail::container_element<std::vector<std::vector<std::complex<double>, std::allocator<std::complex<double> > >, std::allocator<std::vector<std::complex<double>, std::allocator<std::complex<double> > > > >, unsigned long, boost::python::detail::final_vector_derived_policies<std::vector<std::vector<std::complex<double>, std::allocator<std::complex<double> > >, std::allocator<std::vector<std::complex<double>, std::allocator<std::complex<double> > > > >, false> > already registered; second conversion method ignored.\n",
      "  \n"
     ]
    }
   ],
   "source": [
    "import os\n",
    "import sys\n",
    "\n",
    "# Fisrt, we add the location of the library to test to the PYTHON path\n",
    "if sys.platform==\"cygwin\":\n",
    "    from cyglibra_core import *\n",
    "elif sys.platform==\"linux\" or sys.platform==\"linux2\":\n",
    "    from liblibra_core import *\n",
    "from libra_py import DFTB_methods\n",
    "from libra_py import units\n"
   ]
  },
  {
   "cell_type": "code",
   "execution_count": 3,
   "metadata": {},
   "outputs": [
    {
     "data": {
      "text/plain": [
       "0"
      ]
     },
     "execution_count": 3,
     "metadata": {},
     "output_type": "execute_result"
    }
   ],
   "source": [
    "EXE = \"/mnt/c/cygwin/home/Alexey-user/Soft/dftb/dftbplus-18.2.x86_64-linux/bin/dftb+\"\n",
    "os.system(\"cp dftb_in_forces.hsd dftb_in.hsd\")\n",
    "os.system( \"%s\" % EXE )"
   ]
  },
  {
   "cell_type": "code",
   "execution_count": 5,
   "metadata": {},
   "outputs": [
    {
     "name": "stdout",
     "output_type": "stream",
     "text": [
      "0.1291666177 [[-0.007348489026, 1.3285e-08, 0.013865791162], [-0.001850543999, -1.3964e-08, -0.041131782054], [0.019541167631, 1.7366e-08, 0.014044844366], [0.075270926108, -7.185e-09, -0.034690095688], [-0.056740114212, 5.663e-09, 0.044310243685], [-0.010187429078, -4.073e-09, 0.037390597496], [-0.028910725633, 3.1e-10, -0.040566828305], [0.051840898056, 5.138e-09, -0.075780268394], [-0.036392750554, -1.855e-09, 0.080236316112], [-0.018867220947, 1.548e-09, 0.008199330693], [0.011274712089, -1.092e-09, 0.006624007109], [-0.010208616591, -5.68e-10, 0.000222541701], [-0.005952777482, -1.635e-09, 0.016363602318], [0.029932063643, -2.6519e-08, -0.016249991829], [-0.014017411644, -1.0813e-08, -0.010445385734], [-0.136629683311, 1.14737e-06, -0.051658234902], [0.152243091859, -1.123206e-06, -0.030959319006], [-0.046823316479, 2.86935e-07, 0.050267296343], [0.039866044462, -5.9983e-08, -0.094147316383], [-0.011282624811, -2.3337e-07, 0.072780333506], [0.126958553936, -1.124483e-06, 0.002816869687], [-0.14657331686, 4.013891e-06, -0.050726769895], [-0.013204031314, 1.7075e-08, 0.108487858705], [0.00382043844, 1.0141661e-05, 0.010368332739], [0.01465064718, -1.6872e-08, 0.004007897792], [0.011571405611, -5.1669e-08, -0.006253874086], [0.009821160276, 5.07546e-07, -0.003067413322], [-0.002613604546, -0.005034689629, -0.005774792536], [-0.002620570664, 0.005019841056, -0.005767416448], [0.003432117858, 1.36807e-06, -0.002766374833]]\n"
     ]
    }
   ],
   "source": [
    "E_ex, F, Flst = DFTB_methods.get_energy_forces(\"detailed.out\", 30)\n",
    "print E_ex, Flst"
   ]
  },
  {
   "cell_type": "code",
   "execution_count": 7,
   "metadata": {},
   "outputs": [
    {
     "data": {
      "text/plain": [
       "0"
      ]
     },
     "execution_count": 7,
     "metadata": {},
     "output_type": "execute_result"
    }
   ],
   "source": [
    "os.system(\"cp dftb_in_ham.hsd dftb_in.hsd\")\n",
    "os.system( \"%s\" % EXE )"
   ]
  },
  {
   "cell_type": "code",
   "execution_count": 8,
   "metadata": {},
   "outputs": [
    {
     "name": "stdout",
     "output_type": "stream",
     "text": [
      "87 1\n"
     ]
    }
   ],
   "source": [
    "act_sp = range(0,87)\n",
    "H = DFTB_methods.get_dftb_matrices(\"hamsqr1.dat\", act_sp, act_sp)"
   ]
  },
  {
   "cell_type": "code",
   "execution_count": 9,
   "metadata": {},
   "outputs": [
    {
     "data": {
      "text/plain": [
       "0"
      ]
     },
     "execution_count": 9,
     "metadata": {},
     "output_type": "execute_result"
    }
   ],
   "source": [
    "os.system(\"cp dftb_in_overlaps.hsd dftb_in.hsd\")\n",
    "os.system( \"%s\" % EXE )"
   ]
  },
  {
   "cell_type": "code",
   "execution_count": 39,
   "metadata": {},
   "outputs": [
    {
     "name": "stdout",
     "output_type": "stream",
     "text": [
      "174 1\n",
      "True\n"
     ]
    }
   ],
   "source": [
    "as2 = range(0,174)\n",
    "S = DFTB_methods.get_dftb_matrices(\"oversqr.dat\", as2, as2)"
   ]
  },
  {
   "cell_type": "code",
   "execution_count": 40,
   "metadata": {},
   "outputs": [],
   "source": [
    "S00 = CMATRIX(87, 87)\n",
    "E00 = CMATRIX(87, 87)\n",
    "C00 = CMATRIX(87, 87)\n",
    "\n",
    "pop_submatrix(S[0], S00, act_sp, act_sp)"
   ]
  },
  {
   "cell_type": "code",
   "execution_count": 41,
   "metadata": {},
   "outputs": [],
   "source": [
    "H[0].real().show_matrix(\"Ham_re.txt\")\n",
    "H[0].imag().show_matrix(\"Ham_im.txt\")\n",
    "#solve_eigen(H[0], S00, E00, C00, 0)"
   ]
  },
  {
   "cell_type": "code",
   "execution_count": 42,
   "metadata": {},
   "outputs": [],
   "source": [
    "S00.real().show_matrix(\"S_re.txt\")\n",
    "S00.imag().show_matrix(\"S_im.txt\")\n",
    "\n",
    "S[0].real().show_matrix(\"S0_re.txt\")\n",
    "S[0].imag().show_matrix(\"S0_im.txt\")"
   ]
  },
  {
   "cell_type": "code",
   "execution_count": 43,
   "metadata": {},
   "outputs": [
    {
     "name": "stdout",
     "output_type": "stream",
     "text": [
      "174\n",
      "87\n"
     ]
    }
   ],
   "source": [
    "print S[0].num_of_cols\n",
    "print S00.num_of_cols"
   ]
  },
  {
   "cell_type": "code",
   "execution_count": 17,
   "metadata": {},
   "outputs": [
    {
     "name": "stdout",
     "output_type": "stream",
     "text": [
      "[0, 1, 2, 3, 4, 5, 6, 7, 8, 9, 10, 11, 12, 13, 14, 15, 16, 17, 18, 19, 20, 21, 22, 23, 24, 25, 26, 27, 28, 29, 30, 31, 32, 33, 34, 35, 36, 37, 38, 39, 40, 41, 42, 43, 44, 45, 46, 47, 48, 49, 50, 51, 52, 53, 54, 55, 56, 57, 58, 59, 60, 61, 62, 63, 64, 65, 66, 67, 68, 69, 70, 71, 72, 73, 74, 75, 76, 77, 78, 79, 80, 81, 82, 83, 84, 85, 86]\n"
     ]
    }
   ],
   "source": [
    "print act_sp"
   ]
  },
  {
   "cell_type": "code",
   "execution_count": 21,
   "metadata": {},
   "outputs": [
    {
     "name": "stdout",
     "output_type": "stream",
     "text": [
      "174\n"
     ]
    }
   ],
   "source": [
    "f = open(\"S0_re.txt\")\n",
    "A = f.readlines()\n",
    "f.close()\n",
    "\n",
    "print len(A[16].split())"
   ]
  },
  {
   "cell_type": "code",
   "execution_count": 44,
   "metadata": {},
   "outputs": [],
   "source": [
    "solve_eigen(H[0], S00, E00, C00, 0)"
   ]
  },
  {
   "cell_type": "code",
   "execution_count": 45,
   "metadata": {},
   "outputs": [],
   "source": [
    "E00.real().show_matrix(\"E_re.txt\")\n",
    "E00.imag().show_matrix(\"E_im.txt\")"
   ]
  },
  {
   "cell_type": "code",
   "execution_count": 46,
   "metadata": {},
   "outputs": [],
   "source": [
    "C00.real().show_matrix(\"C_re.txt\")\n",
    "C00.imag().show_matrix(\"C_im.txt\")"
   ]
  },
  {
   "cell_type": "code",
   "execution_count": 47,
   "metadata": {},
   "outputs": [],
   "source": [
    "I = C00.H() * S00 * C00\n",
    "I.show_matrix(\"C-H_S_C.txt\")"
   ]
  },
  {
   "cell_type": "code",
   "execution_count": null,
   "metadata": {},
   "outputs": [],
   "source": []
  }
 ],
 "metadata": {
  "kernelspec": {
   "display_name": "Python 2",
   "language": "python",
   "name": "python2"
  },
  "language_info": {
   "codemirror_mode": {
    "name": "ipython",
    "version": 2
   },
   "file_extension": ".py",
   "mimetype": "text/x-python",
   "name": "python",
   "nbconvert_exporter": "python",
   "pygments_lexer": "ipython2",
   "version": "2.7.15"
  }
 },
 "nbformat": 4,
 "nbformat_minor": 2
}
