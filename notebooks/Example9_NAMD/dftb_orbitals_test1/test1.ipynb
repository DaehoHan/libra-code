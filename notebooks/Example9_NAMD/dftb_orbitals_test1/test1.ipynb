{
 "cells": [
  {
   "cell_type": "code",
   "execution_count": 1,
   "metadata": {},
   "outputs": [
    {
     "name": "stderr",
     "output_type": "stream",
     "text": [
      "/home/alexey/miniconda2/envs/libra/lib/python2.7/site-packages/ipykernel_launcher.py:8: RuntimeWarning: to-Python converter for std::vector<std::complex<double>, std::allocator<std::complex<double> > > already registered; second conversion method ignored.\n",
      "  \n",
      "/home/alexey/miniconda2/envs/libra/lib/python2.7/site-packages/ipykernel_launcher.py:8: RuntimeWarning: to-Python converter for std::vector<std::vector<int, std::allocator<int> >, std::allocator<std::vector<int, std::allocator<int> > > > already registered; second conversion method ignored.\n",
      "  \n",
      "/home/alexey/miniconda2/envs/libra/lib/python2.7/site-packages/ipykernel_launcher.py:8: RuntimeWarning: to-Python converter for boost::python::detail::container_element<std::vector<std::vector<int, std::allocator<int> >, std::allocator<std::vector<int, std::allocator<int> > > >, unsigned long, boost::python::detail::final_vector_derived_policies<std::vector<std::vector<int, std::allocator<int> >, std::allocator<std::vector<int, std::allocator<int> > > >, false> > already registered; second conversion method ignored.\n",
      "  \n",
      "/home/alexey/miniconda2/envs/libra/lib/python2.7/site-packages/ipykernel_launcher.py:8: RuntimeWarning: to-Python converter for std::vector<std::vector<float, std::allocator<float> >, std::allocator<std::vector<float, std::allocator<float> > > > already registered; second conversion method ignored.\n",
      "  \n",
      "/home/alexey/miniconda2/envs/libra/lib/python2.7/site-packages/ipykernel_launcher.py:8: RuntimeWarning: to-Python converter for boost::python::detail::container_element<std::vector<std::vector<float, std::allocator<float> >, std::allocator<std::vector<float, std::allocator<float> > > >, unsigned long, boost::python::detail::final_vector_derived_policies<std::vector<std::vector<float, std::allocator<float> >, std::allocator<std::vector<float, std::allocator<float> > > >, false> > already registered; second conversion method ignored.\n",
      "  \n",
      "/home/alexey/miniconda2/envs/libra/lib/python2.7/site-packages/ipykernel_launcher.py:8: RuntimeWarning: to-Python converter for std::vector<std::vector<double, std::allocator<double> >, std::allocator<std::vector<double, std::allocator<double> > > > already registered; second conversion method ignored.\n",
      "  \n",
      "/home/alexey/miniconda2/envs/libra/lib/python2.7/site-packages/ipykernel_launcher.py:8: RuntimeWarning: to-Python converter for boost::python::detail::container_element<std::vector<std::vector<double, std::allocator<double> >, std::allocator<std::vector<double, std::allocator<double> > > >, unsigned long, boost::python::detail::final_vector_derived_policies<std::vector<std::vector<double, std::allocator<double> >, std::allocator<std::vector<double, std::allocator<double> > > >, false> > already registered; second conversion method ignored.\n",
      "  \n",
      "/home/alexey/miniconda2/envs/libra/lib/python2.7/site-packages/ipykernel_launcher.py:8: RuntimeWarning: to-Python converter for boost::python::detail::container_element<std::vector<std::vector<std::complex<double>, std::allocator<std::complex<double> > >, std::allocator<std::vector<std::complex<double>, std::allocator<std::complex<double> > > > >, unsigned long, boost::python::detail::final_vector_derived_policies<std::vector<std::vector<std::complex<double>, std::allocator<std::complex<double> > >, std::allocator<std::vector<std::complex<double>, std::allocator<std::complex<double> > > > >, false> > already registered; second conversion method ignored.\n",
      "  \n"
     ]
    }
   ],
   "source": [
    "import os\n",
    "import sys\n",
    "\n",
    "# Fisrt, we add the location of the library to test to the PYTHON path\n",
    "if sys.platform==\"cygwin\":\n",
    "    from cyglibra_core import *\n",
    "elif sys.platform==\"linux\" or sys.platform==\"linux2\":\n",
    "    from liblibra_core import *\n",
    "from libra_py import DFTB_methods\n",
    "from libra_py import units\n"
   ]
  },
  {
   "cell_type": "markdown",
   "metadata": {},
   "source": [
    "## 1. Calculations of the H and S for a single geometry"
   ]
  },
  {
   "cell_type": "code",
   "execution_count": 2,
   "metadata": {},
   "outputs": [],
   "source": [
    "EXE = \"/mnt/c/cygwin/home/Alexey-user/Soft/dftb/dftbplus-18.2.x86_64-linux/bin/dftb+\"\n",
    "md_file = \"md.xyz\"\n",
    "sp_gen_file = \"x1.gen\"\n",
    "syst_spec = \"C\"\n",
    "scf_in_file = \"dftb_in_ham1.hsd\"\n",
    "hs_in_file = \"dftb_in_ham2.hsd\""
   ]
  },
  {
   "cell_type": "markdown",
   "metadata": {},
   "source": [
    "Generate the \"x1.gen\" file"
   ]
  },
  {
   "cell_type": "code",
   "execution_count": 3,
   "metadata": {},
   "outputs": [],
   "source": [
    "i = 0\n",
    "DFTB_methods.xyz_traj2gen_sp(md_file, sp_gen_file, i, syst_spec)"
   ]
  },
  {
   "cell_type": "markdown",
   "metadata": {},
   "source": [
    "Run SCF calculations and generate the charge density for a converged calculations.\n",
    "\n",
    "The file x1.gen is used as a geometry.\n",
    "\n",
    "Generate:\n",
    "\n",
    "* autotest.tag\n",
    "* band.out\n",
    "* charges.bin\n",
    "* detailed.out\n",
    "* dftb_in.hsd\n",
    "* dftb_pin.hsd\n",
    "* eigenvec.bin\n",
    "* eigenvec.out"
   ]
  },
  {
   "cell_type": "code",
   "execution_count": 4,
   "metadata": {
    "scrolled": true
   },
   "outputs": [
    {
     "data": {
      "text/plain": [
       "0"
      ]
     },
     "execution_count": 4,
     "metadata": {},
     "output_type": "execute_result"
    }
   ],
   "source": [
    "os.system(\"cp %s dftb_in.hsd\" % scf_in_file )\n",
    "os.system( \"%s\" % EXE )"
   ]
  },
  {
   "cell_type": "markdown",
   "metadata": {},
   "source": [
    "Lets clean up the directory a bit - move all the produced files to a separate folder"
   ]
  },
  {
   "cell_type": "code",
   "execution_count": 5,
   "metadata": {},
   "outputs": [],
   "source": [
    "os.system( \"rm -r calc1\")\n",
    "os.system( \"mkdir calc1\")\n",
    "files = [\"autotest.tag\", \"band.out\", \"charges.bin\", \"detailed.out\",\n",
    "         \"dftb_in.hsd\", \"dftb_pin.hsd\", \"eigenvec.bin\", \"eigenvec.out\"]\n",
    "for it in files:\n",
    "    os.system( \"mv %s calc1\" % it)"
   ]
  },
  {
   "cell_type": "markdown",
   "metadata": {},
   "source": [
    "We need the charges.bin, so lets copy it back\n",
    "\n",
    "Then - just generate the Hamiltonian corresponding to the converged density matrix."
   ]
  },
  {
   "cell_type": "code",
   "execution_count": 6,
   "metadata": {},
   "outputs": [
    {
     "data": {
      "text/plain": [
       "0"
      ]
     },
     "execution_count": 6,
     "metadata": {},
     "output_type": "execute_result"
    }
   ],
   "source": [
    "os.system(\"cp calc1/charges.bin .\")\n",
    "\n",
    "os.system(\"cp %s dftb_in.hsd\" % hs_in_file )\n",
    "os.system( \"%s\" % EXE )"
   ]
  },
  {
   "cell_type": "markdown",
   "metadata": {},
   "source": [
    "As before - lets move all the generated files into another directory"
   ]
  },
  {
   "cell_type": "code",
   "execution_count": 7,
   "metadata": {},
   "outputs": [],
   "source": [
    "os.system( \"rm -r calc2\")\n",
    "os.system( \"mkdir calc2\")\n",
    "files = [\"band.out\", \"charges.bin\", \"detailed.out\",\n",
    "         \"dftb_in.hsd\", \"dftb_pin.hsd\", \"hamsqr1.dat\", \"oversqr.dat\"]\n",
    "for it in files:\n",
    "    os.system( \"mv %s calc2\" % it)"
   ]
  },
  {
   "cell_type": "markdown",
   "metadata": {},
   "source": [
    "Read the converged Hamiltonian - constructed using the converged charge density\n",
    "\n",
    "Read the AO overlap matrix"
   ]
  },
  {
   "cell_type": "code",
   "execution_count": 8,
   "metadata": {},
   "outputs": [],
   "source": [
    "Hi = DFTB_methods.get_dftb_matrices(\"calc2/hamsqr1.dat\")\n",
    "Si = DFTB_methods.get_dftb_matrices(\"calc2/oversqr.dat\")"
   ]
  },
  {
   "cell_type": "code",
   "execution_count": 9,
   "metadata": {},
   "outputs": [],
   "source": [
    "# Get the dimensions\n",
    "ao_sz = Hi[0].num_of_cols\n",
    "mo_sz = ao_sz\n",
    "\n",
    "ao_act_sp = range(0, ao_sz)\n",
    "mo_act_sp = range(0, mo_sz)"
   ]
  },
  {
   "cell_type": "markdown",
   "metadata": {},
   "source": [
    "Extract submatrix of the orbitals of interest\n",
    "\n",
    "Solve the eigenvalue problem and get the orbitals"
   ]
  },
  {
   "cell_type": "code",
   "execution_count": 10,
   "metadata": {},
   "outputs": [],
   "source": [
    "# Extract the sub-matrix of interest\n",
    "H_sub = CMATRIX(ao_sz, mo_sz)\n",
    "pop_submatrix(Hi[0], H_sub, ao_act_sp, mo_act_sp)  # last element #0 = gamma-point\n",
    "\n",
    "# Get the orbitals\n",
    "Ei = CMATRIX(mo_sz, mo_sz)\n",
    "MOi = CMATRIX(ao_sz, mo_sz)\n",
    "solve_eigen(H_sub, Si[0], Ei, MOi, 0)     # last element #0 = gamma-point"
   ]
  },
  {
   "cell_type": "markdown",
   "metadata": {},
   "source": [
    "Lets print out the orbitals and compare the what DFTB+ gives"
   ]
  },
  {
   "cell_type": "code",
   "execution_count": 11,
   "metadata": {},
   "outputs": [],
   "source": [
    "MOi.show_matrix(\"MOs.txt\")"
   ]
  },
  {
   "cell_type": "code",
   "execution_count": 12,
   "metadata": {},
   "outputs": [],
   "source": [
    "f = open(\"MO.0.txt\", \"w\")\n",
    "\n",
    "for i in xrange(ao_sz):\n",
    "    f.write(\"%i %10.8f %10.8f \\n\" % (i,  MOi.get(i,0).real,  MOi.get(i,0).imag) )\n",
    "f.close()"
   ]
  },
  {
   "cell_type": "markdown",
   "metadata": {},
   "source": [
    "One can then compare the content of the generated files (feel free to change the index of the MO) to the content of the file calc1/eigenvec.out"
   ]
  },
  {
   "cell_type": "markdown",
   "metadata": {},
   "source": [
    "## 2. Calculation of the transition density matrix"
   ]
  },
  {
   "cell_type": "markdown",
   "metadata": {},
   "source": [
    "Generate \"x2.gen\" file"
   ]
  },
  {
   "cell_type": "code",
   "execution_count": 13,
   "metadata": {},
   "outputs": [],
   "source": [
    "ovlp_gen_file = \"x2.gen\"\n",
    "ovlp_in_file = \"dftb_in_overlaps.hsd\"\n",
    "\n",
    "i = 0\n",
    "DFTB_methods.xyz_traj2gen_ovlp(md_file, ovlp_gen_file, i, i+1, syst_spec)"
   ]
  },
  {
   "cell_type": "markdown",
   "metadata": {},
   "source": [
    "Run the calculations on the super-molecule. Only to generate the overlap matrix in the AO basis"
   ]
  },
  {
   "cell_type": "code",
   "execution_count": 14,
   "metadata": {},
   "outputs": [
    {
     "data": {
      "text/plain": [
       "0"
      ]
     },
     "execution_count": 14,
     "metadata": {},
     "output_type": "execute_result"
    }
   ],
   "source": [
    "os.system(\"cp %s dftb_in.hsd\" % ovlp_in_file)\n",
    "os.system( \"%s\" % EXE )"
   ]
  },
  {
   "cell_type": "markdown",
   "metadata": {},
   "source": [
    "As before - organize the generated files into a separate directory"
   ]
  },
  {
   "cell_type": "code",
   "execution_count": 15,
   "metadata": {},
   "outputs": [],
   "source": [
    "os.system( \"rm -r calc3\")\n",
    "os.system( \"mkdir calc3\")\n",
    "files = [\"band.out\", \"detailed.out\", \"dftb_in.hsd\", \"dftb_pin.hsd\", \"hamsqr1.dat\", \"oversqr.dat\"]\n",
    "for it in files:\n",
    "    os.system( \"mv %s calc3\" % it)"
   ]
  },
  {
   "cell_type": "markdown",
   "metadata": {},
   "source": [
    "Read the supermatrix and split it into blocks:"
   ]
  },
  {
   "cell_type": "code",
   "execution_count": 16,
   "metadata": {},
   "outputs": [],
   "source": [
    "St = DFTB_methods.get_dftb_matrices(\"calc3/oversqr.dat\")\n",
    "\n",
    "ao_sz2 = St[0].num_of_cols/2\n",
    "\n",
    "block0 = range(0, ao_sz2)\n",
    "block1 = range(ao_sz2, 2*ao_sz2)\n",
    "\n",
    "\n",
    "S00 = CMATRIX(ao_sz2, ao_sz2)\n",
    "S01 = CMATRIX(ao_sz2, ao_sz2)\n",
    "S10 = CMATRIX(ao_sz2, ao_sz2)\n",
    "S11 = CMATRIX(ao_sz2, ao_sz2)\n",
    "\n",
    "pop_submatrix(St[0], S00, block0, block0) \n",
    "pop_submatrix(St[0], S01, block0, block1) \n",
    "pop_submatrix(St[0], S10, block1, block0) \n",
    "pop_submatrix(St[0], S11, block1, block1) "
   ]
  },
  {
   "cell_type": "code",
   "execution_count": 17,
   "metadata": {},
   "outputs": [],
   "source": [
    "S00.real().show_matrix(\"S00.txt\")\n",
    "S01.real().show_matrix(\"S01.txt\")\n",
    "S10.real().show_matrix(\"S10.txt\")\n",
    "S11.real().show_matrix(\"S11.txt\")"
   ]
  },
  {
   "cell_type": "code",
   "execution_count": null,
   "metadata": {},
   "outputs": [],
   "source": []
  }
 ],
 "metadata": {
  "kernelspec": {
   "display_name": "Python 2",
   "language": "python",
   "name": "python2"
  },
  "language_info": {
   "codemirror_mode": {
    "name": "ipython",
    "version": 2
   },
   "file_extension": ".py",
   "mimetype": "text/x-python",
   "name": "python",
   "nbconvert_exporter": "python",
   "pygments_lexer": "ipython2",
   "version": "2.7.15"
  }
 },
 "nbformat": 4,
 "nbformat_minor": 2
}
