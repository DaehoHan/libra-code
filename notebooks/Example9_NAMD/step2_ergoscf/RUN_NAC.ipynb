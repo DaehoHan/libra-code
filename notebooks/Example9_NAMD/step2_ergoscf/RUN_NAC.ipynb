{
 "cells": [
  {
   "cell_type": "markdown",
   "metadata": {},
   "source": [
    "## Step2 with ErgoSCF"
   ]
  },
  {
   "cell_type": "code",
   "execution_count": 6,
   "metadata": {
    "scrolled": false
   },
   "outputs": [],
   "source": [
    "import os\n",
    "import sys\n",
    "\n",
    "# Fisrt, we add the location of the library to test to the PYTHON path\n",
    "if sys.platform==\"cygwin\":\n",
    "    from cyglibra_core import *\n",
    "elif sys.platform==\"linux\" or sys.platform==\"linux2\":\n",
    "    from liblibra_core import *\n",
    "import util.libutil as comn\n",
    "from libra_py import ERGO_methods\n",
    "from libra_py import units\n",
    "from libra_py.workflows.nbra import step2_ergoscf\n"
   ]
  },
  {
   "cell_type": "markdown",
   "metadata": {},
   "source": [
    "Define the function to run the ErgosCF calculations for each geometry. This function essentially defines the core of the input file to the ErgoSCF code. Only the coordinates and the name of the executable may be changed.\n",
    "\n",
    "Note the \"Angstrom\" keyword following the \"molecule_inline\" - it indicates that the input is provided in Angstrom units.\n",
    "\n",
    "If your input (e.g. in the xyz trajectory file) is in the a.u. (Bohr) units, just remove the \"Angstrom\" keyword"
   ]
  },
  {
   "cell_type": "code",
   "execution_count": 7,
   "metadata": {},
   "outputs": [],
   "source": [
    "def run(EXE, COORDS):\n",
    "    inp = \"\"\"#!bin/sh\n",
    "%s << EOINPUT > /dev/null\n",
    "spin_polarization = 0\n",
    "molecule_inline Angstrom\n",
    "%sEOF\n",
    "basis = \"STO-3G\"\n",
    "use_simple_starting_guess=1\n",
    "scf.create_mtx_files_F = 1\n",
    "scf.create_mtx_file_S = 1\n",
    "XC.sparse_mode = 1\n",
    "run \"LDA\"\n",
    "EOINPUT\n",
    "\"\"\" % (EXE, COORDS)\n",
    "    return inp"
   ]
  },
  {
   "cell_type": "markdown",
   "metadata": {},
   "source": [
    "Also define how to run the calculations for the \"weird\" geometry, when two snapshots are overlapped and form a \"super-molecule\". In this case, we don't really need to print out the Fock matrices"
   ]
  },
  {
   "cell_type": "code",
   "execution_count": 8,
   "metadata": {},
   "outputs": [],
   "source": [
    "def run1(EXE, COORDS):\n",
    "    inp = \"\"\"#!bin/sh\n",
    "%s << EOINPUT > /dev/null\n",
    "spin_polarization = 0\n",
    "molecule_inline Angstrom\n",
    "%sEOF\n",
    "basis = \"STO-3G\"\n",
    "use_simple_starting_guess=1\n",
    "scf.create_mtx_file_S = 1\n",
    "XC.sparse_mode = 1\n",
    "run \"LDA\"\n",
    "EOINPUT\n",
    "\"\"\" % (EXE, COORDS)\n",
    "    return inp"
   ]
  },
  {
   "cell_type": "markdown",
   "metadata": {},
   "source": [
    "Ok, so now we can run the step2 calculations! Just create the \"res\" dir, since this is where the results will be printed out"
   ]
  },
  {
   "cell_type": "code",
   "execution_count": 9,
   "metadata": {},
   "outputs": [],
   "source": [
    "params = {\"EXE\":\"/mnt/c/cygwin/home/Alexey-user/Soft/ergo-3.7/source/ergo\", \"md_file\":\"md1.xyz\",\n",
    "          \"isnap\":0, \"fsnap\":5, \"dt\": 1.0 * units.fs2au\n",
    "         }\n",
    "\n",
    "os.system(\"mkdir res\")\n",
    "step2_ergoscf.run_step2(params, run, run1)"
   ]
  },
  {
   "cell_type": "markdown",
   "metadata": {},
   "source": [
    "## Other examples (run for the debug purposes)"
   ]
  },
  {
   "cell_type": "markdown",
   "metadata": {},
   "source": [
    "If we jneed to run an SCF calculations for a singe geometry"
   ]
  },
  {
   "cell_type": "code",
   "execution_count": 30,
   "metadata": {},
   "outputs": [],
   "source": [
    "def run2(EXE, COORDS):\n",
    "    inp = \"\"\"#!bin/sh\n",
    "%s << EOINPUT > /dev/null\n",
    "spin_polarization = 0\n",
    "molecule_inline \n",
    "%sEOF\n",
    "basis = \"STO-3G\"\n",
    "scf.create_basis_func_coord_file = 1\n",
    "scf.create_mtx_files_S_and_quit = 1\n",
    "XC.sparse_mode = 1\n",
    "run \"LDA\"\n",
    "EOINPUT\n",
    "\"\"\" % (EXE, COORDS)\n",
    "    \n",
    "    print inp\n",
    "    return inp"
   ]
  },
  {
   "cell_type": "code",
   "execution_count": 10,
   "metadata": {},
   "outputs": [
    {
     "ename": "NameError",
     "evalue": "name 'run2' is not defined",
     "output_type": "error",
     "traceback": [
      "\u001b[0;31m---------------------------------------------------------------------------\u001b[0m",
      "\u001b[0;31mNameError\u001b[0m                                 Traceback (most recent call last)",
      "\u001b[0;32m<ipython-input-10-50ae8c1ed0c2>\u001b[0m in \u001b[0;36m<module>\u001b[0;34m()\u001b[0m\n\u001b[1;32m      2\u001b[0m \u001b[0mi\u001b[0m \u001b[0;34m=\u001b[0m \u001b[0;36m0\u001b[0m\u001b[0;34m\u001b[0m\u001b[0m\n\u001b[1;32m      3\u001b[0m \u001b[0;34m\u001b[0m\u001b[0m\n\u001b[0;32m----> 4\u001b[0;31m \u001b[0mE\u001b[0m\u001b[0;34m,\u001b[0m \u001b[0mMO\u001b[0m \u001b[0;34m=\u001b[0m \u001b[0mstep2_ergoscf\u001b[0m\u001b[0;34m.\u001b[0m\u001b[0mdo_step\u001b[0m\u001b[0;34m(\u001b[0m\u001b[0mi\u001b[0m\u001b[0;34m,\u001b[0m \u001b[0mparams\u001b[0m\u001b[0;34m,\u001b[0m \u001b[0mrun2\u001b[0m\u001b[0;34m)\u001b[0m\u001b[0;34m\u001b[0m\u001b[0m\n\u001b[0m",
      "\u001b[0;31mNameError\u001b[0m: name 'run2' is not defined"
     ]
    }
   ],
   "source": [
    "params = {\"EXE\":\"/mnt/c/cygwin/home/Alexey-user/Soft/ergo-3.7/source/ergo\", \"md_file\":\"md1.xyz\"}\n",
    "i = 0\n",
    "\n",
    "E, MO = step2_ergoscf.do_step(i, params, run2)"
   ]
  },
  {
   "cell_type": "markdown",
   "metadata": {},
   "source": [
    "And we can print out the resulting matrices into a file"
   ]
  },
  {
   "cell_type": "code",
   "execution_count": null,
   "metadata": {},
   "outputs": [],
   "source": [
    "E.show_matrix(\"E0.txt\")\n",
    "MO.show_matrix(\"MO.txt\")"
   ]
  },
  {
   "cell_type": "markdown",
   "metadata": {},
   "source": [
    "Here is another example - just to submit the ErgoSCF calculation for a given geometry and run type"
   ]
  },
  {
   "cell_type": "code",
   "execution_count": null,
   "metadata": {
    "scrolled": false
   },
   "outputs": [],
   "source": [
    "EXE = \"/mnt/c/cygwin/home/Alexey-user/Soft/ergo-3.7/source/ergo\"\n",
    "R = ERGO_methods.xyz_traj2gen_sp(\"md1.xyz\", 0)\n",
    "command = run2(EXE, R)\n",
    "print command\n",
    "os.system(\"%s\" % (command))"
   ]
  },
  {
   "cell_type": "markdown",
   "metadata": {},
   "source": [
    "We can read the produced matrices - in this case the Fock matrices. And we can specify which section of the matrix we want to read"
   ]
  },
  {
   "cell_type": "code",
   "execution_count": null,
   "metadata": {},
   "outputs": [],
   "source": [
    "F = ERGO_methods.get_mtx_matrices(\"F_matrix_11.mtx\")\n",
    "F.show_matrix(\"F.txt\")\n",
    "\n",
    "F3 = ERGO_methods.get_mtx_matrices(\"F_matrix_11.mtx\", [0,1,2], [0,1,2])\n",
    "F3.show_matrix(\"Fa.txt\")"
   ]
  },
  {
   "cell_type": "markdown",
   "metadata": {},
   "source": [
    "Among a series of the Fock matrices, find the last one"
   ]
  },
  {
   "cell_type": "code",
   "execution_count": null,
   "metadata": {},
   "outputs": [],
   "source": [
    "print ERGO_methods.find_last_file(\"F_matrix_\", \".mtx\")"
   ]
  },
  {
   "cell_type": "markdown",
   "metadata": {},
   "source": [
    "Get a geometry for a \"super-molecule\" composed of two snapshots"
   ]
  },
  {
   "cell_type": "code",
   "execution_count": 13,
   "metadata": {},
   "outputs": [
    {
     "name": "stdout",
     "output_type": "stream",
     "text": [
      " Li      0.00000000       0.00000000       0.00000000\n",
      " H      0.00000000       0.00000000       1.33200000\n",
      " Li      0.00000000       0.00000000       0.00000000\n",
      " H      0.00000000       0.00000000       1.33200000\n",
      "\n"
     ]
    }
   ],
   "source": [
    "i = 0\n",
    "R = ERGO_methods.xyz_traj2gen_ovlp(\"md1.xyz\", i, i+1)\n",
    "print R"
   ]
  },
  {
   "cell_type": "markdown",
   "metadata": {},
   "source": [
    "Here is an example to run the calculation of the overlap matrix between AOs in the two adjacent geometries"
   ]
  },
  {
   "cell_type": "code",
   "execution_count": 36,
   "metadata": {},
   "outputs": [],
   "source": [
    "def do_ovlp_test(i, params, run):\n",
    "    \"\"\"\n",
    "\n",
    "    Compute the overlap matrix in the AO basis for two geometries, i and i+1\n",
    "\n",
    "    Args:\n",
    "        i ( int ): index of the time step to be used from the trajectory file\n",
    "        params ( dictionary ): the control parameters of the simulation\n",
    "        \n",
    "            * **params[\"EXE\"]** ( string ): path to the ERGOSCF executable [ default: ergo ]\n",
    "            * **params[\"md_file\"]** ( string ): the name of the xyz file containing the trajectory - the \n",
    "                file should be in the general xyz format. [default: \"md.xyz\"]\n",
    "\n",
    "        run (Python function ): the function that defines the ErgoSCF input generation - the user \n",
    "            has to define all the control parameters in it, to be able to run the ErgoSCF calculations\n",
    "\n",
    "            Example:\n",
    "\n",
    "                In the example below, the outermost quotes should be tripled \n",
    "\n",
    "                Note: the function should follw the signature shown here\n",
    "\n",
    "                def run(EXE, COORDS):\n",
    "                    inp = \"#!bin/sh\n",
    "                %s << EOINPUT > /dev/null\n",
    "                spin_polarization = 0\n",
    "                molecule_inline\n",
    "                %sEOF\n",
    "                basis = \"STO-3G\"\n",
    "                use_simple_starting_guess=1\n",
    "                scf.create_mtx_files_F = 1\n",
    "                scf.create_mtx_file_S = 1\n",
    "                XC.sparse_mode = 1\n",
    "                run \"LDA\"\n",
    "                EOINPUT\n",
    "                \" % (EXE, COORDS)\n",
    "                    return inp\n",
    "\n",
    "    Returns:\n",
    "        CMATRIX(A, A): the matrix of the AO overlaps for two geometries, where A - is the size of the AO basis\n",
    "\n",
    "    \"\"\"\n",
    "\n",
    "    # Now try to get parameters from the input\n",
    "    critical_params = [ ] \n",
    "    default_params = { \"EXE\":\"ergo\", \"md_file\":\"md.xyz\"   }\n",
    "    comn.check_input(params, default_params, critical_params)\n",
    "    \n",
    "    # Get the parameters\n",
    "    EXE = params[\"EXE\"]\n",
    "    md_file = params[\"md_file\"]\n",
    "    \n",
    "        \n",
    "    # Make an input file for the overlap calculations \n",
    "    R = ERGO_methods.xyz_traj2gen_ovlp(md_file, i, i+1)\n",
    "    \n",
    "    # Run SCF calculations\n",
    "    command = run(EXE, R)\n",
    "    os.system(\"%s\" % (command))\n",
    "    \n",
    "    # Get the overlap matrix\n",
    "    S = ERGO_methods.get_mtx_matrices(\"S_matrix.mtx\")\n",
    "    \n",
    "    # The basis is organized as:\n",
    "    # atom 1 basis 1 (t+dt)\n",
    "    # atom 1 basis 1 (t)\n",
    "    # atom 1 basis m (t+dt)\n",
    "    # atom 1 basis m (t)\n",
    "    # ...\n",
    "    # atom n basis 1 (t+dt)\n",
    "    # atom n basis 1 (t)\n",
    "    # atom n basis m (t+dt)\n",
    "    # atom n basis m (t)\n",
    "        \n",
    "    norbs = S.num_of_cols/2\n",
    "    act_sp1 = [1, 3,5,9,10,11]\n",
    "    act_sp2 = [0, 2, 4, 6,7,8]\n",
    "    \n",
    "    \"\"\"\n",
    "    0.040000000     0.040000000     1.332000000     H (1)   1s   0\n",
    "    0.020000000     0.030000000     1.332000000     H (0)   1s   1\n",
    "    0.030000000     0.030000000     0.000000000    Li (1)   1s   2\n",
    "    0.010000000     0.020000000     0.000000000    Li (0)   1s   3\n",
    "    0.030000000     0.030000000     0.000000000    Li (1)   2s   4\n",
    "    0.010000000     0.020000000     0.000000000    Li (0)   2s   5\n",
    "    0.030000000     0.030000000     0.000000000    Li (1)   2p   6\n",
    "    0.030000000     0.030000000     0.000000000    Li (1)   2p   7\n",
    "    0.030000000     0.030000000     0.000000000    Li (1)   2p   8\n",
    "    0.010000000     0.020000000     0.000000000    Li (0)   2p   9\n",
    "    0.010000000     0.020000000     0.000000000    Li (0)   2p   10\n",
    "    0.010000000     0.020000000     0.000000000    Li (0)   2p   11\n",
    "    \"\"\"\n",
    "    \n",
    "    #for i in xrange(norbs):\n",
    "    #    act_sp1.append(2*i+1)\n",
    "    #    act_sp2.append(2*i)\n",
    "        \n",
    "    S_sub = CMATRIX(norbs, norbs)\n",
    "    pop_submatrix(S, S_sub, act_sp1, act_sp2)\n",
    "    \n",
    "    return S, S_sub    \n"
   ]
  },
  {
   "cell_type": "code",
   "execution_count": 38,
   "metadata": {},
   "outputs": [
    {
     "name": "stdout",
     "output_type": "stream",
     "text": [
      "#!bin/sh\n",
      "/mnt/c/cygwin/home/Alexey-user/Soft/ergo-3.7/source/ergo << EOINPUT > /dev/null\n",
      "spin_polarization = 0\n",
      "molecule_inline \n",
      " Li      0.00000000       0.00000000       0.00000000\n",
      " H      0.00000000       0.00000000       1.33200000\n",
      " Li      0.00000000       0.00000000       0.00000000\n",
      " H      0.00000000       0.00000000       1.33200000\n",
      "EOF\n",
      "basis = \"STO-3G\"\n",
      "scf.create_basis_func_coord_file = 1\n",
      "scf.create_mtx_files_S_and_quit = 1\n",
      "XC.sparse_mode = 1\n",
      "run \"LDA\"\n",
      "EOINPUT\n",
      "\n"
     ]
    }
   ],
   "source": [
    "params = {\"EXE\":\"/mnt/c/cygwin/home/Alexey-user/Soft/ergo-3.7/source/ergo\", \"md_file\":\"md1.xyz\"}\n",
    "i = 0\n",
    "\n",
    "S, S_sub = do_ovlp_test(i, params, run2)\n",
    "S.show_matrix(\"S.txt\")\n",
    "S_sub.show_matrix(\"S_sub.txt\")"
   ]
  },
  {
   "cell_type": "code",
   "execution_count": null,
   "metadata": {},
   "outputs": [],
   "source": []
  }
 ],
 "metadata": {
  "kernelspec": {
   "display_name": "Python 2",
   "language": "python",
   "name": "python2"
  },
  "language_info": {
   "codemirror_mode": {
    "name": "ipython",
    "version": 2
   },
   "file_extension": ".py",
   "mimetype": "text/x-python",
   "name": "python",
   "nbconvert_exporter": "python",
   "pygments_lexer": "ipython2",
   "version": "2.7.15"
  }
 },
 "nbformat": 4,
 "nbformat_minor": 2
}
