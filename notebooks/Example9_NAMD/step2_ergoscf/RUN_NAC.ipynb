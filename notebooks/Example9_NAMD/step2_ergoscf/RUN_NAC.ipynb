{
 "cells": [
  {
   "cell_type": "code",
   "execution_count": 1,
   "metadata": {
    "scrolled": false
   },
   "outputs": [
    {
     "name": "stderr",
     "output_type": "stream",
     "text": [
      "/home/alexey/miniconda2/envs/libra/lib/python2.7/site-packages/ipykernel_launcher.py:8: RuntimeWarning: to-Python converter for std::vector<std::complex<double>, std::allocator<std::complex<double> > > already registered; second conversion method ignored.\n",
      "  \n",
      "/home/alexey/miniconda2/envs/libra/lib/python2.7/site-packages/ipykernel_launcher.py:8: RuntimeWarning: to-Python converter for std::vector<std::vector<int, std::allocator<int> >, std::allocator<std::vector<int, std::allocator<int> > > > already registered; second conversion method ignored.\n",
      "  \n",
      "/home/alexey/miniconda2/envs/libra/lib/python2.7/site-packages/ipykernel_launcher.py:8: RuntimeWarning: to-Python converter for boost::python::detail::container_element<std::vector<std::vector<int, std::allocator<int> >, std::allocator<std::vector<int, std::allocator<int> > > >, unsigned long, boost::python::detail::final_vector_derived_policies<std::vector<std::vector<int, std::allocator<int> >, std::allocator<std::vector<int, std::allocator<int> > > >, false> > already registered; second conversion method ignored.\n",
      "  \n",
      "/home/alexey/miniconda2/envs/libra/lib/python2.7/site-packages/ipykernel_launcher.py:8: RuntimeWarning: to-Python converter for std::vector<std::vector<float, std::allocator<float> >, std::allocator<std::vector<float, std::allocator<float> > > > already registered; second conversion method ignored.\n",
      "  \n",
      "/home/alexey/miniconda2/envs/libra/lib/python2.7/site-packages/ipykernel_launcher.py:8: RuntimeWarning: to-Python converter for boost::python::detail::container_element<std::vector<std::vector<float, std::allocator<float> >, std::allocator<std::vector<float, std::allocator<float> > > >, unsigned long, boost::python::detail::final_vector_derived_policies<std::vector<std::vector<float, std::allocator<float> >, std::allocator<std::vector<float, std::allocator<float> > > >, false> > already registered; second conversion method ignored.\n",
      "  \n",
      "/home/alexey/miniconda2/envs/libra/lib/python2.7/site-packages/ipykernel_launcher.py:8: RuntimeWarning: to-Python converter for std::vector<std::vector<double, std::allocator<double> >, std::allocator<std::vector<double, std::allocator<double> > > > already registered; second conversion method ignored.\n",
      "  \n",
      "/home/alexey/miniconda2/envs/libra/lib/python2.7/site-packages/ipykernel_launcher.py:8: RuntimeWarning: to-Python converter for boost::python::detail::container_element<std::vector<std::vector<double, std::allocator<double> >, std::allocator<std::vector<double, std::allocator<double> > > >, unsigned long, boost::python::detail::final_vector_derived_policies<std::vector<std::vector<double, std::allocator<double> >, std::allocator<std::vector<double, std::allocator<double> > > >, false> > already registered; second conversion method ignored.\n",
      "  \n",
      "/home/alexey/miniconda2/envs/libra/lib/python2.7/site-packages/ipykernel_launcher.py:8: RuntimeWarning: to-Python converter for boost::python::detail::container_element<std::vector<std::vector<std::complex<double>, std::allocator<std::complex<double> > >, std::allocator<std::vector<std::complex<double>, std::allocator<std::complex<double> > > > >, unsigned long, boost::python::detail::final_vector_derived_policies<std::vector<std::vector<std::complex<double>, std::allocator<std::complex<double> > >, std::allocator<std::vector<std::complex<double>, std::allocator<std::complex<double> > > > >, false> > already registered; second conversion method ignored.\n",
      "  \n"
     ]
    }
   ],
   "source": [
    "import os\n",
    "import sys\n",
    "\n",
    "# Fisrt, we add the location of the library to test to the PYTHON path\n",
    "if sys.platform==\"cygwin\":\n",
    "    from cyglibra_core import *\n",
    "elif sys.platform==\"linux\" or sys.platform==\"linux2\":\n",
    "    from liblibra_core import *\n",
    "import util.libutil as comn\n",
    "from libra_py import ERGO_methods\n",
    "from libra_py import units\n",
    "from libra_py.workflows.nbra import step2_ergoscf\n"
   ]
  },
  {
   "cell_type": "code",
   "execution_count": 2,
   "metadata": {},
   "outputs": [],
   "source": [
    "def run(EXE, COORDS):\n",
    "    inp = \"\"\"#!bin/sh\n",
    "%s << EOINPUT > /dev/null\n",
    "spin_polarization = 0\n",
    "molecule_inline\n",
    "%sEOF\n",
    "basis = \"STO-3G\"\n",
    "use_simple_starting_guess=1\n",
    "scf.create_mtx_files_F = 1\n",
    "scf.create_mtx_file_S = 1\n",
    "XC.sparse_mode = 1\n",
    "run \"LDA\"\n",
    "EOINPUT\n",
    "\"\"\" % (EXE, COORDS)\n",
    "    return inp"
   ]
  },
  {
   "cell_type": "code",
   "execution_count": 3,
   "metadata": {},
   "outputs": [],
   "source": [
    "params = {\"EXE\":\"/mnt/c/cygwin/home/Alexey-user/Soft/ergo-3.7/source/ergo\", \"md_file\":\"md1.xyz\"}\n",
    "i = 0\n",
    "\n",
    "E, MO = step2_ergoscf.do_step(i, params, run)"
   ]
  },
  {
   "cell_type": "code",
   "execution_count": 4,
   "metadata": {},
   "outputs": [],
   "source": [
    "E.show_matrix(\"E0.txt\")\n",
    "MO.show_matrix(\"MO.txt\")"
   ]
  },
  {
   "cell_type": "code",
   "execution_count": 5,
   "metadata": {
    "scrolled": false
   },
   "outputs": [
    {
     "name": "stdout",
     "output_type": "stream",
     "text": [
      "#!bin/sh\n",
      "/mnt/c/cygwin/home/Alexey-user/Soft/ergo-3.7/source/ergo << EOINPUT > /dev/null\n",
      "spin_polarization = 0\n",
      "molecule_inline\n",
      " Li      0.00000000       0.00000000       0.00000000\n",
      " H      0.00000000       0.00000000       1.33200000\n",
      "EOF\n",
      "basis = \"STO-3G\"\n",
      "use_simple_starting_guess=1\n",
      "scf.create_mtx_files_F = 1\n",
      "scf.create_mtx_file_S = 1\n",
      "XC.sparse_mode = 1\n",
      "run \"LDA\"\n",
      "EOINPUT\n",
      "\n"
     ]
    },
    {
     "data": {
      "text/plain": [
       "0"
      ]
     },
     "execution_count": 5,
     "metadata": {},
     "output_type": "execute_result"
    }
   ],
   "source": [
    "EXE = \"/mnt/c/cygwin/home/Alexey-user/Soft/ergo-3.7/source/ergo\"\n",
    "R = ERGO_methods.xyz_traj2gen_sp(\"md1.xyz\", 0)\n",
    "command = run(EXE, R)\n",
    "print command\n",
    "os.system(\"%s\" % (command))"
   ]
  },
  {
   "cell_type": "code",
   "execution_count": 6,
   "metadata": {},
   "outputs": [],
   "source": [
    "F = ERGO_methods.get_mtx_matrices(\"F_matrix_11.mtx\")\n",
    "F.show_matrix(\"F.txt\")\n",
    "\n",
    "F3 = ERGO_methods.get_mtx_matrices(\"F_matrix_11.mtx\", [0,1,2], [0,1,2])\n",
    "F3.show_matrix(\"Fa.txt\")"
   ]
  },
  {
   "cell_type": "code",
   "execution_count": 7,
   "metadata": {},
   "outputs": [
    {
     "name": "stdout",
     "output_type": "stream",
     "text": [
      "(12, 'F_matrix_12.mtx')\n"
     ]
    }
   ],
   "source": [
    "print ERGO_methods.find_last_file(\"F_matrix_\", \".mtx\")"
   ]
  },
  {
   "cell_type": "code",
   "execution_count": 8,
   "metadata": {},
   "outputs": [],
   "source": [
    "i = 0\n",
    "R = ERGO_methods.xyz_traj2gen_ovlp(\"md1.xyz\", i, i+1)"
   ]
  },
  {
   "cell_type": "code",
   "execution_count": 9,
   "metadata": {},
   "outputs": [
    {
     "name": "stdout",
     "output_type": "stream",
     "text": [
      " Li      0.00000000       0.00000000       0.00000000\n",
      " H      0.00000000       0.00000000       1.33200000\n",
      " Li      0.00000000       0.00000000       0.00000000\n",
      " H      0.00000000       0.00000000       1.53200000\n",
      "\n"
     ]
    }
   ],
   "source": [
    "print R"
   ]
  },
  {
   "cell_type": "code",
   "execution_count": 10,
   "metadata": {},
   "outputs": [],
   "source": [
    "params = {\"EXE\":\"/mnt/c/cygwin/home/Alexey-user/Soft/ergo-3.7/source/ergo\", \"md_file\":\"md1.xyz\"}\n",
    "i = 0\n",
    "\n",
    "S = step2_ergoscf.do_ovlp(i, params, run)"
   ]
  },
  {
   "cell_type": "code",
   "execution_count": 11,
   "metadata": {},
   "outputs": [],
   "source": [
    "S.show_matrix(\"S.txt\")"
   ]
  },
  {
   "cell_type": "code",
   "execution_count": 14,
   "metadata": {},
   "outputs": [],
   "source": [
    "params = {\"EXE\":\"/mnt/c/cygwin/home/Alexey-user/Soft/ergo-3.7/source/ergo\", \"md_file\":\"md1.xyz\",\n",
    "          \"isnap\":0, \"fsnap\":2, \"dt\": 1.0 * units.fs2au\n",
    "         }\n",
    "\n",
    "os.system(\"mkdir res\")\n",
    "step2_ergoscf.run_step2(params, run, run)"
   ]
  },
  {
   "cell_type": "code",
   "execution_count": null,
   "metadata": {},
   "outputs": [],
   "source": []
  }
 ],
 "metadata": {
  "kernelspec": {
   "display_name": "Python 2",
   "language": "python",
   "name": "python2"
  },
  "language_info": {
   "codemirror_mode": {
    "name": "ipython",
    "version": 2
   },
   "file_extension": ".py",
   "mimetype": "text/x-python",
   "name": "python",
   "nbconvert_exporter": "python",
   "pygments_lexer": "ipython2",
   "version": "2.7.15"
  }
 },
 "nbformat": 4,
 "nbformat_minor": 2
}
