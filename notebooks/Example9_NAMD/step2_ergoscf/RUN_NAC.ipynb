{
 "cells": [
  {
   "cell_type": "markdown",
   "metadata": {},
   "source": [
    "## Step2 with ErgoSCF"
   ]
  },
  {
   "cell_type": "code",
   "execution_count": 1,
   "metadata": {
    "scrolled": false
   },
   "outputs": [
    {
     "name": "stderr",
     "output_type": "stream",
     "text": [
      "/home/alexey/miniconda2/envs/libra/lib/python2.7/site-packages/ipykernel_launcher.py:8: RuntimeWarning: to-Python converter for std::vector<std::complex<double>, std::allocator<std::complex<double> > > already registered; second conversion method ignored.\n",
      "  \n",
      "/home/alexey/miniconda2/envs/libra/lib/python2.7/site-packages/ipykernel_launcher.py:8: RuntimeWarning: to-Python converter for std::vector<std::vector<int, std::allocator<int> >, std::allocator<std::vector<int, std::allocator<int> > > > already registered; second conversion method ignored.\n",
      "  \n",
      "/home/alexey/miniconda2/envs/libra/lib/python2.7/site-packages/ipykernel_launcher.py:8: RuntimeWarning: to-Python converter for boost::python::detail::container_element<std::vector<std::vector<int, std::allocator<int> >, std::allocator<std::vector<int, std::allocator<int> > > >, unsigned long, boost::python::detail::final_vector_derived_policies<std::vector<std::vector<int, std::allocator<int> >, std::allocator<std::vector<int, std::allocator<int> > > >, false> > already registered; second conversion method ignored.\n",
      "  \n",
      "/home/alexey/miniconda2/envs/libra/lib/python2.7/site-packages/ipykernel_launcher.py:8: RuntimeWarning: to-Python converter for std::vector<std::vector<float, std::allocator<float> >, std::allocator<std::vector<float, std::allocator<float> > > > already registered; second conversion method ignored.\n",
      "  \n",
      "/home/alexey/miniconda2/envs/libra/lib/python2.7/site-packages/ipykernel_launcher.py:8: RuntimeWarning: to-Python converter for boost::python::detail::container_element<std::vector<std::vector<float, std::allocator<float> >, std::allocator<std::vector<float, std::allocator<float> > > >, unsigned long, boost::python::detail::final_vector_derived_policies<std::vector<std::vector<float, std::allocator<float> >, std::allocator<std::vector<float, std::allocator<float> > > >, false> > already registered; second conversion method ignored.\n",
      "  \n",
      "/home/alexey/miniconda2/envs/libra/lib/python2.7/site-packages/ipykernel_launcher.py:8: RuntimeWarning: to-Python converter for std::vector<std::vector<double, std::allocator<double> >, std::allocator<std::vector<double, std::allocator<double> > > > already registered; second conversion method ignored.\n",
      "  \n",
      "/home/alexey/miniconda2/envs/libra/lib/python2.7/site-packages/ipykernel_launcher.py:8: RuntimeWarning: to-Python converter for boost::python::detail::container_element<std::vector<std::vector<double, std::allocator<double> >, std::allocator<std::vector<double, std::allocator<double> > > >, unsigned long, boost::python::detail::final_vector_derived_policies<std::vector<std::vector<double, std::allocator<double> >, std::allocator<std::vector<double, std::allocator<double> > > >, false> > already registered; second conversion method ignored.\n",
      "  \n",
      "/home/alexey/miniconda2/envs/libra/lib/python2.7/site-packages/ipykernel_launcher.py:8: RuntimeWarning: to-Python converter for boost::python::detail::container_element<std::vector<std::vector<std::complex<double>, std::allocator<std::complex<double> > >, std::allocator<std::vector<std::complex<double>, std::allocator<std::complex<double> > > > >, unsigned long, boost::python::detail::final_vector_derived_policies<std::vector<std::vector<std::complex<double>, std::allocator<std::complex<double> > >, std::allocator<std::vector<std::complex<double>, std::allocator<std::complex<double> > > > >, false> > already registered; second conversion method ignored.\n",
      "  \n"
     ]
    }
   ],
   "source": [
    "import os\n",
    "import sys\n",
    "\n",
    "# Fisrt, we add the location of the library to test to the PYTHON path\n",
    "if sys.platform==\"cygwin\":\n",
    "    from cyglibra_core import *\n",
    "elif sys.platform==\"linux\" or sys.platform==\"linux2\":\n",
    "    from liblibra_core import *\n",
    "import util.libutil as comn\n",
    "from libra_py import ERGO_methods\n",
    "from libra_py import units\n",
    "from libra_py.workflows.nbra import step2_ergoscf\n"
   ]
  },
  {
   "cell_type": "markdown",
   "metadata": {},
   "source": [
    "Define the function to run the ErgosCF calculations for each geometry. This function essentially defines the core of the input file to the ErgoSCF code. Only the coordinates and the name of the executable may be changed"
   ]
  },
  {
   "cell_type": "code",
   "execution_count": 9,
   "metadata": {},
   "outputs": [],
   "source": [
    "def run(EXE, COORDS):\n",
    "    inp = \"\"\"#!bin/sh\n",
    "%s << EOINPUT > /dev/null\n",
    "spin_polarization = 0\n",
    "molecule_inline\n",
    "%sEOF\n",
    "basis = \"STO-3G\"\n",
    "use_simple_starting_guess=1\n",
    "scf.create_mtx_files_F = 1\n",
    "scf.create_mtx_file_S = 1\n",
    "XC.sparse_mode = 1\n",
    "run \"LDA\"\n",
    "EOINPUT\n",
    "\"\"\" % (EXE, COORDS)\n",
    "    return inp"
   ]
  },
  {
   "cell_type": "markdown",
   "metadata": {},
   "source": [
    "Also define how to run the calculations for the \"weird\" geometry, when two snapshots are overlapped and form a \"super-molecule\". In this case, we don't really need to print out the Fock matrices"
   ]
  },
  {
   "cell_type": "code",
   "execution_count": null,
   "metadata": {},
   "outputs": [],
   "source": [
    "def run1(EXE, COORDS):\n",
    "    inp = \"\"\"#!bin/sh\n",
    "%s << EOINPUT > /dev/null\n",
    "spin_polarization = 0\n",
    "molecule_inline\n",
    "%sEOF\n",
    "basis = \"STO-3G\"\n",
    "use_simple_starting_guess=1\n",
    "scf.create_mtx_file_S = 1\n",
    "XC.sparse_mode = 1\n",
    "run \"LDA\"\n",
    "EOINPUT\n",
    "\"\"\" % (EXE, COORDS)\n",
    "    return inp"
   ]
  },
  {
   "cell_type": "markdown",
   "metadata": {},
   "source": [
    "Here, lets define another one (still under development) - to also compute the nuclear gradients on the converged charge density. This function may be important to run an on-the-fly dynamics"
   ]
  },
  {
   "cell_type": "code",
   "execution_count": null,
   "metadata": {},
   "outputs": [],
   "source": [
    "def run2(EXE, COORDS):\n",
    "    \"\"\"\n",
    "    This function also requests computation of the nuclear gradients\n",
    "    \"\"\"\n",
    "    \n",
    "    inp = \"\"\"#!bin/sh\n",
    "%s << EOINPUT > /dev/null\n",
    "spin_polarization = 0\n",
    "molecule_inline\n",
    "%sEOF\n",
    "basis = \"STO-3G\"\n",
    "scf.compute_gradient_fixeddens = 1\n",
    "XC.sparse_mode = 1\n",
    "run \"LDA\"\n",
    "EOINPUT\n",
    "\"\"\" % (EXE, COORDS)\n",
    "    return inp"
   ]
  },
  {
   "cell_type": "markdown",
   "metadata": {},
   "source": [
    "Ok, so now we can run the step2 calculations! Just create the \"res\" dir, since this is where the results will be printed out"
   ]
  },
  {
   "cell_type": "code",
   "execution_count": 5,
   "metadata": {},
   "outputs": [],
   "source": [
    "params = {\"EXE\":\"/mnt/c/cygwin/home/Alexey-user/Soft/ergo-3.7/source/ergo\", \"md_file\":\"md1.xyz\",\n",
    "          \"isnap\":0, \"fsnap\":5, \"dt\": 1.0 * units.fs2au\n",
    "         }\n",
    "\n",
    "os.system(\"mkdir res\")\n",
    "step2_ergoscf.run_step2(params, run, run1)"
   ]
  },
  {
   "cell_type": "markdown",
   "metadata": {},
   "source": [
    "## Other examples"
   ]
  },
  {
   "cell_type": "markdown",
   "metadata": {},
   "source": [
    "If we jneed to run an SCF calculations for a singe geometry"
   ]
  },
  {
   "cell_type": "code",
   "execution_count": 8,
   "metadata": {},
   "outputs": [],
   "source": [
    "params = {\"EXE\":\"/mnt/c/cygwin/home/Alexey-user/Soft/ergo-3.7/source/ergo\", \"md_file\":\"md1.xyz\"}\n",
    "i = 0\n",
    "\n",
    "E, MO = step2_ergoscf.do_step(i, params, run2)"
   ]
  },
  {
   "cell_type": "markdown",
   "metadata": {},
   "source": [
    "And we can print out the resulting matrices into a file"
   ]
  },
  {
   "cell_type": "code",
   "execution_count": null,
   "metadata": {},
   "outputs": [],
   "source": [
    "E.show_matrix(\"E0.txt\")\n",
    "MO.show_matrix(\"MO.txt\")"
   ]
  },
  {
   "cell_type": "markdown",
   "metadata": {},
   "source": [
    "Here is another example - just to submit the ErgoSCF calculation for a given geometry and run type"
   ]
  },
  {
   "cell_type": "code",
   "execution_count": 10,
   "metadata": {
    "scrolled": false
   },
   "outputs": [
    {
     "name": "stdout",
     "output_type": "stream",
     "text": [
      "#!bin/sh\n",
      "/mnt/c/cygwin/home/Alexey-user/Soft/ergo-3.7/source/ergo << EOINPUT > /dev/null\n",
      "spin_polarization = 0\n",
      "molecule_inline\n",
      " Li      0.00000000       0.00000000       0.00000000\n",
      " H      0.00000000       0.00000000       1.33200000\n",
      "EOF\n",
      "ghost_inline\n",
      " Li      0.00000000       0.00000000       0.00000000\n",
      " H      0.00000000       0.00000000       1.33200000\n",
      "EOF\n",
      "basis = \"none\"\n",
      "ghost_basis = \"STO-3G\"\n",
      "scf.compute_gradient_fixeddens = 1\n",
      "XC.sparse_mode = 1\n",
      "run \"LDA\"\n",
      "EOINPUT\n",
      "\n"
     ]
    },
    {
     "data": {
      "text/plain": [
       "0"
      ]
     },
     "execution_count": 10,
     "metadata": {},
     "output_type": "execute_result"
    }
   ],
   "source": [
    "EXE = \"/mnt/c/cygwin/home/Alexey-user/Soft/ergo-3.7/source/ergo\"\n",
    "R = ERGO_methods.xyz_traj2gen_sp(\"md1.xyz\", 0)\n",
    "command = run2(EXE, R)\n",
    "print command\n",
    "os.system(\"%s\" % (command))"
   ]
  },
  {
   "cell_type": "markdown",
   "metadata": {},
   "source": [
    "We can read the produced matrices - in this case the Fock matrices. And we can specify which section of the matrix we want to read"
   ]
  },
  {
   "cell_type": "code",
   "execution_count": null,
   "metadata": {},
   "outputs": [],
   "source": [
    "F = ERGO_methods.get_mtx_matrices(\"F_matrix_11.mtx\")\n",
    "F.show_matrix(\"F.txt\")\n",
    "\n",
    "F3 = ERGO_methods.get_mtx_matrices(\"F_matrix_11.mtx\", [0,1,2], [0,1,2])\n",
    "F3.show_matrix(\"Fa.txt\")"
   ]
  },
  {
   "cell_type": "markdown",
   "metadata": {},
   "source": [
    "Among a series of the Fock matrices, find the last one"
   ]
  },
  {
   "cell_type": "code",
   "execution_count": null,
   "metadata": {},
   "outputs": [],
   "source": [
    "print ERGO_methods.find_last_file(\"F_matrix_\", \".mtx\")"
   ]
  },
  {
   "cell_type": "markdown",
   "metadata": {},
   "source": [
    "Get a geometry for a \"super-molecule\" composed of two snapshots"
   ]
  },
  {
   "cell_type": "code",
   "execution_count": null,
   "metadata": {},
   "outputs": [],
   "source": [
    "i = 0\n",
    "R = ERGO_methods.xyz_traj2gen_ovlp(\"md1.xyz\", i, i+1)\n",
    "print R"
   ]
  },
  {
   "cell_type": "markdown",
   "metadata": {},
   "source": [
    "Here is an example to run the calculation of the overlap matrix between AOs in the two adjacent geometries"
   ]
  },
  {
   "cell_type": "code",
   "execution_count": null,
   "metadata": {},
   "outputs": [],
   "source": [
    "params = {\"EXE\":\"/mnt/c/cygwin/home/Alexey-user/Soft/ergo-3.7/source/ergo\", \"md_file\":\"md1.xyz\"}\n",
    "i = 0\n",
    "\n",
    "S = step2_ergoscf.do_ovlp(i, params, run1)\n",
    "S.show_matrix(\"S.txt\")"
   ]
  }
 ],
 "metadata": {
  "kernelspec": {
   "display_name": "Python 2",
   "language": "python",
   "name": "python2"
  },
  "language_info": {
   "codemirror_mode": {
    "name": "ipython",
    "version": 2
   },
   "file_extension": ".py",
   "mimetype": "text/x-python",
   "name": "python",
   "nbconvert_exporter": "python",
   "pygments_lexer": "ipython2",
   "version": "2.7.15"
  }
 },
 "nbformat": 4,
 "nbformat_minor": 2
}
