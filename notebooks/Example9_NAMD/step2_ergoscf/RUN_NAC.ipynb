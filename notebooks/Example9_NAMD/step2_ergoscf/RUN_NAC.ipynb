{
 "cells": [
  {
   "cell_type": "markdown",
   "metadata": {},
   "source": [
    "## Step2 with ErgoSCF\n",
    "\n",
    "This tutorial explains how to compute NACs along the pre-computed MD trajectories using ErgoSCF code \n",
    "\n",
    "We will consider several options:\n",
    "\n",
    "1. [Internal diagonalization, restricted](#case-1)  \n",
    "2. [Internal diagonalization, unrestricted](#case-2)\n",
    "3. [Direct MO, restricted](#case-3)\n",
    "4. [Direct MO, unrestricted](#case-4)\n",
    "\n",
    "#### Internal Diagonalization approach\n",
    "\n",
    "In this case, we would run SCF calculations until we reach its convergence. \n",
    "We then read the last - converged - Fock matrix and diagonalize it. \n",
    "As a result of the diagonalization, we obtain both orbital energies and MOs\n",
    "\n",
    "\n",
    "#### Direct MO approach\n",
    "\n",
    "In this case, both MOs and orbital energies are produced by ErgoSCF\n",
    "We simply read and use them.\n",
    "Internally, this is done via a projection algorithm.\n",
    "\n",
    "\n",
    "\n",
    "\n",
    "As of now (analyze the output of this tutorial), it seems that the two approaches may give somewhat different\n",
    "orbital energies and NACs. This happens for some of the orbitals, but not for all. \n",
    "\n",
    "Also, we can observe that the two approaches may lead to different degree of the state (orbital) reordering \n",
    "problem - in this example, the reordering with the first method (internal diagonalization) is of smaller issue than in \n",
    "the second method (direct MO)"
   ]
  },
  {
   "cell_type": "code",
   "execution_count": 1,
   "metadata": {
    "scrolled": false
   },
   "outputs": [
    {
     "name": "stderr",
     "output_type": "stream",
     "text": [
      "/home/alexey/miniconda2/envs/py37/lib/python3.7/importlib/_bootstrap.py:219: RuntimeWarning: to-Python converter for std::vector<std::complex<double>, std::allocator<std::complex<double> > > already registered; second conversion method ignored.\n",
      "  return f(*args, **kwds)\n",
      "/home/alexey/miniconda2/envs/py37/lib/python3.7/importlib/_bootstrap.py:219: RuntimeWarning: to-Python converter for std::vector<std::vector<int, std::allocator<int> >, std::allocator<std::vector<int, std::allocator<int> > > > already registered; second conversion method ignored.\n",
      "  return f(*args, **kwds)\n",
      "/home/alexey/miniconda2/envs/py37/lib/python3.7/importlib/_bootstrap.py:219: RuntimeWarning: to-Python converter for boost::python::detail::container_element<std::vector<std::vector<int, std::allocator<int> >, std::allocator<std::vector<int, std::allocator<int> > > >, unsigned long, boost::python::detail::final_vector_derived_policies<std::vector<std::vector<int, std::allocator<int> >, std::allocator<std::vector<int, std::allocator<int> > > >, false> > already registered; second conversion method ignored.\n",
      "  return f(*args, **kwds)\n",
      "/home/alexey/miniconda2/envs/py37/lib/python3.7/importlib/_bootstrap.py:219: RuntimeWarning: to-Python converter for std::vector<std::vector<float, std::allocator<float> >, std::allocator<std::vector<float, std::allocator<float> > > > already registered; second conversion method ignored.\n",
      "  return f(*args, **kwds)\n",
      "/home/alexey/miniconda2/envs/py37/lib/python3.7/importlib/_bootstrap.py:219: RuntimeWarning: to-Python converter for boost::python::detail::container_element<std::vector<std::vector<float, std::allocator<float> >, std::allocator<std::vector<float, std::allocator<float> > > >, unsigned long, boost::python::detail::final_vector_derived_policies<std::vector<std::vector<float, std::allocator<float> >, std::allocator<std::vector<float, std::allocator<float> > > >, false> > already registered; second conversion method ignored.\n",
      "  return f(*args, **kwds)\n",
      "/home/alexey/miniconda2/envs/py37/lib/python3.7/importlib/_bootstrap.py:219: RuntimeWarning: to-Python converter for std::vector<std::vector<double, std::allocator<double> >, std::allocator<std::vector<double, std::allocator<double> > > > already registered; second conversion method ignored.\n",
      "  return f(*args, **kwds)\n",
      "/home/alexey/miniconda2/envs/py37/lib/python3.7/importlib/_bootstrap.py:219: RuntimeWarning: to-Python converter for boost::python::detail::container_element<std::vector<std::vector<double, std::allocator<double> >, std::allocator<std::vector<double, std::allocator<double> > > >, unsigned long, boost::python::detail::final_vector_derived_policies<std::vector<std::vector<double, std::allocator<double> >, std::allocator<std::vector<double, std::allocator<double> > > >, false> > already registered; second conversion method ignored.\n",
      "  return f(*args, **kwds)\n",
      "/home/alexey/miniconda2/envs/py37/lib/python3.7/importlib/_bootstrap.py:219: RuntimeWarning: to-Python converter for boost::python::detail::container_element<std::vector<std::vector<std::complex<double>, std::allocator<std::complex<double> > >, std::allocator<std::vector<std::complex<double>, std::allocator<std::complex<double> > > > >, unsigned long, boost::python::detail::final_vector_derived_policies<std::vector<std::vector<std::complex<double>, std::allocator<std::complex<double> > >, std::allocator<std::vector<std::complex<double>, std::allocator<std::complex<double> > > > >, false> > already registered; second conversion method ignored.\n",
      "  return f(*args, **kwds)\n"
     ]
    }
   ],
   "source": [
    "import os\n",
    "import sys\n",
    "\n",
    "# Fisrt, we add the location of the library to test to the PYTHON path\n",
    "if sys.platform==\"cygwin\":\n",
    "    from cyglibra_core import *\n",
    "elif sys.platform==\"linux\" or sys.platform==\"linux2\":\n",
    "    from liblibra_core import *\n",
    "import util.libutil as comn\n",
    "from libra_py import ERGO_methods\n",
    "from libra_py import units\n",
    "from libra_py.workflows.nbra import step2_ergoscf\n"
   ]
  },
  {
   "cell_type": "markdown",
   "metadata": {},
   "source": [
    "<a name=\"case-1\"></a>\n",
    "### Case 1.\n"
   ]
  },
  {
   "cell_type": "markdown",
   "metadata": {},
   "source": [
    "First, lets define the function to run the ErgosCF calculations for each geometry. \n",
    "\n",
    "This function essentially defines the core of the input file to the ErgoSCF code. \n",
    "\n",
    "In this file we define all the key parameters, such as:\n",
    "\n",
    "* basis - in this case, STO-3G\n",
    "* spin polarization - in this case we do non-spin-polarized calculations\n",
    "* electronic structure method - in this case we use one of the pure density functionals \"LDA\"\n",
    "\n",
    "We also instruct ErgoSCF to produce Fock matrix in the AO basis (with the **scf.create_mtx_files_F = 1**), the AO overlap matrix (with the **scf.create_mtx_file_S = 1**)\n",
    "\n",
    "To ensure we take advantage of some parallelizaiton, we also instruct ErgoSCF to detect the number of available threads \n",
    "(with the **set_nthreads(\"detect\")**)\n",
    "\n",
    "Note the \"Angstrom\" keyword following the \"molecule_inline\" - it indicates that the input is provided in Angstrom units.\n",
    "If your input (e.g. in the xyz trajectory file) is in the a.u. (Bohr) units, just remove the \"Angstrom\" keyword\n",
    "\n",
    "All of the above parameters will be kept constant during the run, only the coordinates and the name of the executable will be changed in the run.\n"
   ]
  },
  {
   "cell_type": "code",
   "execution_count": 2,
   "metadata": {},
   "outputs": [],
   "source": [
    "def scf_restricted(EXE, COORDS):\n",
    "    inp = \"\"\"#!bin/sh\n",
    "%s << EOINPUT > /dev/null\n",
    "set_nthreads(\"detect\")\n",
    "spin_polarization = 0\n",
    "molecule_inline Angstrom\n",
    "%sEOF\n",
    "basis = \"STO-3G\"\n",
    "use_simple_starting_guess=1\n",
    "scf.create_mtx_files_F = 1\n",
    "scf.create_mtx_file_S = 1\n",
    "XC.sparse_mode = 1\n",
    "run \"LDA\"\n",
    "EOINPUT\n",
    "\"\"\" % (EXE, COORDS)\n",
    "    return inp"
   ]
  },
  {
   "cell_type": "markdown",
   "metadata": {},
   "source": [
    "We also define a similar function to run the calculations for the \"weird\" geometry, when two snapshots are overlapped and form a \"super-molecule\". The super-molecule will be composed of the molecular geometries at two adjacent timesteps t and t+dt as extracted from the MD trajectory file. Then, the off-diagonal block matrix will contain the overlaps bettween AOs centered at displaced geometries - this is something we'll need to compute transition density matrices. \n",
    "\n",
    "Of course, the SCF on such a supermolecule doesn't make sense and will probably not converge. That's why we instruct ErgoSCF to just compute the AO matrix and quit (with **scf.create_mtx_files_S_and_quit = 1**), not to do the costly and meaningless SCF calculations."
   ]
  },
  {
   "cell_type": "code",
   "execution_count": 6,
   "metadata": {},
   "outputs": [],
   "source": [
    "def compute_AO_overlaps(EXE, COORDS):\n",
    "    inp = \"\"\"#!bin/sh\n",
    "%s << EOINPUT > /dev/null\n",
    "spin_polarization = 0\n",
    "molecule_inline Angstrom\n",
    "%sEOF\n",
    "basis = \"STO-3G\"\n",
    "use_simple_starting_guess=1\n",
    "scf.create_mtx_file_S = 1\n",
    "scf.create_mtx_files_S_and_quit = 1\n",
    "XC.sparse_mode = 1\n",
    "run \"LDA\"\n",
    "EOINPUT\n",
    "\"\"\" % (EXE, COORDS)\n",
    "    return inp"
   ]
  },
  {
   "cell_type": "markdown",
   "metadata": {},
   "source": [
    "Ok, so now we can run the step2 calculations! \n",
    "\n",
    "\n",
    "**IMPORTANT:** before running the \"run_step2\", don't forget to create the corresponding output directory, since this is where the results will be printed out.\n",
    "\n",
    "In this case:\n",
    "\n",
    "* we expect to produce the orbitals ourselves: (**\"direct_MO\":0**)\n",
    "* because of this, the indexing of the active space orbitals is done in the absolute indexing convention: (**\"mo_indexing_convention\":\"abs\"**)\n",
    "* we expect that SCF is done without spin polarization (as setup in the function above): (**\"spinpolarized\":0**)"
   ]
  },
  {
   "cell_type": "code",
   "execution_count": 7,
   "metadata": {},
   "outputs": [],
   "source": [
    "params = {\"EXE\":\"/mnt/c/cygwin/home/Alexey-user/Soft/ergo-3.8/source/ergo\", \"md_file\":\"md1.xyz\",\n",
    "          \"isnap\":0, \"fsnap\":5, \"dt\": 1.0 * units.fs2au,\n",
    "          \"out_dir\": \"restricted_indirect\",\n",
    "          \"mo_indexing_convention\":\"abs\", \"direct_MO\":0, \"spinpolarized\":0\n",
    "         }\n",
    "\n",
    "os.system(\"mkdir restricted_indirect\")\n",
    "step2_ergoscf.run_step2(params, scf_restricted, compute_AO_overlaps)"
   ]
  },
  {
   "cell_type": "markdown",
   "metadata": {},
   "source": [
    "<a name=\"case-2\"></a>\n",
    "### Case 2."
   ]
  },
  {
   "cell_type": "markdown",
   "metadata": {},
   "source": [
    "In this case, we want to perfom spin-polarized calculation on a singlet.\n",
    "\n",
    "In ErgoSCF we can enforce such type of calculations with **scf.force_unrestricted = 1** \n",
    "\n",
    "Moreover, for the unrestricted calculations to be really meaningfull, we need to break the initial symmetry of orbitals. This is done via **scf.starting_guess_disturbance = 0.01**\n"
   ]
  },
  {
   "cell_type": "code",
   "execution_count": 3,
   "metadata": {},
   "outputs": [],
   "source": [
    "def scf_unrestricted(EXE, COORDS):\n",
    "    inp = \"\"\"#!bin/sh\n",
    "%s << EOINPUT > /dev/null\n",
    "set_nthreads(\"detect\")\n",
    "spin_polarization = 0\n",
    "molecule_inline Angstrom\n",
    "%sEOF\n",
    "basis = \"STO-3G\"\n",
    "use_simple_starting_guess=1\n",
    "scf.create_mtx_files_F = 1\n",
    "scf.create_mtx_file_S = 1\n",
    "XC.sparse_mode = 1\n",
    "scf.force_unrestricted = 1\n",
    "scf.starting_guess_disturbance = 0.01\n",
    "run \"LDA\"\n",
    "EOINPUT\n",
    "\"\"\" % (EXE, COORDS)\n",
    "    return inp"
   ]
  },
  {
   "cell_type": "markdown",
   "metadata": {},
   "source": [
    "**IMPORTANT:** before running the \"run_step2\", don't forget to create the corresponding output directory, since this is where the results will be printed out.\n",
    "\n",
    "According to our ErgoSCF setup, we also need to change some parameters in the **run_step2** function.\n",
    "\n",
    "In comparison to Case 1, in this case we change this:\n",
    "\n",
    "* we expect that SCF is done wit the spin polarization (as setup in the function above): (**\"spinpolarized\":1**)"
   ]
  },
  {
   "cell_type": "code",
   "execution_count": 8,
   "metadata": {},
   "outputs": [],
   "source": [
    "params = {\"EXE\":\"/mnt/c/cygwin/home/Alexey-user/Soft/ergo-3.8/source/ergo\", \"md_file\":\"md1.xyz\",\n",
    "          \"isnap\":0, \"fsnap\":5, \"dt\": 1.0 * units.fs2au,\n",
    "          \"out_dir\": \"unrestricted_indirect\",\n",
    "          \"mo_indexing_convention\":\"abs\", \"direct_MO\":0, \"spinpolarized\":1\n",
    "         }\n",
    "\n",
    "os.system(\"mkdir unrestricted_indirect\")\n",
    "step2_ergoscf.run_step2(params, scf_unrestricted, compute_AO_overlaps)"
   ]
  },
  {
   "cell_type": "markdown",
   "metadata": {},
   "source": [
    "<a name=\"case-3\"></a>\n",
    "### Case 3."
   ]
  },
  {
   "cell_type": "markdown",
   "metadata": {},
   "source": [
    "Now, we are about to setup calculations in such as way that ErgoSCF would produce the orbital eigenvalues as well as corresponding orbitals. \n",
    "\n",
    "This is done with the function below. \n",
    "\n",
    "Note, it differs from that in Case 1 only by:\n",
    "\n",
    "* **scf.output_homo_and_lumo_eigenvectors = 1** - to request the printout of the orbitals and their eigenvalues\n",
    "* **scf.number_of_occupied_eigenvectors = 2** - to setup how many occupied orbitals we want to produce. LiH molecule has only 4 electrons, so we can have only 2 occupied orbitals (H-1 and H), so we request 2. Don't set this number to larger than what can be accommodated, or the program may not work correctly.\n",
    "* **scf.number_of_unoccupied_eigenvectors = 2** - to setup how many unoccupied orbitals we want to produce. This number is defined by the basis size. For instance, if using STO-3G on He2, one can not have any unoccupied orbitals, if using STO-3G on H2 or HF molecules, one can have only 1 unoccupied orbital. In this example, we have enough orbitals to have 2 unoccupied orbitals requested. Don't set this number to larger than what can be accommodated by the basis size, or the program may not work correctly.\n",
    "* **scf.eigenvectors_method = \"projection\"** - this parameter has to be used, if the above key-words are defined. The default value for this parameters won't work."
   ]
  },
  {
   "cell_type": "code",
   "execution_count": 4,
   "metadata": {},
   "outputs": [],
   "source": [
    "def scf_restricted_direct(EXE, COORDS):\n",
    "    inp = \"\"\"#!bin/sh\n",
    "%s << EOINPUT > /dev/null\n",
    "set_nthreads(\"detect\")\n",
    "spin_polarization = 0\n",
    "molecule_inline Angstrom\n",
    "%sEOF\n",
    "basis = \"STO-3G\"\n",
    "use_simple_starting_guess=1\n",
    "scf.create_mtx_files_F = 1\n",
    "scf.create_mtx_file_S = 1\n",
    "XC.sparse_mode = 1\n",
    "\n",
    "scf.output_homo_and_lumo_eigenvectors = 1\n",
    "scf.number_of_occupied_eigenvectors = 2\n",
    "scf.number_of_unoccupied_eigenvectors = 2\n",
    "scf.eigenvectors_method = \"projection\"\n",
    "\n",
    "run \"LDA\"\n",
    "EOINPUT\n",
    "\"\"\" % (EXE, COORDS)\n",
    "    return inp"
   ]
  },
  {
   "cell_type": "markdown",
   "metadata": {},
   "source": [
    "Now, we need to reflect the type of calculations in our **run_step2** function\n",
    "\n",
    "**IMPORTANT:** before running the \"run_step2\", don't forget to create the corresponding output directory, since this is where the results will be printed out.\n",
    "\n",
    "In this case:\n",
    "\n",
    "* we expect to read the MOs and orbital energies from ErgoSCF output: (**\"direct_MO\":1**)\n",
    "* because of this, the indexing of the active space orbitals is done in the relative indexing convention: (**\"mo_indexing_convention\":\"rel\"**)\n",
    "* we expect that SCF is done without spin polarization (as setup in the function above): (**\"spinpolarized\":0**)"
   ]
  },
  {
   "cell_type": "code",
   "execution_count": 7,
   "metadata": {},
   "outputs": [],
   "source": [
    "params = {\"EXE\":\"/mnt/c/cygwin/home/Alexey-user/Soft/ergo-3.8/source/ergo\", \"md_file\":\"md1.xyz\",\n",
    "          \"isnap\":0, \"fsnap\":5, \"dt\": 1.0 * units.fs2au,\n",
    "          \"out_dir\": \"restricted_direct\",\n",
    "          \"mo_indexing_convention\":\"rel\", \"direct_MO\":1, \"spinpolarized\":0\n",
    "         }\n",
    "\n",
    "os.system(\"mkdir restricted_direct\")\n",
    "step2_ergoscf.run_step2(params, scf_restricted_direct, compute_AO_overlaps)"
   ]
  },
  {
   "cell_type": "markdown",
   "metadata": {},
   "source": [
    "<a name=\"case-4\"></a>\n",
    "### Case 4."
   ]
  },
  {
   "cell_type": "markdown",
   "metadata": {},
   "source": [
    "This is just a hybrid of Case 2 (how to setup spin-polarized calculations in ErgoSCF and run_step2) and Case 3 (how to setup direct MO calculations to be performed by ErgoSCF)"
   ]
  },
  {
   "cell_type": "code",
   "execution_count": 5,
   "metadata": {},
   "outputs": [],
   "source": [
    "def scf_unrestricted_direct(EXE, COORDS):\n",
    "    inp = \"\"\"#!bin/sh\n",
    "%s << EOINPUT > /dev/null\n",
    "set_nthreads(\"detect\")\n",
    "spin_polarization = 0\n",
    "molecule_inline Angstrom\n",
    "%sEOF\n",
    "basis = \"STO-3G\"\n",
    "use_simple_starting_guess=1\n",
    "scf.create_mtx_files_F = 1\n",
    "scf.create_mtx_file_S = 1\n",
    "XC.sparse_mode = 1\n",
    "scf.force_unrestricted = 1\n",
    "scf.starting_guess_disturbance = 0.01\n",
    "\n",
    "scf.output_homo_and_lumo_eigenvectors = 1\n",
    "scf.number_of_occupied_eigenvectors = 2\n",
    "scf.number_of_unoccupied_eigenvectors = 2\n",
    "scf.eigenvectors_method = \"projection\"\n",
    "\n",
    "run \"LDA\"\n",
    "EOINPUT\n",
    "\"\"\" % (EXE, COORDS)\n",
    "    return inp"
   ]
  },
  {
   "cell_type": "code",
   "execution_count": 8,
   "metadata": {},
   "outputs": [],
   "source": [
    "params = {\"EXE\":\"/mnt/c/cygwin/home/Alexey-user/Soft/ergo-3.8/source/ergo\", \"md_file\":\"md1.xyz\",\n",
    "          \"isnap\":0, \"fsnap\":5, \"dt\": 1.0 * units.fs2au,\n",
    "          \"out_dir\": \"unrestricted_direct\",\n",
    "          \"mo_indexing_convention\":\"rel\", \"direct_MO\":1, \"spinpolarized\":1\n",
    "         }\n",
    "\n",
    "os.system(\"mkdir unrestricted_direct\")\n",
    "step2_ergoscf.run_step2(params, scf_unrestricted_direct, compute_AO_overlaps)"
   ]
  },
  {
   "cell_type": "code",
   "execution_count": null,
   "metadata": {},
   "outputs": [],
   "source": []
  }
 ],
 "metadata": {
  "kernelspec": {
   "display_name": "Python 3",
   "language": "python",
   "name": "python3"
  },
  "language_info": {
   "codemirror_mode": {
    "name": "ipython",
    "version": 3
   },
   "file_extension": ".py",
   "mimetype": "text/x-python",
   "name": "python",
   "nbconvert_exporter": "python",
   "pygments_lexer": "ipython3",
   "version": "3.7.3"
  }
 },
 "nbformat": 4,
 "nbformat_minor": 2
}
