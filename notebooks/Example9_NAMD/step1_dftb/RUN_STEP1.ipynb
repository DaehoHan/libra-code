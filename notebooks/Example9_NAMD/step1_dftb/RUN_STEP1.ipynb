{
 "cells": [
  {
   "cell_type": "code",
   "execution_count": 1,
   "metadata": {
    "scrolled": false
   },
   "outputs": [
    {
     "name": "stderr",
     "output_type": "stream",
     "text": [
      "/mnt/c/cygwin/home/Alexey-user/Programming/Project_libra/_build/src/libra_py/DFTB_methods.py:30: RuntimeWarning: to-Python converter for std::vector<std::complex<double>, std::allocator<std::complex<double> > > already registered; second conversion method ignored.\n",
      "  from liblibra_core import *\n",
      "/mnt/c/cygwin/home/Alexey-user/Programming/Project_libra/_build/src/libra_py/DFTB_methods.py:30: RuntimeWarning: to-Python converter for std::vector<std::vector<int, std::allocator<int> >, std::allocator<std::vector<int, std::allocator<int> > > > already registered; second conversion method ignored.\n",
      "  from liblibra_core import *\n",
      "/mnt/c/cygwin/home/Alexey-user/Programming/Project_libra/_build/src/libra_py/DFTB_methods.py:30: RuntimeWarning: to-Python converter for boost::python::detail::container_element<std::vector<std::vector<int, std::allocator<int> >, std::allocator<std::vector<int, std::allocator<int> > > >, unsigned long, boost::python::detail::final_vector_derived_policies<std::vector<std::vector<int, std::allocator<int> >, std::allocator<std::vector<int, std::allocator<int> > > >, false> > already registered; second conversion method ignored.\n",
      "  from liblibra_core import *\n",
      "/mnt/c/cygwin/home/Alexey-user/Programming/Project_libra/_build/src/libra_py/DFTB_methods.py:30: RuntimeWarning: to-Python converter for std::vector<std::vector<float, std::allocator<float> >, std::allocator<std::vector<float, std::allocator<float> > > > already registered; second conversion method ignored.\n",
      "  from liblibra_core import *\n",
      "/mnt/c/cygwin/home/Alexey-user/Programming/Project_libra/_build/src/libra_py/DFTB_methods.py:30: RuntimeWarning: to-Python converter for boost::python::detail::container_element<std::vector<std::vector<float, std::allocator<float> >, std::allocator<std::vector<float, std::allocator<float> > > >, unsigned long, boost::python::detail::final_vector_derived_policies<std::vector<std::vector<float, std::allocator<float> >, std::allocator<std::vector<float, std::allocator<float> > > >, false> > already registered; second conversion method ignored.\n",
      "  from liblibra_core import *\n",
      "/mnt/c/cygwin/home/Alexey-user/Programming/Project_libra/_build/src/libra_py/DFTB_methods.py:30: RuntimeWarning: to-Python converter for std::vector<std::vector<double, std::allocator<double> >, std::allocator<std::vector<double, std::allocator<double> > > > already registered; second conversion method ignored.\n",
      "  from liblibra_core import *\n",
      "/mnt/c/cygwin/home/Alexey-user/Programming/Project_libra/_build/src/libra_py/DFTB_methods.py:30: RuntimeWarning: to-Python converter for boost::python::detail::container_element<std::vector<std::vector<double, std::allocator<double> >, std::allocator<std::vector<double, std::allocator<double> > > >, unsigned long, boost::python::detail::final_vector_derived_policies<std::vector<std::vector<double, std::allocator<double> >, std::allocator<std::vector<double, std::allocator<double> > > >, false> > already registered; second conversion method ignored.\n",
      "  from liblibra_core import *\n",
      "/mnt/c/cygwin/home/Alexey-user/Programming/Project_libra/_build/src/libra_py/DFTB_methods.py:30: RuntimeWarning: to-Python converter for boost::python::detail::container_element<std::vector<std::vector<std::complex<double>, std::allocator<std::complex<double> > >, std::allocator<std::vector<std::complex<double>, std::allocator<std::complex<double> > > > >, unsigned long, boost::python::detail::final_vector_derived_policies<std::vector<std::vector<std::complex<double>, std::allocator<std::complex<double> > >, std::allocator<std::vector<std::complex<double>, std::allocator<std::complex<double> > > > >, false> > already registered; second conversion method ignored.\n",
      "  from liblibra_core import *\n"
     ]
    }
   ],
   "source": [
    "import os\n",
    "import libra_py.DFTB_methods as dftb"
   ]
  },
  {
   "cell_type": "markdown",
   "metadata": {},
   "source": [
    "Prepare the input files: \n",
    "* **dftb_in_md.hsd** \n",
    "* **x1.gen** \n",
    "\n",
    "Then we can submit the step1 calculations - an MD trajectory."
   ]
  },
  {
   "cell_type": "code",
   "execution_count": 2,
   "metadata": {},
   "outputs": [
    {
     "data": {
      "text/plain": [
       "0"
      ]
     },
     "execution_count": 2,
     "metadata": {},
     "output_type": "execute_result"
    }
   ],
   "source": [
    "EXE = \"/mnt/c/cygwin/home/Alexey-user/Soft/dftb/dftbplus-18.2.x86_64-linux/bin/dftb+\"\n",
    "os.system(\"cp dftb_in_md.hsd dftb_in.hsd\")\n",
    "os.system( \"%s\" % EXE )"
   ]
  },
  {
   "cell_type": "markdown",
   "metadata": {},
   "source": [
    "Once the geometry is computed, the file **md.xyz** is produced. \n",
    "\n",
    "We can utilize this file to:\n",
    "\n",
    "a) prepare a regular .gen file to be used in SCF single-point calculations"
   ]
  },
  {
   "cell_type": "code",
   "execution_count": 3,
   "metadata": {},
   "outputs": [],
   "source": [
    "dftb.xyz_traj2gen_sp(\"md.xyz\", \"step0.gen\", 1, \"C\")"
   ]
  },
  {
   "cell_type": "markdown",
   "metadata": {},
   "source": [
    "b) prepare a .gen with superimposed geometries (and we can pick any timesteps along the available MD trajectory!) - this can be used in calculations of AO overlaps in two geometries - needed for time-derivative NACs calculations"
   ]
  },
  {
   "cell_type": "code",
   "execution_count": 4,
   "metadata": {},
   "outputs": [],
   "source": [
    "dftb.xyz_traj2gen_ovlp(\"md.xyz\", \"steps0-1.gen\", 0, 1, \"C\")"
   ]
  },
  {
   "cell_type": "code",
   "execution_count": null,
   "metadata": {},
   "outputs": [],
   "source": []
  }
 ],
 "metadata": {
  "kernelspec": {
   "display_name": "Python 2",
   "language": "python",
   "name": "python2"
  },
  "language_info": {
   "codemirror_mode": {
    "name": "ipython",
    "version": 2
   },
   "file_extension": ".py",
   "mimetype": "text/x-python",
   "name": "python",
   "nbconvert_exporter": "python",
   "pygments_lexer": "ipython2",
   "version": "2.7.15"
  }
 },
 "nbformat": 4,
 "nbformat_minor": 2
}
