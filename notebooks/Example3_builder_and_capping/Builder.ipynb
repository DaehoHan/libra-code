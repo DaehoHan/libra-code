{
 "cells": [
  {
   "cell_type": "code",
   "execution_count": 1,
   "metadata": {},
   "outputs": [
    {
     "name": "stderr",
     "output_type": "stream",
     "text": [
      "/home/alexey/miniconda2/envs/py37/lib/python3.7/importlib/_bootstrap.py:219: RuntimeWarning: to-Python converter for std::vector<std::complex<double>, std::allocator<std::complex<double> > > already registered; second conversion method ignored.\n",
      "  return f(*args, **kwds)\n",
      "/home/alexey/miniconda2/envs/py37/lib/python3.7/importlib/_bootstrap.py:219: RuntimeWarning: to-Python converter for std::vector<std::vector<int, std::allocator<int> >, std::allocator<std::vector<int, std::allocator<int> > > > already registered; second conversion method ignored.\n",
      "  return f(*args, **kwds)\n",
      "/home/alexey/miniconda2/envs/py37/lib/python3.7/importlib/_bootstrap.py:219: RuntimeWarning: to-Python converter for boost::python::detail::container_element<std::vector<std::vector<int, std::allocator<int> >, std::allocator<std::vector<int, std::allocator<int> > > >, unsigned long, boost::python::detail::final_vector_derived_policies<std::vector<std::vector<int, std::allocator<int> >, std::allocator<std::vector<int, std::allocator<int> > > >, false> > already registered; second conversion method ignored.\n",
      "  return f(*args, **kwds)\n",
      "/home/alexey/miniconda2/envs/py37/lib/python3.7/importlib/_bootstrap.py:219: RuntimeWarning: to-Python converter for std::vector<std::vector<float, std::allocator<float> >, std::allocator<std::vector<float, std::allocator<float> > > > already registered; second conversion method ignored.\n",
      "  return f(*args, **kwds)\n",
      "/home/alexey/miniconda2/envs/py37/lib/python3.7/importlib/_bootstrap.py:219: RuntimeWarning: to-Python converter for boost::python::detail::container_element<std::vector<std::vector<float, std::allocator<float> >, std::allocator<std::vector<float, std::allocator<float> > > >, unsigned long, boost::python::detail::final_vector_derived_policies<std::vector<std::vector<float, std::allocator<float> >, std::allocator<std::vector<float, std::allocator<float> > > >, false> > already registered; second conversion method ignored.\n",
      "  return f(*args, **kwds)\n",
      "/home/alexey/miniconda2/envs/py37/lib/python3.7/importlib/_bootstrap.py:219: RuntimeWarning: to-Python converter for std::vector<std::vector<double, std::allocator<double> >, std::allocator<std::vector<double, std::allocator<double> > > > already registered; second conversion method ignored.\n",
      "  return f(*args, **kwds)\n",
      "/home/alexey/miniconda2/envs/py37/lib/python3.7/importlib/_bootstrap.py:219: RuntimeWarning: to-Python converter for boost::python::detail::container_element<std::vector<std::vector<double, std::allocator<double> >, std::allocator<std::vector<double, std::allocator<double> > > >, unsigned long, boost::python::detail::final_vector_derived_policies<std::vector<std::vector<double, std::allocator<double> >, std::allocator<std::vector<double, std::allocator<double> > > >, false> > already registered; second conversion method ignored.\n",
      "  return f(*args, **kwds)\n",
      "/home/alexey/miniconda2/envs/py37/lib/python3.7/importlib/_bootstrap.py:219: RuntimeWarning: to-Python converter for boost::python::detail::container_element<std::vector<std::vector<std::complex<double>, std::allocator<std::complex<double> > >, std::allocator<std::vector<std::complex<double>, std::allocator<std::complex<double> > > > >, unsigned long, boost::python::detail::final_vector_derived_policies<std::vector<std::vector<std::complex<double>, std::allocator<std::complex<double> > >, std::allocator<std::vector<std::complex<double>, std::allocator<std::complex<double> > > > >, false> > already registered; second conversion method ignored.\n",
      "  return f(*args, **kwds)\n"
     ]
    }
   ],
   "source": [
    "import math\n",
    "import liblibra_core\n",
    "from liblibra_core import *\n",
    "from libra_py import build\n",
    "from libra_py import units\n",
    "from libra_py import autoconnect\n",
    "\n",
    "import py3Dmol\n",
    "\n",
    "import matplotlib.pyplot as plt\n",
    "#from matplotlib.pyplot import figure\n",
    "%matplotlib inline\n",
    "\n",
    "plt.rc('axes', titlesize=24)      # fontsize of the axes title\n",
    "plt.rc('axes', labelsize=20)      # fontsize of the x and y labels\n",
    "plt.rc('legend', fontsize=20)     # legend fontsize\n",
    "plt.rc('xtick', labelsize=16)    # fontsize of the tick labels\n",
    "plt.rc('ytick', labelsize=16)    # fontsize of the tick labels\n",
    "\n",
    "plt.rc('figure.subplot', left=0.2)\n",
    "plt.rc('figure.subplot', right=0.95)\n",
    "plt.rc('figure.subplot', bottom=0.13)\n",
    "plt.rc('figure.subplot', top=0.88)\n",
    "\n",
    "colors = {}\n",
    "colors.update({\"11\": \"#8b1a0e\"})  # red       \n",
    "colors.update({\"12\": \"#FF4500\"})  # orangered \n",
    "colors.update({\"13\": \"#B22222\"})  # firebrick \n",
    "colors.update({\"14\": \"#DC143C\"})  # crimson   \n",
    "\n",
    "colors.update({\"21\": \"#5e9c36\"})  # green\n",
    "colors.update({\"22\": \"#006400\"})  # darkgreen  \n",
    "colors.update({\"23\": \"#228B22\"})  # forestgreen\n",
    "colors.update({\"24\": \"#808000\"})  # olive      \n",
    "\n",
    "colors.update({\"31\": \"#8A2BE2\"})  # blueviolet\n",
    "colors.update({\"32\": \"#00008B\"})  # darkblue  \n",
    "\n",
    "colors.update({\"41\": \"#2F4F4F\"})  # darkslategray"
   ]
  },
  {
   "cell_type": "code",
   "execution_count": 2,
   "metadata": {},
   "outputs": [
    {
     "name": "stdout",
     "output_type": "stream",
     "text": [
      "['Si', 'Si', 'Si', 'Si'] [<liblibra_core.VECTOR object at 0x7fe9f598d6b0>, <liblibra_core.VECTOR object at 0x7fe9f598d5e0>, <liblibra_core.VECTOR object at 0x7fe9f598d648>, <liblibra_core.VECTOR object at 0x7fe9f598d510>]\n"
     ]
    }
   ],
   "source": [
    "L, R = build.read_xyz(\"Si.xyz\")\n",
    "print( L, R)"
   ]
  },
  {
   "cell_type": "code",
   "execution_count": 3,
   "metadata": {
    "scrolled": false
   },
   "outputs": [
    {
     "data": {
      "application/3dmoljs_load.v0": "<div id=\"3dmolviewer_15657493658850124\"  style=\"position: relative; width: 800px; height: 400px\">\n        <p id=\"3dmolwarning_15657493658850124\" style=\"background-color:#ffcccc;color:black\">You appear to be running in JupyterLab (or JavaScript failed to load for some other reason).  You need to install the 3dmol extension: <br>\n        <tt>jupyter labextension install jupyterlab_3dmol</tt></p>\n        </div>\n<script>\n\nvar loadScriptAsync = function(uri){\n  return new Promise((resolve, reject) => {\n    var tag = document.createElement('script');\n    tag.src = uri;\n    tag.async = true;\n    tag.onload = () => {\n      resolve();\n    };\n  var firstScriptTag = document.getElementsByTagName('script')[0];\n  firstScriptTag.parentNode.insertBefore(tag, firstScriptTag);\n});\n};\n\nif(typeof $3Dmolpromise === 'undefined') {\n$3Dmolpromise = null;\n  $3Dmolpromise = loadScriptAsync('https://3dmol.csb.pitt.edu/build/3Dmol.js');\n}\n\nvar viewer_15657493658850124 = null;\nvar warn = document.getElementById(\"3dmolwarning_15657493658850124\");\nif(warn) {\n    warn.parentNode.removeChild(warn);\n}\n$3Dmolpromise.then(function() {\nviewer_15657493658850124 = $3Dmol.createViewer($(\"#3dmolviewer_15657493658850124\"),{backgroundColor:\"white\"});\n\tviewer_15657493658850124.setBackgroundColor(\"0xeeeeee\");\n\tviewer_15657493658850124.zoomTo();\n\tviewer_15657493658850124.addModel(\"4\\n\\nSi     0.00000000    0.00000000    0.00000000 \\nSi     2.91650000    2.91650000    0.00000000 \\nSi     2.91650000    0.00000000    2.91650000 \\nSi     0.00000000    2.91650000    2.91650000 \\n\",\"xyz\",{\"vibrate\": {\"frames\": 10, \"amplitude\": 1.0}});\n\tviewer_15657493658850124.setStyle({\"sphere\": {\"colorscheme\": \"Jmol\"}});\nviewer_15657493658850124.render();\n});\n</script>",
      "text/html": [
       "<div id=\"3dmolviewer_15657493658850124\"  style=\"position: relative; width: 800px; height: 400px\">\n",
       "        <p id=\"3dmolwarning_15657493658850124\" style=\"background-color:#ffcccc;color:black\">You appear to be running in JupyterLab (or JavaScript failed to load for some other reason).  You need to install the 3dmol extension: <br>\n",
       "        <tt>jupyter labextension install jupyterlab_3dmol</tt></p>\n",
       "        </div>\n",
       "<script>\n",
       "\n",
       "var loadScriptAsync = function(uri){\n",
       "  return new Promise((resolve, reject) => {\n",
       "    var tag = document.createElement('script');\n",
       "    tag.src = uri;\n",
       "    tag.async = true;\n",
       "    tag.onload = () => {\n",
       "      resolve();\n",
       "    };\n",
       "  var firstScriptTag = document.getElementsByTagName('script')[0];\n",
       "  firstScriptTag.parentNode.insertBefore(tag, firstScriptTag);\n",
       "});\n",
       "};\n",
       "\n",
       "if(typeof $3Dmolpromise === 'undefined') {\n",
       "$3Dmolpromise = null;\n",
       "  $3Dmolpromise = loadScriptAsync('https://3dmol.csb.pitt.edu/build/3Dmol.js');\n",
       "}\n",
       "\n",
       "var viewer_15657493658850124 = null;\n",
       "var warn = document.getElementById(\"3dmolwarning_15657493658850124\");\n",
       "if(warn) {\n",
       "    warn.parentNode.removeChild(warn);\n",
       "}\n",
       "$3Dmolpromise.then(function() {\n",
       "viewer_15657493658850124 = $3Dmol.createViewer($(\"#3dmolviewer_15657493658850124\"),{backgroundColor:\"white\"});\n",
       "\tviewer_15657493658850124.setBackgroundColor(\"0xeeeeee\");\n",
       "\tviewer_15657493658850124.zoomTo();\n",
       "\tviewer_15657493658850124.addModel(\"4\\n\\nSi     0.00000000    0.00000000    0.00000000 \\nSi     2.91650000    2.91650000    0.00000000 \\nSi     2.91650000    0.00000000    2.91650000 \\nSi     0.00000000    2.91650000    2.91650000 \\n\",\"xyz\",{\"vibrate\": {\"frames\": 10, \"amplitude\": 1.0}});\n",
       "\tviewer_15657493658850124.setStyle({\"sphere\": {\"colorscheme\": \"Jmol\"}});\n",
       "viewer_15657493658850124.render();\n",
       "});\n",
       "</script>"
      ]
     },
     "metadata": {},
     "output_type": "display_data"
    },
    {
     "name": "stdout",
     "output_type": "stream",
     "text": [
      "4\n",
      "\n",
      "Si     0.00000000    0.00000000    0.00000000 \n",
      "Si     2.91650000    2.91650000    0.00000000 \n",
      "Si     2.91650000    0.00000000    2.91650000 \n",
      "Si     0.00000000    2.91650000    2.91650000 \n",
      "\n"
     ]
    }
   ],
   "source": [
    "xyz = build.make_xyz(L, R)\n",
    "view = py3Dmol.view(width=800,height=400)  # linked=False,viewergrid=(3,2)\n",
    "view.setBackgroundColor('0xeeeeee')\n",
    "view.zoomTo()\n",
    "view.addModel(xyz,'xyz',{'vibrate': {'frames':10,'amplitude':1.0}})\n",
    "view.setStyle({'sphere':{'colorscheme':'Jmol'}})\n",
    "view.show()\n",
    "\n",
    "print( xyz)"
   ]
  },
  {
   "cell_type": "code",
   "execution_count": 4,
   "metadata": {},
   "outputs": [],
   "source": [
    "PT_coord = { \"Si\": 4 }\n",
    "MaxCoord = []\n",
    "for i in L:\n",
    "    MaxCoord.append(PT_coord[i])    # maximal coordination number of each atom in super-cell       \n",
    "\n",
    "params = {\"Rcut\":5.001 * units.Angst, \n",
    "          \"pbc_opt\":\"none\", \"opt\":0, \"verbosity\":0\n",
    "         }\n",
    "\n",
    "res, line, pairs = autoconnect.autoconnect(R, MaxCoord, params)"
   ]
  },
  {
   "cell_type": "code",
   "execution_count": 5,
   "metadata": {},
   "outputs": [
    {
     "name": "stdout",
     "output_type": "stream",
     "text": [
      "[[0, [1, 2, 3]], [1, [0, 2, 3]], [2, [0, 1, 3]], [3, [0, 1, 2]]]\n"
     ]
    }
   ],
   "source": [
    "print( res)"
   ]
  },
  {
   "cell_type": "code",
   "execution_count": 6,
   "metadata": {},
   "outputs": [
    {
     "name": "stdout",
     "output_type": "stream",
     "text": [
      "CONECT     1      2      3      4 \n",
      "CONECT     2      1      3      4 \n",
      "CONECT     3      1      2      4 \n",
      "CONECT     4      1      2      3 \n",
      "\n"
     ]
    }
   ],
   "source": [
    "print( line)"
   ]
  },
  {
   "cell_type": "code",
   "execution_count": 7,
   "metadata": {},
   "outputs": [
    {
     "name": "stdout",
     "output_type": "stream",
     "text": [
      "[[0, 1], [1, 1], [2, 1], [3, 1]]\n"
     ]
    }
   ],
   "source": [
    "out = autoconnect.find_undercoordinated_atoms(res, MaxCoord)\n",
    "\n",
    "print( out)"
   ]
  },
  {
   "cell_type": "code",
   "execution_count": null,
   "metadata": {},
   "outputs": [],
   "source": []
  }
 ],
 "metadata": {
  "kernelspec": {
   "display_name": "Python 3",
   "language": "python",
   "name": "python3"
  },
  "language_info": {
   "codemirror_mode": {
    "name": "ipython",
    "version": 3
   },
   "file_extension": ".py",
   "mimetype": "text/x-python",
   "name": "python",
   "nbconvert_exporter": "python",
   "pygments_lexer": "ipython3",
   "version": "3.7.3"
  }
 },
 "nbformat": 4,
 "nbformat_minor": 2
}
