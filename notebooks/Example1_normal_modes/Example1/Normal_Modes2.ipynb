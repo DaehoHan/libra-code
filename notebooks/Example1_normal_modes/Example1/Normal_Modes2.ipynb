{
 "cells": [
  {
   "cell_type": "code",
   "execution_count": 2,
   "metadata": {},
   "outputs": [
    {
     "name": "stderr",
     "output_type": "stream",
     "text": [
      "/home/alexey/miniconda2/envs/libra/lib/python2.7/site-packages/ipykernel_launcher.py:1: RuntimeWarning: to-Python converter for std::vector<std::complex<double>, std::allocator<std::complex<double> > > already registered; second conversion method ignored.\n",
      "  \"\"\"Entry point for launching an IPython kernel.\n",
      "/home/alexey/miniconda2/envs/libra/lib/python2.7/site-packages/ipykernel_launcher.py:1: RuntimeWarning: to-Python converter for std::vector<std::vector<int, std::allocator<int> >, std::allocator<std::vector<int, std::allocator<int> > > > already registered; second conversion method ignored.\n",
      "  \"\"\"Entry point for launching an IPython kernel.\n",
      "/home/alexey/miniconda2/envs/libra/lib/python2.7/site-packages/ipykernel_launcher.py:1: RuntimeWarning: to-Python converter for boost::python::detail::container_element<std::vector<std::vector<int, std::allocator<int> >, std::allocator<std::vector<int, std::allocator<int> > > >, unsigned long, boost::python::detail::final_vector_derived_policies<std::vector<std::vector<int, std::allocator<int> >, std::allocator<std::vector<int, std::allocator<int> > > >, false> > already registered; second conversion method ignored.\n",
      "  \"\"\"Entry point for launching an IPython kernel.\n",
      "/home/alexey/miniconda2/envs/libra/lib/python2.7/site-packages/ipykernel_launcher.py:1: RuntimeWarning: to-Python converter for std::vector<std::vector<float, std::allocator<float> >, std::allocator<std::vector<float, std::allocator<float> > > > already registered; second conversion method ignored.\n",
      "  \"\"\"Entry point for launching an IPython kernel.\n",
      "/home/alexey/miniconda2/envs/libra/lib/python2.7/site-packages/ipykernel_launcher.py:1: RuntimeWarning: to-Python converter for boost::python::detail::container_element<std::vector<std::vector<float, std::allocator<float> >, std::allocator<std::vector<float, std::allocator<float> > > >, unsigned long, boost::python::detail::final_vector_derived_policies<std::vector<std::vector<float, std::allocator<float> >, std::allocator<std::vector<float, std::allocator<float> > > >, false> > already registered; second conversion method ignored.\n",
      "  \"\"\"Entry point for launching an IPython kernel.\n",
      "/home/alexey/miniconda2/envs/libra/lib/python2.7/site-packages/ipykernel_launcher.py:1: RuntimeWarning: to-Python converter for std::vector<std::vector<double, std::allocator<double> >, std::allocator<std::vector<double, std::allocator<double> > > > already registered; second conversion method ignored.\n",
      "  \"\"\"Entry point for launching an IPython kernel.\n",
      "/home/alexey/miniconda2/envs/libra/lib/python2.7/site-packages/ipykernel_launcher.py:1: RuntimeWarning: to-Python converter for boost::python::detail::container_element<std::vector<std::vector<double, std::allocator<double> >, std::allocator<std::vector<double, std::allocator<double> > > >, unsigned long, boost::python::detail::final_vector_derived_policies<std::vector<std::vector<double, std::allocator<double> >, std::allocator<std::vector<double, std::allocator<double> > > >, false> > already registered; second conversion method ignored.\n",
      "  \"\"\"Entry point for launching an IPython kernel.\n",
      "/home/alexey/miniconda2/envs/libra/lib/python2.7/site-packages/ipykernel_launcher.py:1: RuntimeWarning: to-Python converter for boost::python::detail::container_element<std::vector<std::vector<std::complex<double>, std::allocator<std::complex<double> > >, std::allocator<std::vector<std::complex<double>, std::allocator<std::complex<double> > > > >, unsigned long, boost::python::detail::final_vector_derived_policies<std::vector<std::vector<std::complex<double>, std::allocator<std::complex<double> > >, std::allocator<std::vector<std::complex<double>, std::allocator<std::complex<double> > > > >, false> > already registered; second conversion method ignored.\n",
      "  \"\"\"Entry point for launching an IPython kernel.\n",
      "/home/alexey/miniconda2/envs/libra/lib/python2.7/site-packages/ipykernel_launcher.py:1: RuntimeWarning: to-Python converter for liblibra::libforcefield::Atom_Record already registered; second conversion method ignored.\n",
      "  \"\"\"Entry point for launching an IPython kernel.\n",
      "/home/alexey/miniconda2/envs/libra/lib/python2.7/site-packages/ipykernel_launcher.py:1: RuntimeWarning: to-Python converter for std::vector<liblibra::libforcefield::Atom_Record, std::allocator<liblibra::libforcefield::Atom_Record> > already registered; second conversion method ignored.\n",
      "  \"\"\"Entry point for launching an IPython kernel.\n",
      "/home/alexey/miniconda2/envs/libra/lib/python2.7/site-packages/ipykernel_launcher.py:1: RuntimeWarning: to-Python converter for boost::python::detail::container_element<std::vector<liblibra::libforcefield::Atom_Record, std::allocator<liblibra::libforcefield::Atom_Record> >, unsigned long, boost::python::detail::final_vector_derived_policies<std::vector<liblibra::libforcefield::Atom_Record, std::allocator<liblibra::libforcefield::Atom_Record> >, false> > already registered; second conversion method ignored.\n",
      "  \"\"\"Entry point for launching an IPython kernel.\n",
      "/home/alexey/miniconda2/envs/libra/lib/python2.7/site-packages/ipykernel_launcher.py:1: RuntimeWarning: to-Python converter for liblibra::libforcefield::Bond_Record already registered; second conversion method ignored.\n",
      "  \"\"\"Entry point for launching an IPython kernel.\n",
      "/home/alexey/miniconda2/envs/libra/lib/python2.7/site-packages/ipykernel_launcher.py:1: RuntimeWarning: to-Python converter for std::vector<liblibra::libforcefield::Bond_Record, std::allocator<liblibra::libforcefield::Bond_Record> > already registered; second conversion method ignored.\n",
      "  \"\"\"Entry point for launching an IPython kernel.\n",
      "/home/alexey/miniconda2/envs/libra/lib/python2.7/site-packages/ipykernel_launcher.py:1: RuntimeWarning: to-Python converter for boost::python::detail::container_element<std::vector<liblibra::libforcefield::Bond_Record, std::allocator<liblibra::libforcefield::Bond_Record> >, unsigned long, boost::python::detail::final_vector_derived_policies<std::vector<liblibra::libforcefield::Bond_Record, std::allocator<liblibra::libforcefield::Bond_Record> >, false> > already registered; second conversion method ignored.\n",
      "  \"\"\"Entry point for launching an IPython kernel.\n",
      "/home/alexey/miniconda2/envs/libra/lib/python2.7/site-packages/ipykernel_launcher.py:1: RuntimeWarning: to-Python converter for liblibra::libforcefield::Angle_Record already registered; second conversion method ignored.\n",
      "  \"\"\"Entry point for launching an IPython kernel.\n",
      "/home/alexey/miniconda2/envs/libra/lib/python2.7/site-packages/ipykernel_launcher.py:1: RuntimeWarning: to-Python converter for std::vector<liblibra::libforcefield::Angle_Record, std::allocator<liblibra::libforcefield::Angle_Record> > already registered; second conversion method ignored.\n",
      "  \"\"\"Entry point for launching an IPython kernel.\n",
      "/home/alexey/miniconda2/envs/libra/lib/python2.7/site-packages/ipykernel_launcher.py:1: RuntimeWarning: to-Python converter for boost::python::detail::container_element<std::vector<liblibra::libforcefield::Angle_Record, std::allocator<liblibra::libforcefield::Angle_Record> >, unsigned long, boost::python::detail::final_vector_derived_policies<std::vector<liblibra::libforcefield::Angle_Record, std::allocator<liblibra::libforcefield::Angle_Record> >, false> > already registered; second conversion method ignored.\n",
      "  \"\"\"Entry point for launching an IPython kernel.\n",
      "/home/alexey/miniconda2/envs/libra/lib/python2.7/site-packages/ipykernel_launcher.py:1: RuntimeWarning: to-Python converter for liblibra::libforcefield::Dihedral_Record already registered; second conversion method ignored.\n",
      "  \"\"\"Entry point for launching an IPython kernel.\n",
      "/home/alexey/miniconda2/envs/libra/lib/python2.7/site-packages/ipykernel_launcher.py:1: RuntimeWarning: to-Python converter for std::vector<liblibra::libforcefield::Dihedral_Record, std::allocator<liblibra::libforcefield::Dihedral_Record> > already registered; second conversion method ignored.\n",
      "  \"\"\"Entry point for launching an IPython kernel.\n",
      "/home/alexey/miniconda2/envs/libra/lib/python2.7/site-packages/ipykernel_launcher.py:1: RuntimeWarning: to-Python converter for boost::python::detail::container_element<std::vector<liblibra::libforcefield::Dihedral_Record, std::allocator<liblibra::libforcefield::Dihedral_Record> >, unsigned long, boost::python::detail::final_vector_derived_policies<std::vector<liblibra::libforcefield::Dihedral_Record, std::allocator<liblibra::libforcefield::Dihedral_Record> >, false> > already registered; second conversion method ignored.\n",
      "  \"\"\"Entry point for launching an IPython kernel.\n",
      "/home/alexey/miniconda2/envs/libra/lib/python2.7/site-packages/ipykernel_launcher.py:1: RuntimeWarning: to-Python converter for liblibra::libforcefield::Fragment_Record already registered; second conversion method ignored.\n",
      "  \"\"\"Entry point for launching an IPython kernel.\n",
      "/home/alexey/miniconda2/envs/libra/lib/python2.7/site-packages/ipykernel_launcher.py:1: RuntimeWarning: to-Python converter for liblibra::libforcefield::ForceField already registered; second conversion method ignored.\n",
      "  \"\"\"Entry point for launching an IPython kernel.\n"
     ]
    }
   ],
   "source": [
    "from liblibra_core import *\n",
    "from libra_py import *\n",
    "import math\n",
    "import py3Dmol"
   ]
  },
  {
   "cell_type": "code",
   "execution_count": 3,
   "metadata": {
    "scrolled": true
   },
   "outputs": [
    {
     "data": {
      "text/plain": [
       "'\\nC = QE_methods.read_md_data_cell(\"au-c60.xml\")\\n\\nprint C.get(0,0), C.get(1,0), C.get(2,0)\\nprint C.get(3,0), C.get(4,0), C.get(5,0)\\nprint C.get(6,0), C.get(7,0), C.get(8,0)\\n\\nH = MATRIX3x3()\\nH.xx = C.get(0,0);  H.xy = C.get(0,1);  H.xz = C.get(0,2);\\nH.yx = C.get(1,0);  H.yy = C.get(1,1);  H.yz = C.get(1,2);\\nH.zx = C.get(2,0);  H.zy = C.get(2,1);  H.zz = C.get(2,2);\\n\\ntH = H.T()\\nfR = fold_coords(R, tH, \"a\")\\n'"
      ]
     },
     "execution_count": 3,
     "metadata": {},
     "output_type": "execute_result"
    }
   ],
   "source": [
    "params = {\"nsteps\":100, \"nperiods\":1, \"scale\":250.0, \"visualize\":0, \"verbosity\":0, \"prefix\":\"_Si8_cov_flag0\"}\n",
    "\n",
    "R, V, A, M, E = QE_methods.read_md_data(\"au-c60.xml\")\n",
    "\n",
    "\"\"\"\n",
    "C = QE_methods.read_md_data_cell(\"au-c60.xml\")\n",
    "\n",
    "print C.get(0,0), C.get(1,0), C.get(2,0)\n",
    "print C.get(3,0), C.get(4,0), C.get(5,0)\n",
    "print C.get(6,0), C.get(7,0), C.get(8,0)\n",
    "\n",
    "H = MATRIX3x3()\n",
    "H.xx = C.get(0,0);  H.xy = C.get(0,1);  H.xz = C.get(0,2);\n",
    "H.yx = C.get(1,0);  H.yy = C.get(1,1);  H.yz = C.get(1,2);\n",
    "H.zx = C.get(2,0);  H.zy = C.get(2,1);  H.zz = C.get(2,2);\n",
    "\n",
    "tH = H.T()\n",
    "fR = fold_coords(R, tH, \"a\")\n",
    "\"\"\""
   ]
  },
  {
   "cell_type": "markdown",
   "metadata": {},
   "source": [
    "### Method 1:\n",
    "\n",
    "Strachan, A. Normal Modes and Frequencies from Covariances in Molecular Dynamics \n",
    "    or Monte Carlo Simulation. J. Chem. Phys. 2003, 120, 1-4.\n",
    "    \n",
    "In the following 2 calls *res* is a tuple (w, w_inv_cm, U_v,  w2, w2_inv_cm, U_a)"
   ]
  },
  {
   "cell_type": "code",
   "execution_count": 4,
   "metadata": {},
   "outputs": [],
   "source": [
    "params.update({\"cov_flag\":0})\n",
    "res00 = normal_modes.compute_cov( R, V, A, M, E, params)"
   ]
  },
  {
   "cell_type": "markdown",
   "metadata": {},
   "source": [
    "Another option is to use data centered around the averages (fluctuations)"
   ]
  },
  {
   "cell_type": "code",
   "execution_count": 5,
   "metadata": {},
   "outputs": [],
   "source": [
    "params.update({\"cov_flag\":1})\n",
    "res01 = normal_modes.compute_cov( R, V, A, M, E, params)\n"
   ]
  },
  {
   "cell_type": "markdown",
   "metadata": {},
   "source": [
    "### Method 2:\n",
    "Pereverzev, A.; Sewell, T. D. Obtaining the Hessian from the Force Covariance Matrix:\n",
    "    Application to Crystalline Explosives PETN and RDX. J. Chem. Phys. 2015, 142, 134110.\n",
    "    \n",
    "In the following 2 calls *res* is a tuple (w_a, w_inv_cm, U_a)\n",
    "Again, without centering:"
   ]
  },
  {
   "cell_type": "code",
   "execution_count": 6,
   "metadata": {},
   "outputs": [],
   "source": [
    "params.update({\"cov_flag\":0})\n",
    "res20 = normal_modes.compute_cov2( R, A, M, E, 300.0, params)"
   ]
  },
  {
   "cell_type": "markdown",
   "metadata": {},
   "source": [
    "With the centering:"
   ]
  },
  {
   "cell_type": "code",
   "execution_count": 7,
   "metadata": {},
   "outputs": [],
   "source": [
    "params.update({\"cov_flag\":1})\n",
    "res21 = normal_modes.compute_cov2( R, A, M, E, 300.0, params)"
   ]
  },
  {
   "cell_type": "markdown",
   "metadata": {},
   "source": [
    "Now, we can select which normal modes to visualize:"
   ]
  },
  {
   "cell_type": "code",
   "execution_count": 14,
   "metadata": {},
   "outputs": [
    {
     "data": {
      "application/3dmoljs_load.v0": "<div id=\"3dmolviewer_154877325728\"  style=\"position: relative; width: 1000px; height: 800px\">\n        <p id=\"3dmolwarning_154877325728\" style=\"background-color:#ffcccc;color:black\">You appear to be running in JupyterLab.  You need to install the 3dmol extension: <br>\n        <tt>jupyter labextension install jupyterlab_3dmol</tt></p>\n        </div>\n<script>\n\nvar loadScriptAsync = function(uri){\n  return new Promise((resolve, reject) => {\n    var tag = document.createElement('script');\n    tag.src = uri;\n    tag.async = true;\n    tag.onload = () => {\n      resolve();\n    };\n  var firstScriptTag = document.getElementsByTagName('script')[0];\n  firstScriptTag.parentNode.insertBefore(tag, firstScriptTag);\n});\n};\n\nif(typeof $3Dmolpromise === 'undefined') {\n$3Dmolpromise = null;\n  $3Dmolpromise = loadScriptAsync('https://3dmol.csb.pitt.edu/build/3Dmol.js');\n}\n\nvar viewer_154877325728 = null;\nvar warn = document.getElementById(\"3dmolwarning_154877325728\");\nif(warn) {\n    warn.parentNode.removeChild(warn);\n}\n$3Dmolpromise.then(function() {\nvar viewergrid_154877325728 = null;\nviewergrid_154877325728 = $3Dmol.createViewerGrid($(\"#3dmolviewer_154877325728\"),{rows: 3, cols: 2, control_all: false},{backgroundColor:\"white\"});\nviewer_154877325728 = viewergrid_154877325728[0][0];\n\tviewergrid_154877325728[0][0].addModel(\"108\\nComment\\nAu  -0.372  19.245  -2.014  0.000  -0.000  -0.000\\nAu  -0.250  19.048  11.653  -0.000  0.000  0.000\\nAu  -0.349  9.843  -2.038  -0.000  0.000  -0.000\\nAu  -0.231  9.600  11.649  -0.000  -0.000  -0.000\\nAu  5.073  19.266  -2.013  -0.000  -0.000  0.000\\nAu  5.200  19.034  11.635  -0.000  -0.000  0.000\\nAu  5.086  9.830  -1.999  -0.000  -0.000  -0.000\\nAu  5.210  9.613  11.679  0.000  -0.000  -0.000\\nAu  10.536  19.259  -2.019  -0.000  0.000  0.000\\nAu  10.652  19.044  11.647  0.000  0.000  -0.000\\nAu  10.570  9.828  -2.037  0.000  -0.000  0.000\\nAu  10.655  9.600  11.635  -0.000  -0.000  0.000\\nAu  2.404  8.063  2.542  0.000  -0.000  0.000\\nAu  2.417  17.516  2.547  -0.000  -0.000  -0.000\\nAu  7.864  8.080  2.533  0.000  0.000  0.000\\nAu  7.852  17.527  2.520  0.000  -0.000  -0.000\\nAu  13.303  8.074  2.532  0.000  0.000  -0.000\\nAu  13.316  17.533  2.544  0.000  -0.000  0.000\\nAu  -0.311  3.361  2.527  0.000  -0.000  0.000\\nAu  -0.328  12.807  2.565  -0.000  -0.000  -0.000\\nAu  5.122  3.360  2.538  0.000  0.000  -0.000\\nAu  5.122  12.806  2.537  -0.000  -0.000  -0.000\\nAu  10.575  3.370  2.539  -0.000  0.000  0.000\\nAu  10.589  12.781  2.545  0.000  -0.000  -0.000\\nAu  -0.275  6.646  7.077  0.000  -0.000  -0.000\\nAu  -0.308  16.090  7.089  0.000  -0.000  0.000\\nAu  5.156  6.656  7.098  0.000  0.000  -0.000\\nAu  5.171  16.069  7.106  0.000  -0.000  0.000\\nAu  10.623  6.649  7.074  0.000  0.000  0.000\\nAu  10.605  16.101  7.121  0.000  -0.000  -0.000\\nAu  2.436  1.933  7.101  0.000  -0.000  0.000\\nAu  2.453  11.353  7.091  -0.000  -0.000  -0.000\\nAu  7.890  1.954  7.082  0.000  -0.000  0.000\\nAu  7.887  11.350  7.093  -0.000  0.000  -0.000\\nAu  13.359  1.935  7.090  -0.000  0.000  -0.000\\nAu  13.329  11.352  7.087  -0.000  0.000  -0.000\\nAu  2.377  5.100  -2.033  -0.000  -0.000  0.000\\nAu  2.491  4.889  11.668  -0.000  0.000  -0.000\\nAu  2.372  14.534  -2.028  -0.000  0.000  0.000\\nAu  2.477  14.349  11.668  -0.000  0.000  -0.000\\nAu  7.852  5.101  -2.034  -0.000  -0.000  -0.000\\nAu  7.916  4.891  11.652  0.000  0.000  0.000\\nAu  7.807  14.542  -2.000  0.000  -0.000  0.000\\nAu  7.933  14.341  11.663  -0.000  0.000  -0.000\\nAu  13.279  5.103  -2.011  0.000  0.000  -0.000\\nAu  13.369  4.905  11.655  -0.000  0.000  0.000\\nAu  13.265  14.554  -2.010  0.000  -0.000  -0.000\\nAu  13.384  14.317  11.666  0.000  0.000  -0.000\\nC  14.164  8.521  27.105  -0.000  0.000  0.000\\nC  2.219  10.458  23.250  -0.001  -0.000  -0.000\\nC  11.046  15.271  23.100  -0.000  0.000  0.000\\nC  5.369  3.705  27.293  -0.000  -0.001  0.000\\nC  8.341  13.062  30.999  0.000  -0.001  -0.000\\nC  8.043  5.915  19.370  -0.000  0.000  -0.000\\nC  14.231  7.600  24.672  -0.001  0.000  0.000\\nC  2.188  11.379  25.707  0.000  -0.000  0.000\\nC  8.504  15.843  22.816  0.000  -0.001  0.000\\nC  7.889  3.114  27.571  -0.001  -0.001  -0.000\\nC  7.712  10.615  31.863  -0.000  0.001  -0.000\\nC  8.686  8.363  18.468  0.000  0.000  -0.001\\nC  13.901  11.158  27.559  -0.000  0.000  -0.000\\nC  2.487  7.813  22.805  0.000  0.000  0.001\\nC  12.084  14.953  25.646  -0.000  -0.000  -0.000\\nC  4.351  4.025  24.745  -0.000  -0.000  0.000\\nC  10.821  13.530  29.959  0.000  0.000  0.000\\nC  5.576  5.453  20.406  -0.000  0.000  -0.000\\nC  13.119  5.245  24.011  0.000  0.000  -0.000\\nC  3.289  13.743  26.357  0.000  0.000  0.000\\nC  7.056  14.567  20.837  0.001  0.000  0.000\\nC  9.348  4.412  29.538  -0.000  -0.000  0.000\\nC  5.278  9.534  31.314  -0.000  -0.000  -0.000\\nC  11.105  9.450  19.076  -0.000  -0.000  -0.000\\nC  12.996  7.143  29.107  -0.000  -0.001  0.001\\nC  3.394  11.844  21.254  0.000  -0.000  0.000\\nC  12.176  13.382  21.448  -0.000  -0.000  0.001\\nC  4.237  5.597  28.936  -0.000  0.001  0.000\\nC  6.577  14.537  29.483  0.000  -0.000  -0.001\\nC  9.827  4.444  20.886  0.000  -0.001  0.000\\nC  13.793  11.876  22.997  0.000  -0.000  -0.001\\nC  2.642  7.118  27.384  -0.001  0.000  -0.001\\nC  7.948  15.872  27.514  -0.001  -0.001  0.001\\nC  8.459  3.127  22.852  0.000  0.001  -0.000\\nC  11.911  9.000  30.794  0.000  -0.000  0.000\\nC  4.499  9.971  19.568  -0.000  0.000  0.000\\nC  14.037  9.289  22.577  0.000  0.000  -0.001\\nC  2.378  9.687  27.795  -0.000  0.001  0.000\\nC  6.963  16.125  25.053  -0.000  0.000  -0.000\\nC  9.450  2.863  25.323  -0.000  -0.000  0.000\\nC  9.541  8.549  31.802  -0.000  0.000  0.000\\nC  6.872  10.428  18.553  -0.000  0.000  -0.000\\nC  13.741  12.811  25.528  -0.000  0.000  0.000\\nC  2.670  6.161  24.835  -0.000  0.000  -0.000\\nC  10.591  15.246  27.814  0.000  0.000  0.000\\nC  5.814  3.717  22.551  0.000  0.001  -0.000\\nC  12.532  11.520  29.866  0.001  -0.000  -0.000\\nC  3.866  7.469  20.497  0.000  -0.001  0.000\\nC  11.870  3.912  25.909  0.000  0.000  -0.000\\nC  4.521  15.082  24.463  0.000  -0.000  -0.000\\nC  8.173  12.778  19.217  0.000  -0.000  -0.001\\nC  8.245  6.218  31.154  -0.000  0.000  -0.000\\nC  3.632  10.966  29.820  -0.000  -0.001  -0.000\\nC  12.771  8.031  20.561  0.000  0.001  -0.000\\nC  11.810  4.883  28.497  0.000  -0.001  0.000\\nC  4.577  14.104  21.872  -0.000  0.000  0.000\\nC  10.800  12.157  19.542  -0.000  0.001  -0.000\\nC  5.603  6.827  30.847  0.000  0.000  0.001\\nC  4.253  13.473  28.895  -0.000  0.001  -0.000\\nC  12.144  5.502  21.463  0.000  -0.001  0.000\\n\",\"xyz\",{\"vibrate\": {\"frames\": 10, \"amplitude\": 10000}});\n\tviewergrid_154877325728[0][1].addModel(\"108\\nComment\\nAu  -0.372  19.245  -2.014  0.000  -0.000  -0.000\\nAu  -0.250  19.048  11.653  -0.000  0.000  0.000\\nAu  -0.349  9.843  -2.038  -0.000  0.000  -0.000\\nAu  -0.231  9.600  11.649  -0.000  -0.000  -0.000\\nAu  5.073  19.266  -2.013  -0.000  0.000  0.000\\nAu  5.200  19.034  11.635  -0.000  -0.000  0.000\\nAu  5.086  9.830  -1.999  -0.000  -0.000  -0.000\\nAu  5.210  9.613  11.679  0.000  -0.000  -0.000\\nAu  10.536  19.259  -2.019  -0.000  0.000  0.000\\nAu  10.652  19.044  11.647  0.000  -0.000  -0.000\\nAu  10.570  9.828  -2.037  0.000  -0.000  0.000\\nAu  10.655  9.600  11.635  -0.000  -0.000  0.000\\nAu  2.404  8.063  2.542  -0.000  -0.000  0.000\\nAu  2.417  17.516  2.547  -0.000  -0.000  -0.000\\nAu  7.864  8.080  2.533  0.000  -0.000  0.000\\nAu  7.852  17.527  2.520  0.000  -0.000  -0.000\\nAu  13.303  8.074  2.532  0.000  -0.000  -0.000\\nAu  13.316  17.533  2.544  0.000  -0.000  0.000\\nAu  -0.311  3.361  2.527  0.000  -0.000  0.000\\nAu  -0.328  12.807  2.565  -0.000  -0.000  -0.000\\nAu  5.122  3.360  2.538  0.000  0.000  -0.000\\nAu  5.122  12.806  2.537  -0.000  -0.000  -0.000\\nAu  10.575  3.370  2.539  -0.000  0.000  0.000\\nAu  10.589  12.781  2.545  0.000  -0.000  -0.000\\nAu  -0.275  6.646  7.077  0.000  -0.000  -0.000\\nAu  -0.308  16.090  7.089  0.000  -0.000  0.000\\nAu  5.156  6.656  7.098  0.000  0.000  0.000\\nAu  5.171  16.069  7.106  0.000  -0.000  0.000\\nAu  10.623  6.649  7.074  0.000  0.000  0.000\\nAu  10.605  16.101  7.121  0.000  -0.000  -0.000\\nAu  2.436  1.933  7.101  0.000  -0.000  0.000\\nAu  2.453  11.353  7.091  -0.000  -0.000  -0.000\\nAu  7.890  1.954  7.082  0.000  -0.000  0.000\\nAu  7.887  11.350  7.093  0.000  0.000  -0.000\\nAu  13.359  1.935  7.090  -0.000  0.000  -0.000\\nAu  13.329  11.352  7.087  -0.000  0.000  -0.000\\nAu  2.377  5.100  -2.033  0.000  -0.000  0.000\\nAu  2.491  4.889  11.668  -0.000  0.000  -0.000\\nAu  2.372  14.534  -2.028  -0.000  0.000  0.000\\nAu  2.477  14.349  11.668  0.000  0.000  -0.000\\nAu  7.852  5.101  -2.034  -0.000  -0.000  -0.000\\nAu  7.916  4.891  11.652  0.000  0.000  0.000\\nAu  7.807  14.542  -2.000  0.000  -0.000  0.000\\nAu  7.933  14.341  11.663  0.000  0.000  -0.000\\nAu  13.279  5.103  -2.011  0.000  0.000  -0.000\\nAu  13.369  4.905  11.655  -0.000  0.000  0.000\\nAu  13.265  14.554  -2.010  -0.000  -0.000  -0.000\\nAu  13.384  14.317  11.666  0.000  0.000  -0.000\\nC  14.164  8.521  27.105  0.000  0.000  0.000\\nC  2.219  10.458  23.250  -0.001  -0.000  -0.001\\nC  11.046  15.271  23.100  -0.000  0.000  0.000\\nC  5.369  3.705  27.293  0.000  -0.001  0.000\\nC  8.341  13.062  30.999  0.000  -0.001  -0.000\\nC  8.043  5.915  19.370  -0.000  0.000  -0.000\\nC  14.231  7.600  24.672  -0.001  0.000  0.000\\nC  2.188  11.379  25.707  0.000  -0.000  0.000\\nC  8.504  15.843  22.816  0.000  -0.001  0.000\\nC  7.889  3.114  27.571  -0.001  -0.001  -0.000\\nC  7.712  10.615  31.863  0.000  0.001  -0.000\\nC  8.686  8.363  18.468  0.000  0.000  -0.001\\nC  13.901  11.158  27.559  -0.000  0.000  -0.000\\nC  2.487  7.813  22.805  0.000  0.000  0.001\\nC  12.084  14.953  25.646  -0.000  -0.000  -0.000\\nC  4.351  4.025  24.745  -0.000  -0.000  0.000\\nC  10.821  13.530  29.959  0.000  0.000  0.000\\nC  5.576  5.453  20.406  -0.000  -0.000  -0.000\\nC  13.119  5.245  24.011  0.000  0.000  -0.000\\nC  3.289  13.743  26.357  0.000  0.000  0.000\\nC  7.056  14.567  20.837  0.001  0.000  0.000\\nC  9.348  4.412  29.538  -0.000  -0.000  0.000\\nC  5.278  9.534  31.314  -0.000  -0.000  -0.000\\nC  11.105  9.450  19.076  -0.000  -0.000  -0.001\\nC  12.996  7.143  29.107  -0.000  -0.001  0.001\\nC  3.394  11.844  21.254  0.000  -0.000  0.000\\nC  12.176  13.382  21.448  -0.000  0.000  0.001\\nC  4.237  5.597  28.936  -0.000  0.001  0.001\\nC  6.577  14.537  29.483  0.000  -0.000  -0.001\\nC  9.827  4.444  20.886  -0.000  -0.001  0.000\\nC  13.793  11.876  22.997  0.000  -0.000  -0.001\\nC  2.642  7.118  27.384  -0.001  0.000  -0.001\\nC  7.948  15.872  27.514  -0.001  -0.001  0.001\\nC  8.459  3.127  22.852  0.000  0.001  -0.000\\nC  11.911  9.000  30.794  0.000  -0.000  0.000\\nC  4.499  9.971  19.568  -0.000  0.000  0.000\\nC  14.037  9.289  22.577  0.000  0.000  -0.001\\nC  2.378  9.687  27.795  -0.000  0.001  0.000\\nC  6.963  16.125  25.053  -0.000  0.000  -0.000\\nC  9.450  2.863  25.323  -0.000  -0.000  0.000\\nC  9.541  8.549  31.802  -0.000  0.000  0.000\\nC  6.872  10.428  18.553  -0.000  0.000  -0.000\\nC  13.741  12.811  25.528  -0.000  0.000  0.000\\nC  2.670  6.161  24.835  0.000  0.000  -0.000\\nC  10.591  15.246  27.814  0.000  0.000  0.000\\nC  5.814  3.717  22.551  0.000  0.000  -0.000\\nC  12.532  11.520  29.866  0.001  -0.000  -0.000\\nC  3.866  7.469  20.497  0.000  -0.000  -0.000\\nC  11.870  3.912  25.909  0.000  -0.000  -0.000\\nC  4.521  15.082  24.463  0.000  -0.000  -0.000\\nC  8.173  12.778  19.217  0.000  -0.000  -0.001\\nC  8.245  6.218  31.154  -0.000  0.001  -0.000\\nC  3.632  10.966  29.820  -0.000  -0.001  0.000\\nC  12.771  8.031  20.561  0.000  0.000  -0.000\\nC  11.810  4.883  28.497  0.001  -0.001  0.000\\nC  4.577  14.104  21.872  -0.000  0.000  0.000\\nC  10.800  12.157  19.542  -0.000  0.000  -0.000\\nC  5.603  6.827  30.847  0.000  0.000  0.001\\nC  4.253  13.473  28.895  -0.000  0.001  0.000\\nC  12.144  5.502  21.463  0.001  -0.001  0.000\\n\",\"xyz\",{\"vibrate\": {\"frames\": 10, \"amplitude\": 10000}});\n\tviewergrid_154877325728[1][0].addModel(\"108\\nComment\\nAu  -0.372  19.245  -2.014  -0.000  0.000  0.000\\nAu  -0.250  19.048  11.653  0.000  0.000  0.000\\nAu  -0.349  9.843  -2.038  0.000  -0.000  0.000\\nAu  -0.231  9.600  11.649  0.000  0.000  0.000\\nAu  5.073  19.266  -2.013  0.000  -0.000  -0.000\\nAu  5.200  19.034  11.635  -0.000  0.000  -0.000\\nAu  5.086  9.830  -1.999  -0.000  0.000  0.000\\nAu  5.210  9.613  11.679  0.000  -0.000  -0.000\\nAu  10.536  19.259  -2.019  -0.000  -0.000  0.000\\nAu  10.652  19.044  11.647  -0.000  -0.000  -0.000\\nAu  10.570  9.828  -2.037  0.000  0.000  -0.000\\nAu  10.655  9.600  11.635  0.000  0.000  0.000\\nAu  2.404  8.063  2.542  0.000  -0.000  0.000\\nAu  2.417  17.516  2.547  0.000  -0.000  0.000\\nAu  7.864  8.080  2.533  0.000  0.000  -0.000\\nAu  7.852  17.527  2.520  0.000  0.000  0.000\\nAu  13.303  8.074  2.532  -0.000  -0.000  0.000\\nAu  13.316  17.533  2.544  0.000  0.000  0.000\\nAu  -0.311  3.361  2.527  0.000  -0.000  0.000\\nAu  -0.328  12.807  2.565  0.000  -0.000  -0.000\\nAu  5.122  3.360  2.538  -0.000  -0.000  0.000\\nAu  5.122  12.806  2.537  0.000  -0.000  -0.000\\nAu  10.575  3.370  2.539  -0.000  0.000  -0.000\\nAu  10.589  12.781  2.545  0.000  0.000  -0.000\\nAu  -0.275  6.646  7.077  0.000  0.000  0.000\\nAu  -0.308  16.090  7.089  -0.000  -0.000  0.000\\nAu  5.156  6.656  7.098  -0.000  -0.000  -0.000\\nAu  5.171  16.069  7.106  -0.000  -0.000  0.000\\nAu  10.623  6.649  7.074  -0.000  -0.000  0.000\\nAu  10.605  16.101  7.121  -0.000  -0.000  0.000\\nAu  2.436  1.933  7.101  -0.000  -0.000  0.000\\nAu  2.453  11.353  7.091  0.000  -0.000  0.000\\nAu  7.890  1.954  7.082  -0.000  -0.000  -0.000\\nAu  7.887  11.350  7.093  0.000  -0.000  -0.000\\nAu  13.359  1.935  7.090  -0.000  0.000  -0.000\\nAu  13.329  11.352  7.087  0.000  -0.000  -0.000\\nAu  2.377  5.100  -2.033  0.000  0.000  0.000\\nAu  2.491  4.889  11.668  -0.000  0.000  -0.000\\nAu  2.372  14.534  -2.028  0.000  0.000  -0.000\\nAu  2.477  14.349  11.668  0.000  0.000  0.000\\nAu  7.852  5.101  -2.034  -0.000  -0.000  -0.000\\nAu  7.916  4.891  11.652  -0.000  -0.000  -0.000\\nAu  7.807  14.542  -2.000  -0.000  0.000  -0.000\\nAu  7.933  14.341  11.663  0.000  -0.000  -0.000\\nAu  13.279  5.103  -2.011  -0.000  -0.000  -0.000\\nAu  13.369  4.905  11.655  -0.000  0.000  -0.000\\nAu  13.265  14.554  -2.010  -0.000  0.000  -0.000\\nAu  13.384  14.317  11.666  0.000  0.000  -0.000\\nC  14.164  8.521  27.105  -0.000  -0.000  0.000\\nC  2.219  10.458  23.250  0.000  0.000  -0.000\\nC  11.046  15.271  23.100  0.000  -0.000  0.000\\nC  5.369  3.705  27.293  -0.000  0.000  -0.000\\nC  8.341  13.062  30.999  -0.000  -0.000  0.000\\nC  8.043  5.915  19.370  0.000  0.000  -0.000\\nC  14.231  7.600  24.672  -0.000  -0.000  0.000\\nC  2.188  11.379  25.707  0.000  0.000  -0.000\\nC  8.504  15.843  22.816  0.000  0.000  0.000\\nC  7.889  3.114  27.571  -0.000  0.000  -0.000\\nC  7.712  10.615  31.863  -0.000  -0.000  0.000\\nC  8.686  8.363  18.468  0.000  0.000  0.000\\nC  13.901  11.158  27.559  -0.000  -0.000  0.000\\nC  2.487  7.813  22.805  0.000  0.000  -0.000\\nC  12.084  14.953  25.646  0.000  -0.000  0.000\\nC  4.351  4.025  24.745  -0.000  0.000  -0.000\\nC  10.821  13.530  29.959  -0.000  -0.000  0.000\\nC  5.576  5.453  20.406  0.000  0.000  -0.000\\nC  13.119  5.245  24.011  -0.000  -0.000  0.000\\nC  3.289  13.743  26.357  0.000  0.000  -0.000\\nC  7.056  14.567  20.837  0.000  0.000  0.000\\nC  9.348  4.412  29.538  -0.000  -0.000  0.000\\nC  5.278  9.534  31.314  -0.000  0.000  -0.000\\nC  11.105  9.450  19.076  0.000  0.000  0.000\\nC  12.996  7.143  29.107  -0.000  -0.000  0.000\\nC  3.394  11.844  21.254  0.000  0.000  -0.000\\nC  12.176  13.382  21.448  0.000  -0.000  0.000\\nC  4.237  5.597  28.936  -0.000  0.000  -0.000\\nC  6.577  14.537  29.483  -0.000  0.000  -0.000\\nC  9.827  4.444  20.886  0.000  0.000  0.000\\nC  13.793  11.876  22.997  0.000  -0.000  0.000\\nC  2.642  7.118  27.384  -0.000  0.000  -0.000\\nC  7.948  15.872  27.514  0.000  0.000  0.000\\nC  8.459  3.127  22.852  -0.000  0.000  -0.000\\nC  11.911  9.000  30.794  -0.000  -0.000  0.000\\nC  4.499  9.971  19.568  0.000  0.000  -0.000\\nC  14.037  9.289  22.577  0.000  -0.000  0.000\\nC  2.378  9.687  27.795  -0.000  0.000  -0.000\\nC  6.963  16.125  25.053  0.000  0.000  0.000\\nC  9.450  2.863  25.323  -0.000  0.000  -0.000\\nC  9.541  8.549  31.802  -0.000  -0.000  0.000\\nC  6.872  10.428  18.553  0.000  0.000  -0.000\\nC  13.741  12.811  25.528  0.000  -0.000  0.000\\nC  2.670  6.161  24.835  -0.000  0.000  -0.000\\nC  10.591  15.246  27.814  0.000  -0.000  0.000\\nC  5.814  3.717  22.551  -0.000  0.000  -0.000\\nC  12.532  11.520  29.866  -0.000  -0.000  0.000\\nC  3.866  7.469  20.497  0.000  0.000  -0.000\\nC  11.870  3.912  25.909  -0.000  -0.000  0.000\\nC  4.521  15.082  24.463  0.000  0.000  -0.000\\nC  8.173  12.778  19.217  0.000  0.000  0.000\\nC  8.245  6.218  31.154  -0.000  -0.000  -0.000\\nC  3.632  10.966  29.820  -0.000  0.000  -0.000\\nC  12.771  8.031  20.561  0.000  -0.000  0.000\\nC  11.810  4.883  28.497  -0.000  -0.000  0.000\\nC  4.577  14.104  21.872  0.000  0.000  -0.000\\nC  10.800  12.157  19.542  0.000  0.000  0.000\\nC  5.603  6.827  30.847  -0.000  0.000  -0.000\\nC  4.253  13.473  28.895  -0.000  0.000  -0.000\\nC  12.144  5.502  21.463  0.000  -0.000  0.000\\n\",\"xyz\",{\"vibrate\": {\"frames\": 10, \"amplitude\": 10000}});\n\tviewergrid_154877325728[1][1].addModel(\"108\\nComment\\nAu  -0.372  19.245  -2.014  -0.000  0.000  0.000\\nAu  -0.250  19.048  11.653  0.000  0.000  0.000\\nAu  -0.349  9.843  -2.038  0.000  -0.000  0.000\\nAu  -0.231  9.600  11.649  0.000  0.000  0.000\\nAu  5.073  19.266  -2.013  0.000  -0.000  -0.000\\nAu  5.200  19.034  11.635  -0.000  0.000  -0.000\\nAu  5.086  9.830  -1.999  -0.000  0.000  0.000\\nAu  5.210  9.613  11.679  0.000  -0.000  -0.000\\nAu  10.536  19.259  -2.019  -0.000  -0.000  0.000\\nAu  10.652  19.044  11.647  -0.000  -0.000  -0.000\\nAu  10.570  9.828  -2.037  0.000  0.000  -0.000\\nAu  10.655  9.600  11.635  0.000  0.000  0.000\\nAu  2.404  8.063  2.542  -0.000  -0.000  0.000\\nAu  2.417  17.516  2.547  0.000  -0.000  0.000\\nAu  7.864  8.080  2.533  0.000  0.000  -0.000\\nAu  7.852  17.527  2.520  0.000  0.000  0.000\\nAu  13.303  8.074  2.532  -0.000  -0.000  0.000\\nAu  13.316  17.533  2.544  0.000  0.000  0.000\\nAu  -0.311  3.361  2.527  0.000  -0.000  0.000\\nAu  -0.328  12.807  2.565  0.000  -0.000  -0.000\\nAu  5.122  3.360  2.538  -0.000  -0.000  0.000\\nAu  5.122  12.806  2.537  0.000  -0.000  -0.000\\nAu  10.575  3.370  2.539  -0.000  0.000  -0.000\\nAu  10.589  12.781  2.545  0.000  0.000  -0.000\\nAu  -0.275  6.646  7.077  0.000  0.000  0.000\\nAu  -0.308  16.090  7.089  -0.000  -0.000  0.000\\nAu  5.156  6.656  7.098  -0.000  -0.000  -0.000\\nAu  5.171  16.069  7.106  -0.000  -0.000  0.000\\nAu  10.623  6.649  7.074  -0.000  -0.000  0.000\\nAu  10.605  16.101  7.121  -0.000  -0.000  0.000\\nAu  2.436  1.933  7.101  -0.000  -0.000  0.000\\nAu  2.453  11.353  7.091  0.000  -0.000  0.000\\nAu  7.890  1.954  7.082  -0.000  -0.000  -0.000\\nAu  7.887  11.350  7.093  0.000  -0.000  0.000\\nAu  13.359  1.935  7.090  -0.000  0.000  -0.000\\nAu  13.329  11.352  7.087  0.000  -0.000  -0.000\\nAu  2.377  5.100  -2.033  0.000  0.000  0.000\\nAu  2.491  4.889  11.668  -0.000  0.000  -0.000\\nAu  2.372  14.534  -2.028  -0.000  0.000  -0.000\\nAu  2.477  14.349  11.668  0.000  0.000  0.000\\nAu  7.852  5.101  -2.034  -0.000  0.000  -0.000\\nAu  7.916  4.891  11.652  -0.000  -0.000  -0.000\\nAu  7.807  14.542  -2.000  -0.000  0.000  0.000\\nAu  7.933  14.341  11.663  -0.000  -0.000  -0.000\\nAu  13.279  5.103  -2.011  0.000  -0.000  -0.000\\nAu  13.369  4.905  11.655  -0.000  0.000  -0.000\\nAu  13.265  14.554  -2.010  -0.000  -0.000  -0.000\\nAu  13.384  14.317  11.666  0.000  0.000  -0.000\\nC  14.164  8.521  27.105  -0.000  -0.000  0.000\\nC  2.219  10.458  23.250  0.000  0.000  -0.000\\nC  11.046  15.271  23.100  0.000  -0.000  0.000\\nC  5.369  3.705  27.293  -0.000  0.000  -0.000\\nC  8.341  13.062  30.999  -0.000  -0.000  0.000\\nC  8.043  5.915  19.370  0.000  0.000  -0.000\\nC  14.231  7.600  24.672  -0.000  -0.000  0.000\\nC  2.188  11.379  25.707  0.000  0.000  -0.000\\nC  8.504  15.843  22.816  0.000  0.000  0.000\\nC  7.889  3.114  27.571  -0.000  0.000  -0.000\\nC  7.712  10.615  31.863  -0.000  -0.000  0.000\\nC  8.686  8.363  18.468  0.000  0.000  0.000\\nC  13.901  11.158  27.559  -0.000  -0.000  0.000\\nC  2.487  7.813  22.805  0.000  0.000  -0.000\\nC  12.084  14.953  25.646  0.000  -0.000  0.000\\nC  4.351  4.025  24.745  -0.000  0.000  -0.000\\nC  10.821  13.530  29.959  -0.000  -0.000  0.000\\nC  5.576  5.453  20.406  0.000  0.000  -0.000\\nC  13.119  5.245  24.011  -0.000  -0.000  0.000\\nC  3.289  13.743  26.357  0.000  0.000  -0.000\\nC  7.056  14.567  20.837  0.000  0.000  -0.000\\nC  9.348  4.412  29.538  -0.000  -0.000  0.000\\nC  5.278  9.534  31.314  -0.000  0.000  -0.000\\nC  11.105  9.450  19.076  0.000  0.000  0.000\\nC  12.996  7.143  29.107  -0.000  -0.000  0.000\\nC  3.394  11.844  21.254  0.000  0.000  -0.000\\nC  12.176  13.382  21.448  0.000  -0.000  0.000\\nC  4.237  5.597  28.936  -0.000  0.000  -0.000\\nC  6.577  14.537  29.483  -0.000  0.000  -0.000\\nC  9.827  4.444  20.886  0.000  0.000  0.000\\nC  13.793  11.876  22.997  0.000  -0.000  0.000\\nC  2.642  7.118  27.384  -0.000  0.000  -0.000\\nC  7.948  15.872  27.514  0.000  0.000  0.000\\nC  8.459  3.127  22.852  -0.000  0.000  -0.000\\nC  11.911  9.000  30.794  -0.000  -0.000  0.000\\nC  4.499  9.971  19.568  0.000  0.000  -0.000\\nC  14.037  9.289  22.577  0.000  -0.000  0.000\\nC  2.378  9.687  27.795  -0.000  0.000  -0.000\\nC  6.963  16.125  25.053  0.000  0.000  0.000\\nC  9.450  2.863  25.323  -0.000  0.000  0.000\\nC  9.541  8.549  31.802  -0.000  -0.000  0.000\\nC  6.872  10.428  18.553  0.000  0.000  -0.000\\nC  13.741  12.811  25.528  0.000  -0.000  0.000\\nC  2.670  6.161  24.835  -0.000  0.000  -0.000\\nC  10.591  15.246  27.814  0.000  -0.000  0.000\\nC  5.814  3.717  22.551  -0.000  0.000  -0.000\\nC  12.532  11.520  29.866  -0.000  -0.000  0.000\\nC  3.866  7.469  20.497  0.000  0.000  -0.000\\nC  11.870  3.912  25.909  -0.000  -0.000  0.000\\nC  4.521  15.082  24.463  0.000  0.000  -0.000\\nC  8.173  12.778  19.217  0.000  0.000  0.000\\nC  8.245  6.218  31.154  -0.000  -0.000  -0.000\\nC  3.632  10.966  29.820  -0.000  0.000  -0.000\\nC  12.771  8.031  20.561  0.000  -0.000  0.000\\nC  11.810  4.883  28.497  -0.000  -0.000  0.000\\nC  4.577  14.104  21.872  0.000  0.000  -0.000\\nC  10.800  12.157  19.542  0.000  0.000  0.000\\nC  5.603  6.827  30.847  -0.000  0.000  -0.000\\nC  4.253  13.473  28.895  -0.000  0.000  -0.000\\nC  12.144  5.502  21.463  0.000  -0.000  0.000\\n\",\"xyz\",{\"vibrate\": {\"frames\": 10, \"amplitude\": 10000}});\n\tviewergrid_154877325728[2][0].addModel(\"108\\nComment\\nAu  -0.372  19.245  -2.014  -0.000  -0.000  -0.000\\nAu  -0.250  19.048  11.653  -0.000  0.000  -0.000\\nAu  -0.349  9.843  -2.038  0.000  -0.000  0.000\\nAu  -0.231  9.600  11.649  -0.000  -0.000  -0.000\\nAu  5.073  19.266  -2.013  0.000  0.000  -0.000\\nAu  5.200  19.034  11.635  -0.000  0.000  0.000\\nAu  5.086  9.830  -1.999  0.000  0.000  0.000\\nAu  5.210  9.613  11.679  -0.000  -0.000  -0.000\\nAu  10.536  19.259  -2.019  0.000  -0.000  0.000\\nAu  10.652  19.044  11.647  -0.000  -0.000  0.000\\nAu  10.570  9.828  -2.037  0.000  -0.000  0.000\\nAu  10.655  9.600  11.635  -0.000  -0.000  -0.000\\nAu  2.404  8.063  2.542  0.000  -0.000  -0.000\\nAu  2.417  17.516  2.547  -0.000  -0.000  -0.000\\nAu  7.864  8.080  2.533  0.000  0.000  -0.000\\nAu  7.852  17.527  2.520  -0.000  -0.000  -0.000\\nAu  13.303  8.074  2.532  -0.000  -0.000  0.000\\nAu  13.316  17.533  2.544  0.000  0.000  -0.000\\nAu  -0.311  3.361  2.527  0.000  -0.000  -0.000\\nAu  -0.328  12.807  2.565  -0.000  -0.000  0.000\\nAu  5.122  3.360  2.538  0.000  -0.000  0.000\\nAu  5.122  12.806  2.537  -0.000  0.000  0.000\\nAu  10.575  3.370  2.539  -0.000  0.000  0.000\\nAu  10.589  12.781  2.545  -0.000  0.000  0.000\\nAu  -0.275  6.646  7.077  0.000  -0.000  -0.000\\nAu  -0.308  16.090  7.089  0.000  0.000  0.000\\nAu  5.156  6.656  7.098  0.000  -0.000  0.000\\nAu  5.171  16.069  7.106  -0.000  0.000  -0.000\\nAu  10.623  6.649  7.074  0.000  0.000  0.000\\nAu  10.605  16.101  7.121  0.000  0.000  -0.000\\nAu  2.436  1.933  7.101  0.000  0.000  -0.000\\nAu  2.453  11.353  7.091  -0.000  -0.000  -0.000\\nAu  7.890  1.954  7.082  0.000  -0.000  0.000\\nAu  7.887  11.350  7.093  -0.000  0.000  0.000\\nAu  13.359  1.935  7.090  -0.000  0.000  -0.000\\nAu  13.329  11.352  7.087  -0.000  -0.000  0.000\\nAu  2.377  5.100  -2.033  -0.000  0.000  0.000\\nAu  2.491  4.889  11.668  0.000  0.000  -0.000\\nAu  2.372  14.534  -2.028  0.000  0.000  -0.000\\nAu  2.477  14.349  11.668  -0.000  0.000  0.000\\nAu  7.852  5.101  -2.034  -0.000  0.000  -0.000\\nAu  7.916  4.891  11.652  0.000  -0.000  -0.000\\nAu  7.807  14.542  -2.000  0.000  -0.000  -0.000\\nAu  7.933  14.341  11.663  0.000  -0.000  -0.000\\nAu  13.279  5.103  -2.011  -0.000  -0.000  -0.000\\nAu  13.369  4.905  11.655  0.000  -0.000  0.000\\nAu  13.265  14.554  -2.010  0.000  -0.000  0.000\\nAu  13.384  14.317  11.666  -0.000  -0.000  0.000\\nC  14.164  8.521  27.105  0.000  0.000  0.000\\nC  2.219  10.458  23.250  0.000  -0.000  -0.000\\nC  11.046  15.271  23.100  0.000  -0.000  -0.000\\nC  5.369  3.705  27.293  0.000  -0.000  0.000\\nC  8.341  13.062  30.999  0.000  0.000  -0.000\\nC  8.043  5.915  19.370  0.000  -0.000  0.000\\nC  14.231  7.600  24.672  0.000  -0.000  0.000\\nC  2.188  11.379  25.707  0.000  -0.000  -0.000\\nC  8.504  15.843  22.816  0.000  -0.000  -0.000\\nC  7.889  3.114  27.571  0.000  -0.000  0.000\\nC  7.712  10.615  31.863  0.000  0.000  -0.000\\nC  8.686  8.363  18.468  0.000  -0.000  0.000\\nC  13.901  11.158  27.559  0.000  0.000  0.000\\nC  2.487  7.813  22.805  0.000  -0.000  -0.000\\nC  12.084  14.953  25.646  0.000  -0.000  -0.000\\nC  4.351  4.025  24.745  0.000  -0.000  0.000\\nC  10.821  13.530  29.959  0.000  0.000  -0.000\\nC  5.576  5.453  20.406  0.000  -0.000  0.000\\nC  13.119  5.245  24.011  0.000  -0.000  0.000\\nC  3.289  13.743  26.357  0.000  -0.000  -0.000\\nC  7.056  14.567  20.837  0.000  -0.000  -0.000\\nC  9.348  4.412  29.538  0.000  0.000  0.000\\nC  5.278  9.534  31.314  0.000  0.000  -0.000\\nC  11.105  9.450  19.076  0.000  -0.000  0.000\\nC  12.996  7.143  29.107  0.000  0.000  0.000\\nC  3.394  11.844  21.254  0.000  -0.000  -0.000\\nC  12.176  13.382  21.448  0.000  -0.000  -0.000\\nC  4.237  5.597  28.936  0.000  -0.000  0.000\\nC  6.577  14.537  29.483  0.000  0.000  -0.000\\nC  9.827  4.444  20.886  0.000  -0.000  0.000\\nC  13.793  11.876  22.997  0.000  -0.000  0.000\\nC  2.642  7.118  27.384  0.000  -0.000  -0.000\\nC  7.948  15.872  27.514  0.000  -0.000  -0.000\\nC  8.459  3.127  22.852  0.000  -0.000  0.000\\nC  11.911  9.000  30.794  0.000  0.000  0.000\\nC  4.499  9.971  19.568  0.000  -0.000  -0.000\\nC  14.037  9.289  22.577  0.000  -0.000  0.000\\nC  2.378  9.687  27.795  0.000  -0.000  -0.000\\nC  6.963  16.125  25.053  0.000  -0.000  -0.000\\nC  9.450  2.863  25.323  0.000  -0.000  0.000\\nC  9.541  8.549  31.802  0.000  0.000  0.000\\nC  6.872  10.428  18.553  0.000  -0.000  -0.000\\nC  13.741  12.811  25.528  0.000  -0.000  -0.000\\nC  2.670  6.161  24.835  0.000  -0.000  0.000\\nC  10.591  15.246  27.814  0.000  -0.000  -0.000\\nC  5.814  3.717  22.551  0.000  -0.000  0.000\\nC  12.532  11.520  29.866  0.000  0.000  0.000\\nC  3.866  7.469  20.497  0.000  -0.000  -0.000\\nC  11.870  3.912  25.909  0.000  -0.000  0.000\\nC  4.521  15.082  24.463  0.000  -0.000  -0.000\\nC  8.173  12.778  19.217  0.000  -0.000  -0.000\\nC  8.245  6.218  31.154  0.000  0.000  0.000\\nC  3.632  10.966  29.820  0.000  -0.000  -0.000\\nC  12.771  8.031  20.561  0.000  -0.000  0.000\\nC  11.810  4.883  28.497  0.000  0.000  0.000\\nC  4.577  14.104  21.872  0.000  -0.000  -0.000\\nC  10.800  12.157  19.542  0.000  -0.000  -0.000\\nC  5.603  6.827  30.847  0.000  0.000  0.000\\nC  4.253  13.473  28.895  0.000  -0.000  -0.000\\nC  12.144  5.502  21.463  0.000  -0.000  0.000\\n\",\"xyz\",{\"vibrate\": {\"frames\": 10, \"amplitude\": 10000}});\n\tviewergrid_154877325728[2][1].addModel(\"108\\nComment\\nAu  -0.372  19.245  -2.014  -0.000  0.000  0.000\\nAu  -0.250  19.048  11.653  -0.000  -0.000  0.000\\nAu  -0.349  9.843  -2.038  0.000  -0.000  0.000\\nAu  -0.231  9.600  11.649  0.000  0.000  0.000\\nAu  5.073  19.266  -2.013  -0.000  -0.000  0.000\\nAu  5.200  19.034  11.635  -0.000  0.000  -0.000\\nAu  5.086  9.830  -1.999  0.000  0.000  0.000\\nAu  5.210  9.613  11.679  -0.000  -0.000  0.000\\nAu  10.536  19.259  -2.019  0.000  0.000  -0.000\\nAu  10.652  19.044  11.647  -0.000  -0.000  -0.000\\nAu  10.570  9.828  -2.037  -0.000  0.000  -0.000\\nAu  10.655  9.600  11.635  -0.000  0.000  0.000\\nAu  2.404  8.063  2.542  -0.000  0.000  -0.000\\nAu  2.417  17.516  2.547  -0.000  0.000  -0.000\\nAu  7.864  8.080  2.533  0.000  0.000  -0.000\\nAu  7.852  17.527  2.520  -0.000  0.000  0.000\\nAu  13.303  8.074  2.532  0.000  -0.000  0.000\\nAu  13.316  17.533  2.544  -0.000  -0.000  0.000\\nAu  -0.311  3.361  2.527  -0.000  -0.000  0.000\\nAu  -0.328  12.807  2.565  0.000  0.000  0.000\\nAu  5.122  3.360  2.538  0.000  0.000  0.000\\nAu  5.122  12.806  2.537  0.000  0.000  0.000\\nAu  10.575  3.370  2.539  -0.000  -0.000  -0.000\\nAu  10.589  12.781  2.545  -0.000  -0.000  -0.000\\nAu  -0.275  6.646  7.077  0.000  -0.000  0.000\\nAu  -0.308  16.090  7.089  0.000  0.000  -0.000\\nAu  5.156  6.656  7.098  -0.000  0.000  -0.000\\nAu  5.171  16.069  7.106  0.000  0.000  0.000\\nAu  10.623  6.649  7.074  0.000  0.000  0.000\\nAu  10.605  16.101  7.121  0.000  -0.000  -0.000\\nAu  2.436  1.933  7.101  0.000  -0.000  -0.000\\nAu  2.453  11.353  7.091  -0.000  0.000  0.000\\nAu  7.890  1.954  7.082  -0.000  0.000  0.000\\nAu  7.887  11.350  7.093  0.000  -0.000  -0.000\\nAu  13.359  1.935  7.090  -0.000  -0.000  0.000\\nAu  13.329  11.352  7.087  0.000  -0.000  -0.000\\nAu  2.377  5.100  -2.033  0.000  -0.000  -0.000\\nAu  2.491  4.889  11.668  -0.000  0.000  0.000\\nAu  2.372  14.534  -2.028  -0.000  -0.000  -0.000\\nAu  2.477  14.349  11.668  -0.000  0.000  0.000\\nAu  7.852  5.101  -2.034  0.000  -0.000  -0.000\\nAu  7.916  4.891  11.652  0.000  0.000  -0.000\\nAu  7.807  14.542  -2.000  0.000  0.000  0.000\\nAu  7.933  14.341  11.663  -0.000  -0.000  0.000\\nAu  13.279  5.103  -2.011  -0.000  0.000  -0.000\\nAu  13.369  4.905  11.655  -0.000  0.000  0.000\\nAu  13.265  14.554  -2.010  0.000  -0.000  -0.000\\nAu  13.384  14.317  11.666  0.000  -0.000  -0.000\\nC  14.164  8.521  27.105  0.000  -0.000  0.000\\nC  2.219  10.458  23.250  0.000  -0.000  -0.000\\nC  11.046  15.271  23.100  0.000  -0.000  0.000\\nC  5.369  3.705  27.293  0.000  -0.000  -0.000\\nC  8.341  13.062  30.999  0.000  -0.000  0.000\\nC  8.043  5.915  19.370  0.000  -0.000  -0.000\\nC  14.231  7.600  24.672  0.000  -0.000  -0.000\\nC  2.188  11.379  25.707  0.000  -0.000  0.000\\nC  8.504  15.843  22.816  0.000  -0.000  0.000\\nC  7.889  3.114  27.571  0.000  -0.000  -0.000\\nC  7.712  10.615  31.863  0.000  -0.000  0.000\\nC  8.686  8.363  18.468  0.000  -0.000  -0.000\\nC  13.901  11.158  27.559  0.000  -0.000  0.000\\nC  2.487  7.813  22.805  0.000  -0.000  -0.000\\nC  12.084  14.953  25.646  0.000  -0.000  0.000\\nC  4.351  4.025  24.745  0.000  -0.000  -0.000\\nC  10.821  13.530  29.959  0.000  -0.000  0.000\\nC  5.576  5.453  20.406  0.000  -0.000  -0.000\\nC  13.119  5.245  24.011  0.000  -0.000  -0.000\\nC  3.289  13.743  26.357  0.000  -0.000  0.000\\nC  7.056  14.567  20.837  0.000  -0.000  0.000\\nC  9.348  4.412  29.538  0.000  -0.000  -0.000\\nC  5.278  9.534  31.314  0.000  -0.000  -0.000\\nC  11.105  9.450  19.076  0.000  -0.000  0.000\\nC  12.996  7.143  29.107  0.000  -0.000  -0.000\\nC  3.394  11.844  21.254  0.000  -0.000  0.000\\nC  12.176  13.382  21.448  0.000  -0.000  0.000\\nC  4.237  5.597  28.936  0.000  -0.000  -0.000\\nC  6.577  14.537  29.483  0.000  -0.000  0.000\\nC  9.827  4.444  20.886  0.000  -0.000  -0.000\\nC  13.793  11.876  22.997  0.000  -0.000  0.000\\nC  2.642  7.118  27.384  0.000  -0.000  -0.000\\nC  7.948  15.872  27.514  0.000  -0.000  0.000\\nC  8.459  3.127  22.852  0.000  -0.000  -0.000\\nC  11.911  9.000  30.794  0.000  -0.000  0.000\\nC  4.499  9.971  19.568  0.000  -0.000  -0.000\\nC  14.037  9.289  22.577  0.000  -0.000  0.000\\nC  2.378  9.687  27.795  0.000  -0.000  -0.000\\nC  6.963  16.125  25.053  0.000  -0.000  0.000\\nC  9.450  2.863  25.323  0.000  -0.000  -0.000\\nC  9.541  8.549  31.802  0.000  -0.000  -0.000\\nC  6.872  10.428  18.553  0.000  -0.000  -0.000\\nC  13.741  12.811  25.528  0.000  -0.000  0.000\\nC  2.670  6.161  24.835  0.000  -0.000  -0.000\\nC  10.591  15.246  27.814  0.000  -0.000  0.000\\nC  5.814  3.717  22.551  0.000  -0.000  -0.000\\nC  12.532  11.520  29.866  0.000  -0.000  0.000\\nC  3.866  7.469  20.497  0.000  -0.000  -0.000\\nC  11.870  3.912  25.909  0.000  -0.000  -0.000\\nC  4.521  15.082  24.463  0.000  -0.000  0.000\\nC  8.173  12.778  19.217  0.000  -0.000  0.000\\nC  8.245  6.218  31.154  0.000  -0.000  -0.000\\nC  3.632  10.966  29.820  0.000  -0.000  0.000\\nC  12.771  8.031  20.561  0.000  -0.000  -0.000\\nC  11.810  4.883  28.497  0.000  -0.000  -0.000\\nC  4.577  14.104  21.872  0.000  -0.000  0.000\\nC  10.800  12.157  19.542  0.000  -0.000  0.000\\nC  5.603  6.827  30.847  0.000  -0.000  -0.000\\nC  4.253  13.473  28.895  0.000  -0.000  0.000\\nC  12.144  5.502  21.463  0.000  -0.000  -0.000\\n\",\"xyz\",{\"vibrate\": {\"frames\": 10, \"amplitude\": 10000}});\n\tviewergrid_154877325728[0][0].setBackgroundColor(\"0xeeeeee\");\n\tviewergrid_154877325728[0][1].setBackgroundColor(\"0xeeeeee\");\n\tviewergrid_154877325728[1][0].setBackgroundColor(\"0xeeeeee\");\n\tviewergrid_154877325728[1][1].setBackgroundColor(\"0xeeeeee\");\n\tviewergrid_154877325728[2][0].setBackgroundColor(\"0xeeeeee\");\n\tviewergrid_154877325728[2][1].setBackgroundColor(\"0xeeeeee\");\n\tviewergrid_154877325728[0][0].setStyle({\"sphere\": {}});\n\tviewergrid_154877325728[0][1].setStyle({\"sphere\": {}});\n\tviewergrid_154877325728[1][0].setStyle({\"sphere\": {}});\n\tviewergrid_154877325728[1][1].setStyle({\"sphere\": {}});\n\tviewergrid_154877325728[2][0].setStyle({\"sphere\": {}});\n\tviewergrid_154877325728[2][1].setStyle({\"sphere\": {}});\n\tviewergrid_154877325728[0][0].animate({\"loop\": \"backAndForth\"});\n\tviewergrid_154877325728[0][1].animate({\"loop\": \"backAndForth\"});\n\tviewergrid_154877325728[1][0].animate({\"loop\": \"backAndForth\"});\n\tviewergrid_154877325728[1][1].animate({\"loop\": \"backAndForth\"});\n\tviewergrid_154877325728[2][0].animate({\"loop\": \"backAndForth\"});\n\tviewergrid_154877325728[2][1].animate({\"loop\": \"backAndForth\"});\n\tviewergrid_154877325728[0][0].zoomTo();\n\tviewergrid_154877325728[0][1].zoomTo();\n\tviewergrid_154877325728[1][0].zoomTo();\n\tviewergrid_154877325728[1][1].zoomTo();\n\tviewergrid_154877325728[2][0].zoomTo();\n\tviewergrid_154877325728[2][1].zoomTo();\nviewergrid_154877325728[2][1].render();\nviewergrid_154877325728[2][0].render();\nviewergrid_154877325728[1][1].render();\nviewergrid_154877325728[1][0].render();\nviewergrid_154877325728[0][1].render();\nviewergrid_154877325728[0][0].render();\n});\n</script>",
      "text/html": [
       "<div id=\"3dmolviewer_154877325728\"  style=\"position: relative; width: 1000px; height: 800px\">\n",
       "        <p id=\"3dmolwarning_154877325728\" style=\"background-color:#ffcccc;color:black\">You appear to be running in JupyterLab.  You need to install the 3dmol extension: <br>\n",
       "        <tt>jupyter labextension install jupyterlab_3dmol</tt></p>\n",
       "        </div>\n",
       "<script>\n",
       "\n",
       "var loadScriptAsync = function(uri){\n",
       "  return new Promise((resolve, reject) => {\n",
       "    var tag = document.createElement('script');\n",
       "    tag.src = uri;\n",
       "    tag.async = true;\n",
       "    tag.onload = () => {\n",
       "      resolve();\n",
       "    };\n",
       "  var firstScriptTag = document.getElementsByTagName('script')[0];\n",
       "  firstScriptTag.parentNode.insertBefore(tag, firstScriptTag);\n",
       "});\n",
       "};\n",
       "\n",
       "if(typeof $3Dmolpromise === 'undefined') {\n",
       "$3Dmolpromise = null;\n",
       "  $3Dmolpromise = loadScriptAsync('https://3dmol.csb.pitt.edu/build/3Dmol.js');\n",
       "}\n",
       "\n",
       "var viewer_154877325728 = null;\n",
       "var warn = document.getElementById(\"3dmolwarning_154877325728\");\n",
       "if(warn) {\n",
       "    warn.parentNode.removeChild(warn);\n",
       "}\n",
       "$3Dmolpromise.then(function() {\n",
       "var viewergrid_154877325728 = null;\n",
       "viewergrid_154877325728 = $3Dmol.createViewerGrid($(\"#3dmolviewer_154877325728\"),{rows: 3, cols: 2, control_all: false},{backgroundColor:\"white\"});\n",
       "viewer_154877325728 = viewergrid_154877325728[0][0];\n",
       "\tviewergrid_154877325728[0][0].addModel(\"108\\nComment\\nAu  -0.372  19.245  -2.014  0.000  -0.000  -0.000\\nAu  -0.250  19.048  11.653  -0.000  0.000  0.000\\nAu  -0.349  9.843  -2.038  -0.000  0.000  -0.000\\nAu  -0.231  9.600  11.649  -0.000  -0.000  -0.000\\nAu  5.073  19.266  -2.013  -0.000  -0.000  0.000\\nAu  5.200  19.034  11.635  -0.000  -0.000  0.000\\nAu  5.086  9.830  -1.999  -0.000  -0.000  -0.000\\nAu  5.210  9.613  11.679  0.000  -0.000  -0.000\\nAu  10.536  19.259  -2.019  -0.000  0.000  0.000\\nAu  10.652  19.044  11.647  0.000  0.000  -0.000\\nAu  10.570  9.828  -2.037  0.000  -0.000  0.000\\nAu  10.655  9.600  11.635  -0.000  -0.000  0.000\\nAu  2.404  8.063  2.542  0.000  -0.000  0.000\\nAu  2.417  17.516  2.547  -0.000  -0.000  -0.000\\nAu  7.864  8.080  2.533  0.000  0.000  0.000\\nAu  7.852  17.527  2.520  0.000  -0.000  -0.000\\nAu  13.303  8.074  2.532  0.000  0.000  -0.000\\nAu  13.316  17.533  2.544  0.000  -0.000  0.000\\nAu  -0.311  3.361  2.527  0.000  -0.000  0.000\\nAu  -0.328  12.807  2.565  -0.000  -0.000  -0.000\\nAu  5.122  3.360  2.538  0.000  0.000  -0.000\\nAu  5.122  12.806  2.537  -0.000  -0.000  -0.000\\nAu  10.575  3.370  2.539  -0.000  0.000  0.000\\nAu  10.589  12.781  2.545  0.000  -0.000  -0.000\\nAu  -0.275  6.646  7.077  0.000  -0.000  -0.000\\nAu  -0.308  16.090  7.089  0.000  -0.000  0.000\\nAu  5.156  6.656  7.098  0.000  0.000  -0.000\\nAu  5.171  16.069  7.106  0.000  -0.000  0.000\\nAu  10.623  6.649  7.074  0.000  0.000  0.000\\nAu  10.605  16.101  7.121  0.000  -0.000  -0.000\\nAu  2.436  1.933  7.101  0.000  -0.000  0.000\\nAu  2.453  11.353  7.091  -0.000  -0.000  -0.000\\nAu  7.890  1.954  7.082  0.000  -0.000  0.000\\nAu  7.887  11.350  7.093  -0.000  0.000  -0.000\\nAu  13.359  1.935  7.090  -0.000  0.000  -0.000\\nAu  13.329  11.352  7.087  -0.000  0.000  -0.000\\nAu  2.377  5.100  -2.033  -0.000  -0.000  0.000\\nAu  2.491  4.889  11.668  -0.000  0.000  -0.000\\nAu  2.372  14.534  -2.028  -0.000  0.000  0.000\\nAu  2.477  14.349  11.668  -0.000  0.000  -0.000\\nAu  7.852  5.101  -2.034  -0.000  -0.000  -0.000\\nAu  7.916  4.891  11.652  0.000  0.000  0.000\\nAu  7.807  14.542  -2.000  0.000  -0.000  0.000\\nAu  7.933  14.341  11.663  -0.000  0.000  -0.000\\nAu  13.279  5.103  -2.011  0.000  0.000  -0.000\\nAu  13.369  4.905  11.655  -0.000  0.000  0.000\\nAu  13.265  14.554  -2.010  0.000  -0.000  -0.000\\nAu  13.384  14.317  11.666  0.000  0.000  -0.000\\nC  14.164  8.521  27.105  -0.000  0.000  0.000\\nC  2.219  10.458  23.250  -0.001  -0.000  -0.000\\nC  11.046  15.271  23.100  -0.000  0.000  0.000\\nC  5.369  3.705  27.293  -0.000  -0.001  0.000\\nC  8.341  13.062  30.999  0.000  -0.001  -0.000\\nC  8.043  5.915  19.370  -0.000  0.000  -0.000\\nC  14.231  7.600  24.672  -0.001  0.000  0.000\\nC  2.188  11.379  25.707  0.000  -0.000  0.000\\nC  8.504  15.843  22.816  0.000  -0.001  0.000\\nC  7.889  3.114  27.571  -0.001  -0.001  -0.000\\nC  7.712  10.615  31.863  -0.000  0.001  -0.000\\nC  8.686  8.363  18.468  0.000  0.000  -0.001\\nC  13.901  11.158  27.559  -0.000  0.000  -0.000\\nC  2.487  7.813  22.805  0.000  0.000  0.001\\nC  12.084  14.953  25.646  -0.000  -0.000  -0.000\\nC  4.351  4.025  24.745  -0.000  -0.000  0.000\\nC  10.821  13.530  29.959  0.000  0.000  0.000\\nC  5.576  5.453  20.406  -0.000  0.000  -0.000\\nC  13.119  5.245  24.011  0.000  0.000  -0.000\\nC  3.289  13.743  26.357  0.000  0.000  0.000\\nC  7.056  14.567  20.837  0.001  0.000  0.000\\nC  9.348  4.412  29.538  -0.000  -0.000  0.000\\nC  5.278  9.534  31.314  -0.000  -0.000  -0.000\\nC  11.105  9.450  19.076  -0.000  -0.000  -0.000\\nC  12.996  7.143  29.107  -0.000  -0.001  0.001\\nC  3.394  11.844  21.254  0.000  -0.000  0.000\\nC  12.176  13.382  21.448  -0.000  -0.000  0.001\\nC  4.237  5.597  28.936  -0.000  0.001  0.000\\nC  6.577  14.537  29.483  0.000  -0.000  -0.001\\nC  9.827  4.444  20.886  0.000  -0.001  0.000\\nC  13.793  11.876  22.997  0.000  -0.000  -0.001\\nC  2.642  7.118  27.384  -0.001  0.000  -0.001\\nC  7.948  15.872  27.514  -0.001  -0.001  0.001\\nC  8.459  3.127  22.852  0.000  0.001  -0.000\\nC  11.911  9.000  30.794  0.000  -0.000  0.000\\nC  4.499  9.971  19.568  -0.000  0.000  0.000\\nC  14.037  9.289  22.577  0.000  0.000  -0.001\\nC  2.378  9.687  27.795  -0.000  0.001  0.000\\nC  6.963  16.125  25.053  -0.000  0.000  -0.000\\nC  9.450  2.863  25.323  -0.000  -0.000  0.000\\nC  9.541  8.549  31.802  -0.000  0.000  0.000\\nC  6.872  10.428  18.553  -0.000  0.000  -0.000\\nC  13.741  12.811  25.528  -0.000  0.000  0.000\\nC  2.670  6.161  24.835  -0.000  0.000  -0.000\\nC  10.591  15.246  27.814  0.000  0.000  0.000\\nC  5.814  3.717  22.551  0.000  0.001  -0.000\\nC  12.532  11.520  29.866  0.001  -0.000  -0.000\\nC  3.866  7.469  20.497  0.000  -0.001  0.000\\nC  11.870  3.912  25.909  0.000  0.000  -0.000\\nC  4.521  15.082  24.463  0.000  -0.000  -0.000\\nC  8.173  12.778  19.217  0.000  -0.000  -0.001\\nC  8.245  6.218  31.154  -0.000  0.000  -0.000\\nC  3.632  10.966  29.820  -0.000  -0.001  -0.000\\nC  12.771  8.031  20.561  0.000  0.001  -0.000\\nC  11.810  4.883  28.497  0.000  -0.001  0.000\\nC  4.577  14.104  21.872  -0.000  0.000  0.000\\nC  10.800  12.157  19.542  -0.000  0.001  -0.000\\nC  5.603  6.827  30.847  0.000  0.000  0.001\\nC  4.253  13.473  28.895  -0.000  0.001  -0.000\\nC  12.144  5.502  21.463  0.000  -0.001  0.000\\n\",\"xyz\",{\"vibrate\": {\"frames\": 10, \"amplitude\": 10000}});\n",
       "\tviewergrid_154877325728[0][1].addModel(\"108\\nComment\\nAu  -0.372  19.245  -2.014  0.000  -0.000  -0.000\\nAu  -0.250  19.048  11.653  -0.000  0.000  0.000\\nAu  -0.349  9.843  -2.038  -0.000  0.000  -0.000\\nAu  -0.231  9.600  11.649  -0.000  -0.000  -0.000\\nAu  5.073  19.266  -2.013  -0.000  0.000  0.000\\nAu  5.200  19.034  11.635  -0.000  -0.000  0.000\\nAu  5.086  9.830  -1.999  -0.000  -0.000  -0.000\\nAu  5.210  9.613  11.679  0.000  -0.000  -0.000\\nAu  10.536  19.259  -2.019  -0.000  0.000  0.000\\nAu  10.652  19.044  11.647  0.000  -0.000  -0.000\\nAu  10.570  9.828  -2.037  0.000  -0.000  0.000\\nAu  10.655  9.600  11.635  -0.000  -0.000  0.000\\nAu  2.404  8.063  2.542  -0.000  -0.000  0.000\\nAu  2.417  17.516  2.547  -0.000  -0.000  -0.000\\nAu  7.864  8.080  2.533  0.000  -0.000  0.000\\nAu  7.852  17.527  2.520  0.000  -0.000  -0.000\\nAu  13.303  8.074  2.532  0.000  -0.000  -0.000\\nAu  13.316  17.533  2.544  0.000  -0.000  0.000\\nAu  -0.311  3.361  2.527  0.000  -0.000  0.000\\nAu  -0.328  12.807  2.565  -0.000  -0.000  -0.000\\nAu  5.122  3.360  2.538  0.000  0.000  -0.000\\nAu  5.122  12.806  2.537  -0.000  -0.000  -0.000\\nAu  10.575  3.370  2.539  -0.000  0.000  0.000\\nAu  10.589  12.781  2.545  0.000  -0.000  -0.000\\nAu  -0.275  6.646  7.077  0.000  -0.000  -0.000\\nAu  -0.308  16.090  7.089  0.000  -0.000  0.000\\nAu  5.156  6.656  7.098  0.000  0.000  0.000\\nAu  5.171  16.069  7.106  0.000  -0.000  0.000\\nAu  10.623  6.649  7.074  0.000  0.000  0.000\\nAu  10.605  16.101  7.121  0.000  -0.000  -0.000\\nAu  2.436  1.933  7.101  0.000  -0.000  0.000\\nAu  2.453  11.353  7.091  -0.000  -0.000  -0.000\\nAu  7.890  1.954  7.082  0.000  -0.000  0.000\\nAu  7.887  11.350  7.093  0.000  0.000  -0.000\\nAu  13.359  1.935  7.090  -0.000  0.000  -0.000\\nAu  13.329  11.352  7.087  -0.000  0.000  -0.000\\nAu  2.377  5.100  -2.033  0.000  -0.000  0.000\\nAu  2.491  4.889  11.668  -0.000  0.000  -0.000\\nAu  2.372  14.534  -2.028  -0.000  0.000  0.000\\nAu  2.477  14.349  11.668  0.000  0.000  -0.000\\nAu  7.852  5.101  -2.034  -0.000  -0.000  -0.000\\nAu  7.916  4.891  11.652  0.000  0.000  0.000\\nAu  7.807  14.542  -2.000  0.000  -0.000  0.000\\nAu  7.933  14.341  11.663  0.000  0.000  -0.000\\nAu  13.279  5.103  -2.011  0.000  0.000  -0.000\\nAu  13.369  4.905  11.655  -0.000  0.000  0.000\\nAu  13.265  14.554  -2.010  -0.000  -0.000  -0.000\\nAu  13.384  14.317  11.666  0.000  0.000  -0.000\\nC  14.164  8.521  27.105  0.000  0.000  0.000\\nC  2.219  10.458  23.250  -0.001  -0.000  -0.001\\nC  11.046  15.271  23.100  -0.000  0.000  0.000\\nC  5.369  3.705  27.293  0.000  -0.001  0.000\\nC  8.341  13.062  30.999  0.000  -0.001  -0.000\\nC  8.043  5.915  19.370  -0.000  0.000  -0.000\\nC  14.231  7.600  24.672  -0.001  0.000  0.000\\nC  2.188  11.379  25.707  0.000  -0.000  0.000\\nC  8.504  15.843  22.816  0.000  -0.001  0.000\\nC  7.889  3.114  27.571  -0.001  -0.001  -0.000\\nC  7.712  10.615  31.863  0.000  0.001  -0.000\\nC  8.686  8.363  18.468  0.000  0.000  -0.001\\nC  13.901  11.158  27.559  -0.000  0.000  -0.000\\nC  2.487  7.813  22.805  0.000  0.000  0.001\\nC  12.084  14.953  25.646  -0.000  -0.000  -0.000\\nC  4.351  4.025  24.745  -0.000  -0.000  0.000\\nC  10.821  13.530  29.959  0.000  0.000  0.000\\nC  5.576  5.453  20.406  -0.000  -0.000  -0.000\\nC  13.119  5.245  24.011  0.000  0.000  -0.000\\nC  3.289  13.743  26.357  0.000  0.000  0.000\\nC  7.056  14.567  20.837  0.001  0.000  0.000\\nC  9.348  4.412  29.538  -0.000  -0.000  0.000\\nC  5.278  9.534  31.314  -0.000  -0.000  -0.000\\nC  11.105  9.450  19.076  -0.000  -0.000  -0.001\\nC  12.996  7.143  29.107  -0.000  -0.001  0.001\\nC  3.394  11.844  21.254  0.000  -0.000  0.000\\nC  12.176  13.382  21.448  -0.000  0.000  0.001\\nC  4.237  5.597  28.936  -0.000  0.001  0.001\\nC  6.577  14.537  29.483  0.000  -0.000  -0.001\\nC  9.827  4.444  20.886  -0.000  -0.001  0.000\\nC  13.793  11.876  22.997  0.000  -0.000  -0.001\\nC  2.642  7.118  27.384  -0.001  0.000  -0.001\\nC  7.948  15.872  27.514  -0.001  -0.001  0.001\\nC  8.459  3.127  22.852  0.000  0.001  -0.000\\nC  11.911  9.000  30.794  0.000  -0.000  0.000\\nC  4.499  9.971  19.568  -0.000  0.000  0.000\\nC  14.037  9.289  22.577  0.000  0.000  -0.001\\nC  2.378  9.687  27.795  -0.000  0.001  0.000\\nC  6.963  16.125  25.053  -0.000  0.000  -0.000\\nC  9.450  2.863  25.323  -0.000  -0.000  0.000\\nC  9.541  8.549  31.802  -0.000  0.000  0.000\\nC  6.872  10.428  18.553  -0.000  0.000  -0.000\\nC  13.741  12.811  25.528  -0.000  0.000  0.000\\nC  2.670  6.161  24.835  0.000  0.000  -0.000\\nC  10.591  15.246  27.814  0.000  0.000  0.000\\nC  5.814  3.717  22.551  0.000  0.000  -0.000\\nC  12.532  11.520  29.866  0.001  -0.000  -0.000\\nC  3.866  7.469  20.497  0.000  -0.000  -0.000\\nC  11.870  3.912  25.909  0.000  -0.000  -0.000\\nC  4.521  15.082  24.463  0.000  -0.000  -0.000\\nC  8.173  12.778  19.217  0.000  -0.000  -0.001\\nC  8.245  6.218  31.154  -0.000  0.001  -0.000\\nC  3.632  10.966  29.820  -0.000  -0.001  0.000\\nC  12.771  8.031  20.561  0.000  0.000  -0.000\\nC  11.810  4.883  28.497  0.001  -0.001  0.000\\nC  4.577  14.104  21.872  -0.000  0.000  0.000\\nC  10.800  12.157  19.542  -0.000  0.000  -0.000\\nC  5.603  6.827  30.847  0.000  0.000  0.001\\nC  4.253  13.473  28.895  -0.000  0.001  0.000\\nC  12.144  5.502  21.463  0.001  -0.001  0.000\\n\",\"xyz\",{\"vibrate\": {\"frames\": 10, \"amplitude\": 10000}});\n",
       "\tviewergrid_154877325728[1][0].addModel(\"108\\nComment\\nAu  -0.372  19.245  -2.014  -0.000  0.000  0.000\\nAu  -0.250  19.048  11.653  0.000  0.000  0.000\\nAu  -0.349  9.843  -2.038  0.000  -0.000  0.000\\nAu  -0.231  9.600  11.649  0.000  0.000  0.000\\nAu  5.073  19.266  -2.013  0.000  -0.000  -0.000\\nAu  5.200  19.034  11.635  -0.000  0.000  -0.000\\nAu  5.086  9.830  -1.999  -0.000  0.000  0.000\\nAu  5.210  9.613  11.679  0.000  -0.000  -0.000\\nAu  10.536  19.259  -2.019  -0.000  -0.000  0.000\\nAu  10.652  19.044  11.647  -0.000  -0.000  -0.000\\nAu  10.570  9.828  -2.037  0.000  0.000  -0.000\\nAu  10.655  9.600  11.635  0.000  0.000  0.000\\nAu  2.404  8.063  2.542  0.000  -0.000  0.000\\nAu  2.417  17.516  2.547  0.000  -0.000  0.000\\nAu  7.864  8.080  2.533  0.000  0.000  -0.000\\nAu  7.852  17.527  2.520  0.000  0.000  0.000\\nAu  13.303  8.074  2.532  -0.000  -0.000  0.000\\nAu  13.316  17.533  2.544  0.000  0.000  0.000\\nAu  -0.311  3.361  2.527  0.000  -0.000  0.000\\nAu  -0.328  12.807  2.565  0.000  -0.000  -0.000\\nAu  5.122  3.360  2.538  -0.000  -0.000  0.000\\nAu  5.122  12.806  2.537  0.000  -0.000  -0.000\\nAu  10.575  3.370  2.539  -0.000  0.000  -0.000\\nAu  10.589  12.781  2.545  0.000  0.000  -0.000\\nAu  -0.275  6.646  7.077  0.000  0.000  0.000\\nAu  -0.308  16.090  7.089  -0.000  -0.000  0.000\\nAu  5.156  6.656  7.098  -0.000  -0.000  -0.000\\nAu  5.171  16.069  7.106  -0.000  -0.000  0.000\\nAu  10.623  6.649  7.074  -0.000  -0.000  0.000\\nAu  10.605  16.101  7.121  -0.000  -0.000  0.000\\nAu  2.436  1.933  7.101  -0.000  -0.000  0.000\\nAu  2.453  11.353  7.091  0.000  -0.000  0.000\\nAu  7.890  1.954  7.082  -0.000  -0.000  -0.000\\nAu  7.887  11.350  7.093  0.000  -0.000  -0.000\\nAu  13.359  1.935  7.090  -0.000  0.000  -0.000\\nAu  13.329  11.352  7.087  0.000  -0.000  -0.000\\nAu  2.377  5.100  -2.033  0.000  0.000  0.000\\nAu  2.491  4.889  11.668  -0.000  0.000  -0.000\\nAu  2.372  14.534  -2.028  0.000  0.000  -0.000\\nAu  2.477  14.349  11.668  0.000  0.000  0.000\\nAu  7.852  5.101  -2.034  -0.000  -0.000  -0.000\\nAu  7.916  4.891  11.652  -0.000  -0.000  -0.000\\nAu  7.807  14.542  -2.000  -0.000  0.000  -0.000\\nAu  7.933  14.341  11.663  0.000  -0.000  -0.000\\nAu  13.279  5.103  -2.011  -0.000  -0.000  -0.000\\nAu  13.369  4.905  11.655  -0.000  0.000  -0.000\\nAu  13.265  14.554  -2.010  -0.000  0.000  -0.000\\nAu  13.384  14.317  11.666  0.000  0.000  -0.000\\nC  14.164  8.521  27.105  -0.000  -0.000  0.000\\nC  2.219  10.458  23.250  0.000  0.000  -0.000\\nC  11.046  15.271  23.100  0.000  -0.000  0.000\\nC  5.369  3.705  27.293  -0.000  0.000  -0.000\\nC  8.341  13.062  30.999  -0.000  -0.000  0.000\\nC  8.043  5.915  19.370  0.000  0.000  -0.000\\nC  14.231  7.600  24.672  -0.000  -0.000  0.000\\nC  2.188  11.379  25.707  0.000  0.000  -0.000\\nC  8.504  15.843  22.816  0.000  0.000  0.000\\nC  7.889  3.114  27.571  -0.000  0.000  -0.000\\nC  7.712  10.615  31.863  -0.000  -0.000  0.000\\nC  8.686  8.363  18.468  0.000  0.000  0.000\\nC  13.901  11.158  27.559  -0.000  -0.000  0.000\\nC  2.487  7.813  22.805  0.000  0.000  -0.000\\nC  12.084  14.953  25.646  0.000  -0.000  0.000\\nC  4.351  4.025  24.745  -0.000  0.000  -0.000\\nC  10.821  13.530  29.959  -0.000  -0.000  0.000\\nC  5.576  5.453  20.406  0.000  0.000  -0.000\\nC  13.119  5.245  24.011  -0.000  -0.000  0.000\\nC  3.289  13.743  26.357  0.000  0.000  -0.000\\nC  7.056  14.567  20.837  0.000  0.000  0.000\\nC  9.348  4.412  29.538  -0.000  -0.000  0.000\\nC  5.278  9.534  31.314  -0.000  0.000  -0.000\\nC  11.105  9.450  19.076  0.000  0.000  0.000\\nC  12.996  7.143  29.107  -0.000  -0.000  0.000\\nC  3.394  11.844  21.254  0.000  0.000  -0.000\\nC  12.176  13.382  21.448  0.000  -0.000  0.000\\nC  4.237  5.597  28.936  -0.000  0.000  -0.000\\nC  6.577  14.537  29.483  -0.000  0.000  -0.000\\nC  9.827  4.444  20.886  0.000  0.000  0.000\\nC  13.793  11.876  22.997  0.000  -0.000  0.000\\nC  2.642  7.118  27.384  -0.000  0.000  -0.000\\nC  7.948  15.872  27.514  0.000  0.000  0.000\\nC  8.459  3.127  22.852  -0.000  0.000  -0.000\\nC  11.911  9.000  30.794  -0.000  -0.000  0.000\\nC  4.499  9.971  19.568  0.000  0.000  -0.000\\nC  14.037  9.289  22.577  0.000  -0.000  0.000\\nC  2.378  9.687  27.795  -0.000  0.000  -0.000\\nC  6.963  16.125  25.053  0.000  0.000  0.000\\nC  9.450  2.863  25.323  -0.000  0.000  -0.000\\nC  9.541  8.549  31.802  -0.000  -0.000  0.000\\nC  6.872  10.428  18.553  0.000  0.000  -0.000\\nC  13.741  12.811  25.528  0.000  -0.000  0.000\\nC  2.670  6.161  24.835  -0.000  0.000  -0.000\\nC  10.591  15.246  27.814  0.000  -0.000  0.000\\nC  5.814  3.717  22.551  -0.000  0.000  -0.000\\nC  12.532  11.520  29.866  -0.000  -0.000  0.000\\nC  3.866  7.469  20.497  0.000  0.000  -0.000\\nC  11.870  3.912  25.909  -0.000  -0.000  0.000\\nC  4.521  15.082  24.463  0.000  0.000  -0.000\\nC  8.173  12.778  19.217  0.000  0.000  0.000\\nC  8.245  6.218  31.154  -0.000  -0.000  -0.000\\nC  3.632  10.966  29.820  -0.000  0.000  -0.000\\nC  12.771  8.031  20.561  0.000  -0.000  0.000\\nC  11.810  4.883  28.497  -0.000  -0.000  0.000\\nC  4.577  14.104  21.872  0.000  0.000  -0.000\\nC  10.800  12.157  19.542  0.000  0.000  0.000\\nC  5.603  6.827  30.847  -0.000  0.000  -0.000\\nC  4.253  13.473  28.895  -0.000  0.000  -0.000\\nC  12.144  5.502  21.463  0.000  -0.000  0.000\\n\",\"xyz\",{\"vibrate\": {\"frames\": 10, \"amplitude\": 10000}});\n",
       "\tviewergrid_154877325728[1][1].addModel(\"108\\nComment\\nAu  -0.372  19.245  -2.014  -0.000  0.000  0.000\\nAu  -0.250  19.048  11.653  0.000  0.000  0.000\\nAu  -0.349  9.843  -2.038  0.000  -0.000  0.000\\nAu  -0.231  9.600  11.649  0.000  0.000  0.000\\nAu  5.073  19.266  -2.013  0.000  -0.000  -0.000\\nAu  5.200  19.034  11.635  -0.000  0.000  -0.000\\nAu  5.086  9.830  -1.999  -0.000  0.000  0.000\\nAu  5.210  9.613  11.679  0.000  -0.000  -0.000\\nAu  10.536  19.259  -2.019  -0.000  -0.000  0.000\\nAu  10.652  19.044  11.647  -0.000  -0.000  -0.000\\nAu  10.570  9.828  -2.037  0.000  0.000  -0.000\\nAu  10.655  9.600  11.635  0.000  0.000  0.000\\nAu  2.404  8.063  2.542  -0.000  -0.000  0.000\\nAu  2.417  17.516  2.547  0.000  -0.000  0.000\\nAu  7.864  8.080  2.533  0.000  0.000  -0.000\\nAu  7.852  17.527  2.520  0.000  0.000  0.000\\nAu  13.303  8.074  2.532  -0.000  -0.000  0.000\\nAu  13.316  17.533  2.544  0.000  0.000  0.000\\nAu  -0.311  3.361  2.527  0.000  -0.000  0.000\\nAu  -0.328  12.807  2.565  0.000  -0.000  -0.000\\nAu  5.122  3.360  2.538  -0.000  -0.000  0.000\\nAu  5.122  12.806  2.537  0.000  -0.000  -0.000\\nAu  10.575  3.370  2.539  -0.000  0.000  -0.000\\nAu  10.589  12.781  2.545  0.000  0.000  -0.000\\nAu  -0.275  6.646  7.077  0.000  0.000  0.000\\nAu  -0.308  16.090  7.089  -0.000  -0.000  0.000\\nAu  5.156  6.656  7.098  -0.000  -0.000  -0.000\\nAu  5.171  16.069  7.106  -0.000  -0.000  0.000\\nAu  10.623  6.649  7.074  -0.000  -0.000  0.000\\nAu  10.605  16.101  7.121  -0.000  -0.000  0.000\\nAu  2.436  1.933  7.101  -0.000  -0.000  0.000\\nAu  2.453  11.353  7.091  0.000  -0.000  0.000\\nAu  7.890  1.954  7.082  -0.000  -0.000  -0.000\\nAu  7.887  11.350  7.093  0.000  -0.000  0.000\\nAu  13.359  1.935  7.090  -0.000  0.000  -0.000\\nAu  13.329  11.352  7.087  0.000  -0.000  -0.000\\nAu  2.377  5.100  -2.033  0.000  0.000  0.000\\nAu  2.491  4.889  11.668  -0.000  0.000  -0.000\\nAu  2.372  14.534  -2.028  -0.000  0.000  -0.000\\nAu  2.477  14.349  11.668  0.000  0.000  0.000\\nAu  7.852  5.101  -2.034  -0.000  0.000  -0.000\\nAu  7.916  4.891  11.652  -0.000  -0.000  -0.000\\nAu  7.807  14.542  -2.000  -0.000  0.000  0.000\\nAu  7.933  14.341  11.663  -0.000  -0.000  -0.000\\nAu  13.279  5.103  -2.011  0.000  -0.000  -0.000\\nAu  13.369  4.905  11.655  -0.000  0.000  -0.000\\nAu  13.265  14.554  -2.010  -0.000  -0.000  -0.000\\nAu  13.384  14.317  11.666  0.000  0.000  -0.000\\nC  14.164  8.521  27.105  -0.000  -0.000  0.000\\nC  2.219  10.458  23.250  0.000  0.000  -0.000\\nC  11.046  15.271  23.100  0.000  -0.000  0.000\\nC  5.369  3.705  27.293  -0.000  0.000  -0.000\\nC  8.341  13.062  30.999  -0.000  -0.000  0.000\\nC  8.043  5.915  19.370  0.000  0.000  -0.000\\nC  14.231  7.600  24.672  -0.000  -0.000  0.000\\nC  2.188  11.379  25.707  0.000  0.000  -0.000\\nC  8.504  15.843  22.816  0.000  0.000  0.000\\nC  7.889  3.114  27.571  -0.000  0.000  -0.000\\nC  7.712  10.615  31.863  -0.000  -0.000  0.000\\nC  8.686  8.363  18.468  0.000  0.000  0.000\\nC  13.901  11.158  27.559  -0.000  -0.000  0.000\\nC  2.487  7.813  22.805  0.000  0.000  -0.000\\nC  12.084  14.953  25.646  0.000  -0.000  0.000\\nC  4.351  4.025  24.745  -0.000  0.000  -0.000\\nC  10.821  13.530  29.959  -0.000  -0.000  0.000\\nC  5.576  5.453  20.406  0.000  0.000  -0.000\\nC  13.119  5.245  24.011  -0.000  -0.000  0.000\\nC  3.289  13.743  26.357  0.000  0.000  -0.000\\nC  7.056  14.567  20.837  0.000  0.000  -0.000\\nC  9.348  4.412  29.538  -0.000  -0.000  0.000\\nC  5.278  9.534  31.314  -0.000  0.000  -0.000\\nC  11.105  9.450  19.076  0.000  0.000  0.000\\nC  12.996  7.143  29.107  -0.000  -0.000  0.000\\nC  3.394  11.844  21.254  0.000  0.000  -0.000\\nC  12.176  13.382  21.448  0.000  -0.000  0.000\\nC  4.237  5.597  28.936  -0.000  0.000  -0.000\\nC  6.577  14.537  29.483  -0.000  0.000  -0.000\\nC  9.827  4.444  20.886  0.000  0.000  0.000\\nC  13.793  11.876  22.997  0.000  -0.000  0.000\\nC  2.642  7.118  27.384  -0.000  0.000  -0.000\\nC  7.948  15.872  27.514  0.000  0.000  0.000\\nC  8.459  3.127  22.852  -0.000  0.000  -0.000\\nC  11.911  9.000  30.794  -0.000  -0.000  0.000\\nC  4.499  9.971  19.568  0.000  0.000  -0.000\\nC  14.037  9.289  22.577  0.000  -0.000  0.000\\nC  2.378  9.687  27.795  -0.000  0.000  -0.000\\nC  6.963  16.125  25.053  0.000  0.000  0.000\\nC  9.450  2.863  25.323  -0.000  0.000  0.000\\nC  9.541  8.549  31.802  -0.000  -0.000  0.000\\nC  6.872  10.428  18.553  0.000  0.000  -0.000\\nC  13.741  12.811  25.528  0.000  -0.000  0.000\\nC  2.670  6.161  24.835  -0.000  0.000  -0.000\\nC  10.591  15.246  27.814  0.000  -0.000  0.000\\nC  5.814  3.717  22.551  -0.000  0.000  -0.000\\nC  12.532  11.520  29.866  -0.000  -0.000  0.000\\nC  3.866  7.469  20.497  0.000  0.000  -0.000\\nC  11.870  3.912  25.909  -0.000  -0.000  0.000\\nC  4.521  15.082  24.463  0.000  0.000  -0.000\\nC  8.173  12.778  19.217  0.000  0.000  0.000\\nC  8.245  6.218  31.154  -0.000  -0.000  -0.000\\nC  3.632  10.966  29.820  -0.000  0.000  -0.000\\nC  12.771  8.031  20.561  0.000  -0.000  0.000\\nC  11.810  4.883  28.497  -0.000  -0.000  0.000\\nC  4.577  14.104  21.872  0.000  0.000  -0.000\\nC  10.800  12.157  19.542  0.000  0.000  0.000\\nC  5.603  6.827  30.847  -0.000  0.000  -0.000\\nC  4.253  13.473  28.895  -0.000  0.000  -0.000\\nC  12.144  5.502  21.463  0.000  -0.000  0.000\\n\",\"xyz\",{\"vibrate\": {\"frames\": 10, \"amplitude\": 10000}});\n",
       "\tviewergrid_154877325728[2][0].addModel(\"108\\nComment\\nAu  -0.372  19.245  -2.014  -0.000  -0.000  -0.000\\nAu  -0.250  19.048  11.653  -0.000  0.000  -0.000\\nAu  -0.349  9.843  -2.038  0.000  -0.000  0.000\\nAu  -0.231  9.600  11.649  -0.000  -0.000  -0.000\\nAu  5.073  19.266  -2.013  0.000  0.000  -0.000\\nAu  5.200  19.034  11.635  -0.000  0.000  0.000\\nAu  5.086  9.830  -1.999  0.000  0.000  0.000\\nAu  5.210  9.613  11.679  -0.000  -0.000  -0.000\\nAu  10.536  19.259  -2.019  0.000  -0.000  0.000\\nAu  10.652  19.044  11.647  -0.000  -0.000  0.000\\nAu  10.570  9.828  -2.037  0.000  -0.000  0.000\\nAu  10.655  9.600  11.635  -0.000  -0.000  -0.000\\nAu  2.404  8.063  2.542  0.000  -0.000  -0.000\\nAu  2.417  17.516  2.547  -0.000  -0.000  -0.000\\nAu  7.864  8.080  2.533  0.000  0.000  -0.000\\nAu  7.852  17.527  2.520  -0.000  -0.000  -0.000\\nAu  13.303  8.074  2.532  -0.000  -0.000  0.000\\nAu  13.316  17.533  2.544  0.000  0.000  -0.000\\nAu  -0.311  3.361  2.527  0.000  -0.000  -0.000\\nAu  -0.328  12.807  2.565  -0.000  -0.000  0.000\\nAu  5.122  3.360  2.538  0.000  -0.000  0.000\\nAu  5.122  12.806  2.537  -0.000  0.000  0.000\\nAu  10.575  3.370  2.539  -0.000  0.000  0.000\\nAu  10.589  12.781  2.545  -0.000  0.000  0.000\\nAu  -0.275  6.646  7.077  0.000  -0.000  -0.000\\nAu  -0.308  16.090  7.089  0.000  0.000  0.000\\nAu  5.156  6.656  7.098  0.000  -0.000  0.000\\nAu  5.171  16.069  7.106  -0.000  0.000  -0.000\\nAu  10.623  6.649  7.074  0.000  0.000  0.000\\nAu  10.605  16.101  7.121  0.000  0.000  -0.000\\nAu  2.436  1.933  7.101  0.000  0.000  -0.000\\nAu  2.453  11.353  7.091  -0.000  -0.000  -0.000\\nAu  7.890  1.954  7.082  0.000  -0.000  0.000\\nAu  7.887  11.350  7.093  -0.000  0.000  0.000\\nAu  13.359  1.935  7.090  -0.000  0.000  -0.000\\nAu  13.329  11.352  7.087  -0.000  -0.000  0.000\\nAu  2.377  5.100  -2.033  -0.000  0.000  0.000\\nAu  2.491  4.889  11.668  0.000  0.000  -0.000\\nAu  2.372  14.534  -2.028  0.000  0.000  -0.000\\nAu  2.477  14.349  11.668  -0.000  0.000  0.000\\nAu  7.852  5.101  -2.034  -0.000  0.000  -0.000\\nAu  7.916  4.891  11.652  0.000  -0.000  -0.000\\nAu  7.807  14.542  -2.000  0.000  -0.000  -0.000\\nAu  7.933  14.341  11.663  0.000  -0.000  -0.000\\nAu  13.279  5.103  -2.011  -0.000  -0.000  -0.000\\nAu  13.369  4.905  11.655  0.000  -0.000  0.000\\nAu  13.265  14.554  -2.010  0.000  -0.000  0.000\\nAu  13.384  14.317  11.666  -0.000  -0.000  0.000\\nC  14.164  8.521  27.105  0.000  0.000  0.000\\nC  2.219  10.458  23.250  0.000  -0.000  -0.000\\nC  11.046  15.271  23.100  0.000  -0.000  -0.000\\nC  5.369  3.705  27.293  0.000  -0.000  0.000\\nC  8.341  13.062  30.999  0.000  0.000  -0.000\\nC  8.043  5.915  19.370  0.000  -0.000  0.000\\nC  14.231  7.600  24.672  0.000  -0.000  0.000\\nC  2.188  11.379  25.707  0.000  -0.000  -0.000\\nC  8.504  15.843  22.816  0.000  -0.000  -0.000\\nC  7.889  3.114  27.571  0.000  -0.000  0.000\\nC  7.712  10.615  31.863  0.000  0.000  -0.000\\nC  8.686  8.363  18.468  0.000  -0.000  0.000\\nC  13.901  11.158  27.559  0.000  0.000  0.000\\nC  2.487  7.813  22.805  0.000  -0.000  -0.000\\nC  12.084  14.953  25.646  0.000  -0.000  -0.000\\nC  4.351  4.025  24.745  0.000  -0.000  0.000\\nC  10.821  13.530  29.959  0.000  0.000  -0.000\\nC  5.576  5.453  20.406  0.000  -0.000  0.000\\nC  13.119  5.245  24.011  0.000  -0.000  0.000\\nC  3.289  13.743  26.357  0.000  -0.000  -0.000\\nC  7.056  14.567  20.837  0.000  -0.000  -0.000\\nC  9.348  4.412  29.538  0.000  0.000  0.000\\nC  5.278  9.534  31.314  0.000  0.000  -0.000\\nC  11.105  9.450  19.076  0.000  -0.000  0.000\\nC  12.996  7.143  29.107  0.000  0.000  0.000\\nC  3.394  11.844  21.254  0.000  -0.000  -0.000\\nC  12.176  13.382  21.448  0.000  -0.000  -0.000\\nC  4.237  5.597  28.936  0.000  -0.000  0.000\\nC  6.577  14.537  29.483  0.000  0.000  -0.000\\nC  9.827  4.444  20.886  0.000  -0.000  0.000\\nC  13.793  11.876  22.997  0.000  -0.000  0.000\\nC  2.642  7.118  27.384  0.000  -0.000  -0.000\\nC  7.948  15.872  27.514  0.000  -0.000  -0.000\\nC  8.459  3.127  22.852  0.000  -0.000  0.000\\nC  11.911  9.000  30.794  0.000  0.000  0.000\\nC  4.499  9.971  19.568  0.000  -0.000  -0.000\\nC  14.037  9.289  22.577  0.000  -0.000  0.000\\nC  2.378  9.687  27.795  0.000  -0.000  -0.000\\nC  6.963  16.125  25.053  0.000  -0.000  -0.000\\nC  9.450  2.863  25.323  0.000  -0.000  0.000\\nC  9.541  8.549  31.802  0.000  0.000  0.000\\nC  6.872  10.428  18.553  0.000  -0.000  -0.000\\nC  13.741  12.811  25.528  0.000  -0.000  -0.000\\nC  2.670  6.161  24.835  0.000  -0.000  0.000\\nC  10.591  15.246  27.814  0.000  -0.000  -0.000\\nC  5.814  3.717  22.551  0.000  -0.000  0.000\\nC  12.532  11.520  29.866  0.000  0.000  0.000\\nC  3.866  7.469  20.497  0.000  -0.000  -0.000\\nC  11.870  3.912  25.909  0.000  -0.000  0.000\\nC  4.521  15.082  24.463  0.000  -0.000  -0.000\\nC  8.173  12.778  19.217  0.000  -0.000  -0.000\\nC  8.245  6.218  31.154  0.000  0.000  0.000\\nC  3.632  10.966  29.820  0.000  -0.000  -0.000\\nC  12.771  8.031  20.561  0.000  -0.000  0.000\\nC  11.810  4.883  28.497  0.000  0.000  0.000\\nC  4.577  14.104  21.872  0.000  -0.000  -0.000\\nC  10.800  12.157  19.542  0.000  -0.000  -0.000\\nC  5.603  6.827  30.847  0.000  0.000  0.000\\nC  4.253  13.473  28.895  0.000  -0.000  -0.000\\nC  12.144  5.502  21.463  0.000  -0.000  0.000\\n\",\"xyz\",{\"vibrate\": {\"frames\": 10, \"amplitude\": 10000}});\n",
       "\tviewergrid_154877325728[2][1].addModel(\"108\\nComment\\nAu  -0.372  19.245  -2.014  -0.000  0.000  0.000\\nAu  -0.250  19.048  11.653  -0.000  -0.000  0.000\\nAu  -0.349  9.843  -2.038  0.000  -0.000  0.000\\nAu  -0.231  9.600  11.649  0.000  0.000  0.000\\nAu  5.073  19.266  -2.013  -0.000  -0.000  0.000\\nAu  5.200  19.034  11.635  -0.000  0.000  -0.000\\nAu  5.086  9.830  -1.999  0.000  0.000  0.000\\nAu  5.210  9.613  11.679  -0.000  -0.000  0.000\\nAu  10.536  19.259  -2.019  0.000  0.000  -0.000\\nAu  10.652  19.044  11.647  -0.000  -0.000  -0.000\\nAu  10.570  9.828  -2.037  -0.000  0.000  -0.000\\nAu  10.655  9.600  11.635  -0.000  0.000  0.000\\nAu  2.404  8.063  2.542  -0.000  0.000  -0.000\\nAu  2.417  17.516  2.547  -0.000  0.000  -0.000\\nAu  7.864  8.080  2.533  0.000  0.000  -0.000\\nAu  7.852  17.527  2.520  -0.000  0.000  0.000\\nAu  13.303  8.074  2.532  0.000  -0.000  0.000\\nAu  13.316  17.533  2.544  -0.000  -0.000  0.000\\nAu  -0.311  3.361  2.527  -0.000  -0.000  0.000\\nAu  -0.328  12.807  2.565  0.000  0.000  0.000\\nAu  5.122  3.360  2.538  0.000  0.000  0.000\\nAu  5.122  12.806  2.537  0.000  0.000  0.000\\nAu  10.575  3.370  2.539  -0.000  -0.000  -0.000\\nAu  10.589  12.781  2.545  -0.000  -0.000  -0.000\\nAu  -0.275  6.646  7.077  0.000  -0.000  0.000\\nAu  -0.308  16.090  7.089  0.000  0.000  -0.000\\nAu  5.156  6.656  7.098  -0.000  0.000  -0.000\\nAu  5.171  16.069  7.106  0.000  0.000  0.000\\nAu  10.623  6.649  7.074  0.000  0.000  0.000\\nAu  10.605  16.101  7.121  0.000  -0.000  -0.000\\nAu  2.436  1.933  7.101  0.000  -0.000  -0.000\\nAu  2.453  11.353  7.091  -0.000  0.000  0.000\\nAu  7.890  1.954  7.082  -0.000  0.000  0.000\\nAu  7.887  11.350  7.093  0.000  -0.000  -0.000\\nAu  13.359  1.935  7.090  -0.000  -0.000  0.000\\nAu  13.329  11.352  7.087  0.000  -0.000  -0.000\\nAu  2.377  5.100  -2.033  0.000  -0.000  -0.000\\nAu  2.491  4.889  11.668  -0.000  0.000  0.000\\nAu  2.372  14.534  -2.028  -0.000  -0.000  -0.000\\nAu  2.477  14.349  11.668  -0.000  0.000  0.000\\nAu  7.852  5.101  -2.034  0.000  -0.000  -0.000\\nAu  7.916  4.891  11.652  0.000  0.000  -0.000\\nAu  7.807  14.542  -2.000  0.000  0.000  0.000\\nAu  7.933  14.341  11.663  -0.000  -0.000  0.000\\nAu  13.279  5.103  -2.011  -0.000  0.000  -0.000\\nAu  13.369  4.905  11.655  -0.000  0.000  0.000\\nAu  13.265  14.554  -2.010  0.000  -0.000  -0.000\\nAu  13.384  14.317  11.666  0.000  -0.000  -0.000\\nC  14.164  8.521  27.105  0.000  -0.000  0.000\\nC  2.219  10.458  23.250  0.000  -0.000  -0.000\\nC  11.046  15.271  23.100  0.000  -0.000  0.000\\nC  5.369  3.705  27.293  0.000  -0.000  -0.000\\nC  8.341  13.062  30.999  0.000  -0.000  0.000\\nC  8.043  5.915  19.370  0.000  -0.000  -0.000\\nC  14.231  7.600  24.672  0.000  -0.000  -0.000\\nC  2.188  11.379  25.707  0.000  -0.000  0.000\\nC  8.504  15.843  22.816  0.000  -0.000  0.000\\nC  7.889  3.114  27.571  0.000  -0.000  -0.000\\nC  7.712  10.615  31.863  0.000  -0.000  0.000\\nC  8.686  8.363  18.468  0.000  -0.000  -0.000\\nC  13.901  11.158  27.559  0.000  -0.000  0.000\\nC  2.487  7.813  22.805  0.000  -0.000  -0.000\\nC  12.084  14.953  25.646  0.000  -0.000  0.000\\nC  4.351  4.025  24.745  0.000  -0.000  -0.000\\nC  10.821  13.530  29.959  0.000  -0.000  0.000\\nC  5.576  5.453  20.406  0.000  -0.000  -0.000\\nC  13.119  5.245  24.011  0.000  -0.000  -0.000\\nC  3.289  13.743  26.357  0.000  -0.000  0.000\\nC  7.056  14.567  20.837  0.000  -0.000  0.000\\nC  9.348  4.412  29.538  0.000  -0.000  -0.000\\nC  5.278  9.534  31.314  0.000  -0.000  -0.000\\nC  11.105  9.450  19.076  0.000  -0.000  0.000\\nC  12.996  7.143  29.107  0.000  -0.000  -0.000\\nC  3.394  11.844  21.254  0.000  -0.000  0.000\\nC  12.176  13.382  21.448  0.000  -0.000  0.000\\nC  4.237  5.597  28.936  0.000  -0.000  -0.000\\nC  6.577  14.537  29.483  0.000  -0.000  0.000\\nC  9.827  4.444  20.886  0.000  -0.000  -0.000\\nC  13.793  11.876  22.997  0.000  -0.000  0.000\\nC  2.642  7.118  27.384  0.000  -0.000  -0.000\\nC  7.948  15.872  27.514  0.000  -0.000  0.000\\nC  8.459  3.127  22.852  0.000  -0.000  -0.000\\nC  11.911  9.000  30.794  0.000  -0.000  0.000\\nC  4.499  9.971  19.568  0.000  -0.000  -0.000\\nC  14.037  9.289  22.577  0.000  -0.000  0.000\\nC  2.378  9.687  27.795  0.000  -0.000  -0.000\\nC  6.963  16.125  25.053  0.000  -0.000  0.000\\nC  9.450  2.863  25.323  0.000  -0.000  -0.000\\nC  9.541  8.549  31.802  0.000  -0.000  -0.000\\nC  6.872  10.428  18.553  0.000  -0.000  -0.000\\nC  13.741  12.811  25.528  0.000  -0.000  0.000\\nC  2.670  6.161  24.835  0.000  -0.000  -0.000\\nC  10.591  15.246  27.814  0.000  -0.000  0.000\\nC  5.814  3.717  22.551  0.000  -0.000  -0.000\\nC  12.532  11.520  29.866  0.000  -0.000  0.000\\nC  3.866  7.469  20.497  0.000  -0.000  -0.000\\nC  11.870  3.912  25.909  0.000  -0.000  -0.000\\nC  4.521  15.082  24.463  0.000  -0.000  0.000\\nC  8.173  12.778  19.217  0.000  -0.000  0.000\\nC  8.245  6.218  31.154  0.000  -0.000  -0.000\\nC  3.632  10.966  29.820  0.000  -0.000  0.000\\nC  12.771  8.031  20.561  0.000  -0.000  -0.000\\nC  11.810  4.883  28.497  0.000  -0.000  -0.000\\nC  4.577  14.104  21.872  0.000  -0.000  0.000\\nC  10.800  12.157  19.542  0.000  -0.000  0.000\\nC  5.603  6.827  30.847  0.000  -0.000  -0.000\\nC  4.253  13.473  28.895  0.000  -0.000  0.000\\nC  12.144  5.502  21.463  0.000  -0.000  -0.000\\n\",\"xyz\",{\"vibrate\": {\"frames\": 10, \"amplitude\": 10000}});\n",
       "\tviewergrid_154877325728[0][0].setBackgroundColor(\"0xeeeeee\");\n",
       "\tviewergrid_154877325728[0][1].setBackgroundColor(\"0xeeeeee\");\n",
       "\tviewergrid_154877325728[1][0].setBackgroundColor(\"0xeeeeee\");\n",
       "\tviewergrid_154877325728[1][1].setBackgroundColor(\"0xeeeeee\");\n",
       "\tviewergrid_154877325728[2][0].setBackgroundColor(\"0xeeeeee\");\n",
       "\tviewergrid_154877325728[2][1].setBackgroundColor(\"0xeeeeee\");\n",
       "\tviewergrid_154877325728[0][0].setStyle({\"sphere\": {}});\n",
       "\tviewergrid_154877325728[0][1].setStyle({\"sphere\": {}});\n",
       "\tviewergrid_154877325728[1][0].setStyle({\"sphere\": {}});\n",
       "\tviewergrid_154877325728[1][1].setStyle({\"sphere\": {}});\n",
       "\tviewergrid_154877325728[2][0].setStyle({\"sphere\": {}});\n",
       "\tviewergrid_154877325728[2][1].setStyle({\"sphere\": {}});\n",
       "\tviewergrid_154877325728[0][0].animate({\"loop\": \"backAndForth\"});\n",
       "\tviewergrid_154877325728[0][1].animate({\"loop\": \"backAndForth\"});\n",
       "\tviewergrid_154877325728[1][0].animate({\"loop\": \"backAndForth\"});\n",
       "\tviewergrid_154877325728[1][1].animate({\"loop\": \"backAndForth\"});\n",
       "\tviewergrid_154877325728[2][0].animate({\"loop\": \"backAndForth\"});\n",
       "\tviewergrid_154877325728[2][1].animate({\"loop\": \"backAndForth\"});\n",
       "\tviewergrid_154877325728[0][0].zoomTo();\n",
       "\tviewergrid_154877325728[0][1].zoomTo();\n",
       "\tviewergrid_154877325728[1][0].zoomTo();\n",
       "\tviewergrid_154877325728[1][1].zoomTo();\n",
       "\tviewergrid_154877325728[2][0].zoomTo();\n",
       "\tviewergrid_154877325728[2][1].zoomTo();\n",
       "viewergrid_154877325728[2][1].render();\n",
       "viewergrid_154877325728[2][0].render();\n",
       "viewergrid_154877325728[1][1].render();\n",
       "viewergrid_154877325728[1][0].render();\n",
       "viewergrid_154877325728[0][1].render();\n",
       "viewergrid_154877325728[0][0].render();\n",
       "});\n",
       "</script>"
      ]
     },
     "metadata": {},
     "output_type": "display_data"
    }
   ],
   "source": [
    "mode = 50\n",
    "ampl = 10000\n",
    "\n",
    "# Method 1\n",
    "xyz00v = normal_modes.get_xyz(E,R, M, res00[2], mode)  # velocity covariance\n",
    "xyz00a = normal_modes.get_xyz(E,R, M, res00[5], mode)  # acceleration covariance\n",
    "xyz01v = normal_modes.get_xyz(E,R, M, res01[2], mode)  # velocity fluctuation covariance\n",
    "xyz01a = normal_modes.get_xyz(E,R, M, res01[5], mode)  # acceleration fluctuation covariance\n",
    "\n",
    "# Method 2\n",
    "xyz20f = normal_modes.get_xyz(E,R, M, res20[2], mode)  # force covariance\n",
    "xyz21f = normal_modes.get_xyz(E,R, M, res21[2], mode)  # force fluctuation covariance\n",
    "\n",
    "\n",
    "view = py3Dmol.view(width=1000,height=800, linked=False,viewergrid=(3,2))\n",
    "view.addModel(xyz00v,'xyz',{'vibrate': {'frames':10,'amplitude':ampl}}, viewer=(0,0))\n",
    "view.addModel(xyz01v,'xyz',{'vibrate': {'frames':10,'amplitude':ampl}}, viewer=(0,1))\n",
    "\n",
    "view.addModel(xyz00a,'xyz',{'vibrate': {'frames':10,'amplitude':ampl}}, viewer=(1,0))\n",
    "view.addModel(xyz01a,'xyz',{'vibrate': {'frames':10,'amplitude':ampl}}, viewer=(1,1))\n",
    "\n",
    "view.addModel(xyz20f,'xyz',{'vibrate': {'frames':10,'amplitude':ampl}}, viewer=(2,0))\n",
    "view.addModel(xyz21f,'xyz',{'vibrate': {'frames':10,'amplitude':ampl}}, viewer=(2,1))\n",
    "\n",
    "view.setBackgroundColor('0xeeeeee')\n",
    "view.setStyle({'sphere':{}})\n",
    "view.animate({'loop': 'backAndForth'})\n",
    "view.zoomTo()\n",
    "view.show()"
   ]
  },
  {
   "cell_type": "code",
   "execution_count": 9,
   "metadata": {},
   "outputs": [
    {
     "name": "stdout",
     "output_type": "stream",
     "text": [
      "10.5701046079\n"
     ]
    }
   ],
   "source": [
    "print R.get(30,0)"
   ]
  },
  {
   "cell_type": "code",
   "execution_count": 10,
   "metadata": {},
   "outputs": [],
   "source": [
    "x = R.col(0)\n",
    "x.show_matrix()"
   ]
  },
  {
   "cell_type": "code",
   "execution_count": 11,
   "metadata": {},
   "outputs": [
    {
     "name": "stdout",
     "output_type": "stream",
     "text": [
      "['Au', 'Au', 'Au', 'Au', 'Au', 'Au', 'Au', 'Au', 'Au', 'Au', 'Au', 'Au', 'Au', 'Au', 'Au', 'Au', 'Au', 'Au', 'Au', 'Au', 'Au', 'Au', 'Au', 'Au', 'Au', 'Au', 'Au', 'Au', 'Au', 'Au', 'Au', 'Au', 'Au', 'Au', 'Au', 'Au', 'Au', 'Au', 'Au', 'Au', 'Au', 'Au', 'Au', 'Au', 'Au', 'Au', 'Au', 'Au', 'C', 'C', 'C', 'C', 'C', 'C', 'C', 'C', 'C', 'C', 'C', 'C', 'C', 'C', 'C', 'C', 'C', 'C', 'C', 'C', 'C', 'C', 'C', 'C', 'C', 'C', 'C', 'C', 'C', 'C', 'C', 'C', 'C', 'C', 'C', 'C', 'C', 'C', 'C', 'C', 'C', 'C', 'C', 'C', 'C', 'C', 'C', 'C', 'C', 'C', 'C', 'C', 'C', 'C', 'C', 'C', 'C', 'C', 'C', 'C']\n",
      "108\n",
      "Comment\n",
      "Au  -0.372  19.245  -2.014  0.000  -0.000  -0.000\n",
      "Au  -0.250  19.048  11.653  -0.000  0.000  0.000\n",
      "Au  -0.349  9.843  -2.038  -0.000  0.000  -0.000\n",
      "Au  -0.231  9.600  11.649  -0.000  -0.000  -0.000\n",
      "Au  5.073  19.266  -2.013  -0.000  -0.000  0.000\n",
      "Au  5.200  19.034  11.635  -0.000  -0.000  0.000\n",
      "Au  5.086  9.830  -1.999  -0.000  -0.000  -0.000\n",
      "Au  5.210  9.613  11.679  0.000  -0.000  -0.000\n",
      "Au  10.536  19.259  -2.019  -0.000  0.000  0.000\n",
      "Au  10.652  19.044  11.647  0.000  0.000  -0.000\n",
      "Au  10.570  9.828  -2.037  0.000  -0.000  0.000\n",
      "Au  10.655  9.600  11.635  -0.000  -0.000  0.000\n",
      "Au  2.404  8.063  2.542  0.000  -0.000  0.000\n",
      "Au  2.417  17.516  2.547  -0.000  -0.000  -0.000\n",
      "Au  7.864  8.080  2.533  0.000  0.000  0.000\n",
      "Au  7.852  17.527  2.520  0.000  -0.000  -0.000\n",
      "Au  13.303  8.074  2.532  0.000  0.000  -0.000\n",
      "Au  13.316  17.533  2.544  0.000  -0.000  0.000\n",
      "Au  -0.311  3.361  2.527  0.000  -0.000  0.000\n",
      "Au  -0.328  12.807  2.565  -0.000  -0.000  -0.000\n",
      "Au  5.122  3.360  2.538  0.000  0.000  -0.000\n",
      "Au  5.122  12.806  2.537  -0.000  -0.000  -0.000\n",
      "Au  10.575  3.370  2.539  -0.000  0.000  0.000\n",
      "Au  10.589  12.781  2.545  0.000  -0.000  -0.000\n",
      "Au  -0.275  6.646  7.077  0.000  -0.000  -0.000\n",
      "Au  -0.308  16.090  7.089  0.000  -0.000  0.000\n",
      "Au  5.156  6.656  7.098  0.000  0.000  -0.000\n",
      "Au  5.171  16.069  7.106  0.000  -0.000  0.000\n",
      "Au  10.623  6.649  7.074  0.000  0.000  0.000\n",
      "Au  10.605  16.101  7.121  0.000  -0.000  -0.000\n",
      "Au  2.436  1.933  7.101  0.000  -0.000  0.000\n",
      "Au  2.453  11.353  7.091  -0.000  -0.000  -0.000\n",
      "Au  7.890  1.954  7.082  0.000  -0.000  0.000\n",
      "Au  7.887  11.350  7.093  -0.000  0.000  -0.000\n",
      "Au  13.359  1.935  7.090  -0.000  0.000  -0.000\n",
      "Au  13.329  11.352  7.087  -0.000  0.000  -0.000\n",
      "Au  2.377  5.100  -2.033  -0.000  -0.000  0.000\n",
      "Au  2.491  4.889  11.668  -0.000  0.000  -0.000\n",
      "Au  2.372  14.534  -2.028  -0.000  0.000  0.000\n",
      "Au  2.477  14.349  11.668  -0.000  0.000  -0.000\n",
      "Au  7.852  5.101  -2.034  -0.000  -0.000  -0.000\n",
      "Au  7.916  4.891  11.652  0.000  0.000  0.000\n",
      "Au  7.807  14.542  -2.000  0.000  -0.000  0.000\n",
      "Au  7.933  14.341  11.663  -0.000  0.000  -0.000\n",
      "Au  13.279  5.103  -2.011  0.000  0.000  -0.000\n",
      "Au  13.369  4.905  11.655  -0.000  0.000  0.000\n",
      "Au  13.265  14.554  -2.010  0.000  -0.000  -0.000\n",
      "Au  13.384  14.317  11.666  0.000  0.000  -0.000\n",
      "C  14.164  8.521  27.105  -0.000  0.000  0.000\n",
      "C  2.219  10.458  23.250  -0.001  -0.000  -0.000\n",
      "C  11.046  15.271  23.100  -0.000  0.000  0.000\n",
      "C  5.369  3.705  27.293  -0.000  -0.001  0.000\n",
      "C  8.341  13.062  30.999  0.000  -0.001  -0.000\n",
      "C  8.043  5.915  19.370  -0.000  0.000  -0.000\n",
      "C  14.231  7.600  24.672  -0.001  0.000  0.000\n",
      "C  2.188  11.379  25.707  0.000  -0.000  0.000\n",
      "C  8.504  15.843  22.816  0.000  -0.001  0.000\n",
      "C  7.889  3.114  27.571  -0.001  -0.001  -0.000\n",
      "C  7.712  10.615  31.863  -0.000  0.001  -0.000\n",
      "C  8.686  8.363  18.468  0.000  0.000  -0.001\n",
      "C  13.901  11.158  27.559  -0.000  0.000  -0.000\n",
      "C  2.487  7.813  22.805  0.000  0.000  0.001\n",
      "C  12.084  14.953  25.646  -0.000  -0.000  -0.000\n",
      "C  4.351  4.025  24.745  -0.000  -0.000  0.000\n",
      "C  10.821  13.530  29.959  0.000  0.000  0.000\n",
      "C  5.576  5.453  20.406  -0.000  0.000  -0.000\n",
      "C  13.119  5.245  24.011  0.000  0.000  -0.000\n",
      "C  3.289  13.743  26.357  0.000  0.000  0.000\n",
      "C  7.056  14.567  20.837  0.001  0.000  0.000\n",
      "C  9.348  4.412  29.538  -0.000  -0.000  0.000\n",
      "C  5.278  9.534  31.314  -0.000  -0.000  -0.000\n",
      "C  11.105  9.450  19.076  -0.000  -0.000  -0.000\n",
      "C  12.996  7.143  29.107  -0.000  -0.001  0.001\n",
      "C  3.394  11.844  21.254  0.000  -0.000  0.000\n",
      "C  12.176  13.382  21.448  -0.000  -0.000  0.001\n",
      "C  4.237  5.597  28.936  -0.000  0.001  0.000\n",
      "C  6.577  14.537  29.483  0.000  -0.000  -0.001\n",
      "C  9.827  4.444  20.886  0.000  -0.001  0.000\n",
      "C  13.793  11.876  22.997  0.000  -0.000  -0.001\n",
      "C  2.642  7.118  27.384  -0.001  0.000  -0.001\n",
      "C  7.948  15.872  27.514  -0.001  -0.001  0.001\n",
      "C  8.459  3.127  22.852  0.000  0.001  -0.000\n",
      "C  11.911  9.000  30.794  0.000  -0.000  0.000\n",
      "C  4.499  9.971  19.568  -0.000  0.000  0.000\n",
      "C  14.037  9.289  22.577  0.000  0.000  -0.001\n",
      "C  2.378  9.687  27.795  -0.000  0.001  0.000\n",
      "C  6.963  16.125  25.053  -0.000  0.000  -0.000\n",
      "C  9.450  2.863  25.323  -0.000  -0.000  0.000\n",
      "C  9.541  8.549  31.802  -0.000  0.000  0.000\n",
      "C  6.872  10.428  18.553  -0.000  0.000  -0.000\n",
      "C  13.741  12.811  25.528  -0.000  0.000  0.000\n",
      "C  2.670  6.161  24.835  -0.000  0.000  -0.000\n",
      "C  10.591  15.246  27.814  0.000  0.000  0.000\n",
      "C  5.814  3.717  22.551  0.000  0.001  -0.000\n",
      "C  12.532  11.520  29.866  0.001  -0.000  -0.000\n",
      "C  3.866  7.469  20.497  0.000  -0.001  0.000\n",
      "C  11.870  3.912  25.909  0.000  0.000  -0.000\n",
      "C  4.521  15.082  24.463  0.000  -0.000  -0.000\n",
      "C  8.173  12.778  19.217  0.000  -0.000  -0.001\n",
      "C  8.245  6.218  31.154  -0.000  0.000  -0.000\n",
      "C  3.632  10.966  29.820  -0.000  -0.001  -0.000\n",
      "C  12.771  8.031  20.561  0.000  0.001  -0.000\n",
      "C  11.810  4.883  28.497  0.000  -0.001  0.000\n",
      "C  4.577  14.104  21.872  -0.000  0.000  0.000\n",
      "C  10.800  12.157  19.542  -0.000  0.001  -0.000\n",
      "C  5.603  6.827  30.847  0.000  0.000  0.001\n",
      "C  4.253  13.473  28.895  -0.000  0.001  -0.000\n",
      "C  12.144  5.502  21.463  0.000  -0.001  0.000\n",
      "\n"
     ]
    }
   ],
   "source": [
    "print E\n",
    "print xyz00v"
   ]
  },
  {
   "cell_type": "code",
   "execution_count": 13,
   "metadata": {},
   "outputs": [
    {
     "data": {
      "application/3dmoljs_load.v0": "<div id=\"3dmolviewer_15487732295\"  style=\"position: relative; width: 800px; height: 400px\">\n        <p id=\"3dmolwarning_15487732295\" style=\"background-color:#ffcccc;color:black\">You appear to be running in JupyterLab.  You need to install the 3dmol extension: <br>\n        <tt>jupyter labextension install jupyterlab_3dmol</tt></p>\n        </div>\n<script>\n\nvar loadScriptAsync = function(uri){\n  return new Promise((resolve, reject) => {\n    var tag = document.createElement('script');\n    tag.src = uri;\n    tag.async = true;\n    tag.onload = () => {\n      resolve();\n    };\n  var firstScriptTag = document.getElementsByTagName('script')[0];\n  firstScriptTag.parentNode.insertBefore(tag, firstScriptTag);\n});\n};\n\nif(typeof $3Dmolpromise === 'undefined') {\n$3Dmolpromise = null;\n  $3Dmolpromise = loadScriptAsync('https://3dmol.csb.pitt.edu/build/3Dmol.js');\n}\n\nvar viewer_15487732295 = null;\nvar warn = document.getElementById(\"3dmolwarning_15487732295\");\nif(warn) {\n    warn.parentNode.removeChild(warn);\n}\n$3Dmolpromise.then(function() {\nviewer_15487732295 = $3Dmol.createViewer($(\"#3dmolviewer_15487732295\"),{backgroundColor:\"white\"});\n\tviewer_15487732295.addModel(\"50\\nComment\\nN     0.000005    0.019779   -0.000003   -0.000   0.000  0.050\\nAu   -0.372      19.245      19.245      -0.000  -0.000  0.000\\nAu   -0.250      19.048      19.048      -0.000   0.000  0.000\\nAu   -0.349       9.843       9.843      -0.000  -0.000  0.050\\nAu   -0.349       9.843      19.843      -0.000  -0.000  0.050\\nAu  -0.231   9.600   9.600  -0.000  -0.000  0.000\\nAu   5.073  19.266  19.266  -0.000   0.000  0.000\\nAu   5.200  19.034  19.034  -0.000  -0.000  0.000\\nAu   5.086   9.830   9.830  -0.000   0.000  0.000\\nAu   5.210   9.613   9.613  -0.000   0.000 -0.000\\nAu  10.536  19.259  19.259  -0.000   0.000 -0.000\\nAu  10.652  19.044  19.044  -0.000  -0.000  0.000\\nAu  10.570   9.828   9.828  -0.000   0.000  0.000\\nAu  10.655   9.600   9.600  -0.000   0.000  0.000\\nAu   2.404   8.063   8.063  -0.000  -0.000  0.000\\nAu   2.417  17.516  17.516  -0.000   0.000  0.000\\nAu   7.864   8.080   8.080  -0.000   0.000  0.000\\nAu   7.852  17.527  17.527  -0.000   0.000 -0.000\\nAu  13.303   8.074   8.074  -0.000   0.000  0.000\\nAu  13.316  17.533  17.533  -0.000   0.000  0.000\\nAu  -0.311   3.361   3.361  -0.000   0.000 -0.000\\nAu  -0.328  12.807  12.807  -0.000   0.000 -0.000\\nAu   5.122   3.360   3.360  -0.000   0.000  0.000\\nAu   5.122  12.806  12.806  -0.000  -0.000  0.000\\nAu  10.575   3.370   3.370  -0.000   0.000  0.000\\nAu  10.589  12.781  12.781  -0.000  -0.000  0.000\\nAu  -0.275   6.646   6.646  -0.000  -0.000  0.000\\nAu  -0.308  16.090  16.090  -0.000  -0.000  0.000\\nAu   5.156   6.656   6.656  -0.000  -0.000  0.000\\nAu   5.171  16.069  16.069  -0.000   0.000  0.000\\nAu  10.623   6.649   6.649  -0.000   0.000 -0.000\\nAu  10.605  16.101  16.101  -0.000   0.000 -0.000\\nAu   2.436   1.933   1.933  -0.000   0.000 -0.000\\nAu   2.453  11.353  11.353  -0.000  -0.000  0.000\\nAu   7.890   1.954   1.954  -0.000   0.000  0.000\\nAu   7.887  11.350  11.350  -0.000   0.000 -0.000\\nAu  13.359   1.935   1.935  -0.000   0.000  0.000\\nAu  13.329  11.352  11.352  -0.000   0.000  0.000\\nAu   2.377   5.100   5.100  -0.000  -0.000  0.000\\nAu   2.491   4.889   4.889  -0.000   0.000  0.000\\nAu   2.372  14.534  14.534  -0.000  -0.000  0.000\\nAu   2.477  14.349  14.349  -0.000  -0.000  0.000\\nAu   7.852   5.101   5.101  -0.000  -0.000  0.000\\nAu   7.916   4.891   4.891  -0.000   0.000 -0.000\\nAu   7.807  14.542  14.542  -0.000  -0.000  0.000\\nAu   7.933  14.341  14.341  -0.000  -0.000  0.000\\nAu  13.279   5.103   5.103  -0.000   0.000  0.000\\nAu  13.369   4.905   4.905  -0.000   0.000 -0.000\\nAu  13.265  14.554  14.554  -0.000   0.000 -0.000\\nAu  13.384  14.317  14.317  -0.000   0.000  0.000\",\"xyz\",{\"vibrate\": {\"frames\": 10, \"amplitude\": 500}});\n\tviewer_15487732295.setBackgroundColor(\"0xeeeeee\");\n\tviewer_15487732295.setStyle({\"sphere\": {}});\n\tviewer_15487732295.animate({\"loop\": \"backAndForth\"});\n\tviewer_15487732295.zoomTo();\nviewer_15487732295.render();\n});\n</script>",
      "text/html": [
       "<div id=\"3dmolviewer_15487732295\"  style=\"position: relative; width: 800px; height: 400px\">\n",
       "        <p id=\"3dmolwarning_15487732295\" style=\"background-color:#ffcccc;color:black\">You appear to be running in JupyterLab.  You need to install the 3dmol extension: <br>\n",
       "        <tt>jupyter labextension install jupyterlab_3dmol</tt></p>\n",
       "        </div>\n",
       "<script>\n",
       "\n",
       "var loadScriptAsync = function(uri){\n",
       "  return new Promise((resolve, reject) => {\n",
       "    var tag = document.createElement('script');\n",
       "    tag.src = uri;\n",
       "    tag.async = true;\n",
       "    tag.onload = () => {\n",
       "      resolve();\n",
       "    };\n",
       "  var firstScriptTag = document.getElementsByTagName('script')[0];\n",
       "  firstScriptTag.parentNode.insertBefore(tag, firstScriptTag);\n",
       "});\n",
       "};\n",
       "\n",
       "if(typeof $3Dmolpromise === 'undefined') {\n",
       "$3Dmolpromise = null;\n",
       "  $3Dmolpromise = loadScriptAsync('https://3dmol.csb.pitt.edu/build/3Dmol.js');\n",
       "}\n",
       "\n",
       "var viewer_15487732295 = null;\n",
       "var warn = document.getElementById(\"3dmolwarning_15487732295\");\n",
       "if(warn) {\n",
       "    warn.parentNode.removeChild(warn);\n",
       "}\n",
       "$3Dmolpromise.then(function() {\n",
       "viewer_15487732295 = $3Dmol.createViewer($(\"#3dmolviewer_15487732295\"),{backgroundColor:\"white\"});\n",
       "\tviewer_15487732295.addModel(\"50\\nComment\\nN     0.000005    0.019779   -0.000003   -0.000   0.000  0.050\\nAu   -0.372      19.245      19.245      -0.000  -0.000  0.000\\nAu   -0.250      19.048      19.048      -0.000   0.000  0.000\\nAu   -0.349       9.843       9.843      -0.000  -0.000  0.050\\nAu   -0.349       9.843      19.843      -0.000  -0.000  0.050\\nAu  -0.231   9.600   9.600  -0.000  -0.000  0.000\\nAu   5.073  19.266  19.266  -0.000   0.000  0.000\\nAu   5.200  19.034  19.034  -0.000  -0.000  0.000\\nAu   5.086   9.830   9.830  -0.000   0.000  0.000\\nAu   5.210   9.613   9.613  -0.000   0.000 -0.000\\nAu  10.536  19.259  19.259  -0.000   0.000 -0.000\\nAu  10.652  19.044  19.044  -0.000  -0.000  0.000\\nAu  10.570   9.828   9.828  -0.000   0.000  0.000\\nAu  10.655   9.600   9.600  -0.000   0.000  0.000\\nAu   2.404   8.063   8.063  -0.000  -0.000  0.000\\nAu   2.417  17.516  17.516  -0.000   0.000  0.000\\nAu   7.864   8.080   8.080  -0.000   0.000  0.000\\nAu   7.852  17.527  17.527  -0.000   0.000 -0.000\\nAu  13.303   8.074   8.074  -0.000   0.000  0.000\\nAu  13.316  17.533  17.533  -0.000   0.000  0.000\\nAu  -0.311   3.361   3.361  -0.000   0.000 -0.000\\nAu  -0.328  12.807  12.807  -0.000   0.000 -0.000\\nAu   5.122   3.360   3.360  -0.000   0.000  0.000\\nAu   5.122  12.806  12.806  -0.000  -0.000  0.000\\nAu  10.575   3.370   3.370  -0.000   0.000  0.000\\nAu  10.589  12.781  12.781  -0.000  -0.000  0.000\\nAu  -0.275   6.646   6.646  -0.000  -0.000  0.000\\nAu  -0.308  16.090  16.090  -0.000  -0.000  0.000\\nAu   5.156   6.656   6.656  -0.000  -0.000  0.000\\nAu   5.171  16.069  16.069  -0.000   0.000  0.000\\nAu  10.623   6.649   6.649  -0.000   0.000 -0.000\\nAu  10.605  16.101  16.101  -0.000   0.000 -0.000\\nAu   2.436   1.933   1.933  -0.000   0.000 -0.000\\nAu   2.453  11.353  11.353  -0.000  -0.000  0.000\\nAu   7.890   1.954   1.954  -0.000   0.000  0.000\\nAu   7.887  11.350  11.350  -0.000   0.000 -0.000\\nAu  13.359   1.935   1.935  -0.000   0.000  0.000\\nAu  13.329  11.352  11.352  -0.000   0.000  0.000\\nAu   2.377   5.100   5.100  -0.000  -0.000  0.000\\nAu   2.491   4.889   4.889  -0.000   0.000  0.000\\nAu   2.372  14.534  14.534  -0.000  -0.000  0.000\\nAu   2.477  14.349  14.349  -0.000  -0.000  0.000\\nAu   7.852   5.101   5.101  -0.000  -0.000  0.000\\nAu   7.916   4.891   4.891  -0.000   0.000 -0.000\\nAu   7.807  14.542  14.542  -0.000  -0.000  0.000\\nAu   7.933  14.341  14.341  -0.000  -0.000  0.000\\nAu  13.279   5.103   5.103  -0.000   0.000  0.000\\nAu  13.369   4.905   4.905  -0.000   0.000 -0.000\\nAu  13.265  14.554  14.554  -0.000   0.000 -0.000\\nAu  13.384  14.317  14.317  -0.000   0.000  0.000\",\"xyz\",{\"vibrate\": {\"frames\": 10, \"amplitude\": 500}});\n",
       "\tviewer_15487732295.setBackgroundColor(\"0xeeeeee\");\n",
       "\tviewer_15487732295.setStyle({\"sphere\": {}});\n",
       "\tviewer_15487732295.animate({\"loop\": \"backAndForth\"});\n",
       "\tviewer_15487732295.zoomTo();\n",
       "viewer_15487732295.render();\n",
       "});\n",
       "</script>"
      ]
     },
     "metadata": {},
     "output_type": "display_data"
    }
   ],
   "source": [
    "au='''50\n",
    "Comment\n",
    "N     0.000005    0.019779   -0.000003   -0.000   0.000  0.050\n",
    "Au   -0.372      19.245      19.245      -0.000  -0.000  0.000\n",
    "Au   -0.250      19.048      19.048      -0.000   0.000  0.000\n",
    "Au   -0.349       9.843       9.843      -0.000  -0.000  0.050\n",
    "Au   -0.349       9.843      19.843      -0.000  -0.000  0.050\n",
    "Au  -0.231   9.600   9.600  -0.000  -0.000  0.000\n",
    "Au   5.073  19.266  19.266  -0.000   0.000  0.000\n",
    "Au   5.200  19.034  19.034  -0.000  -0.000  0.000\n",
    "Au   5.086   9.830   9.830  -0.000   0.000  0.000\n",
    "Au   5.210   9.613   9.613  -0.000   0.000 -0.000\n",
    "Au  10.536  19.259  19.259  -0.000   0.000 -0.000\n",
    "Au  10.652  19.044  19.044  -0.000  -0.000  0.000\n",
    "Au  10.570   9.828   9.828  -0.000   0.000  0.000\n",
    "Au  10.655   9.600   9.600  -0.000   0.000  0.000\n",
    "Au   2.404   8.063   8.063  -0.000  -0.000  0.000\n",
    "Au   2.417  17.516  17.516  -0.000   0.000  0.000\n",
    "Au   7.864   8.080   8.080  -0.000   0.000  0.000\n",
    "Au   7.852  17.527  17.527  -0.000   0.000 -0.000\n",
    "Au  13.303   8.074   8.074  -0.000   0.000  0.000\n",
    "Au  13.316  17.533  17.533  -0.000   0.000  0.000\n",
    "Au  -0.311   3.361   3.361  -0.000   0.000 -0.000\n",
    "Au  -0.328  12.807  12.807  -0.000   0.000 -0.000\n",
    "Au   5.122   3.360   3.360  -0.000   0.000  0.000\n",
    "Au   5.122  12.806  12.806  -0.000  -0.000  0.000\n",
    "Au  10.575   3.370   3.370  -0.000   0.000  0.000\n",
    "Au  10.589  12.781  12.781  -0.000  -0.000  0.000\n",
    "Au  -0.275   6.646   6.646  -0.000  -0.000  0.000\n",
    "Au  -0.308  16.090  16.090  -0.000  -0.000  0.000\n",
    "Au   5.156   6.656   6.656  -0.000  -0.000  0.000\n",
    "Au   5.171  16.069  16.069  -0.000   0.000  0.000\n",
    "Au  10.623   6.649   6.649  -0.000   0.000 -0.000\n",
    "Au  10.605  16.101  16.101  -0.000   0.000 -0.000\n",
    "Au   2.436   1.933   1.933  -0.000   0.000 -0.000\n",
    "Au   2.453  11.353  11.353  -0.000  -0.000  0.000\n",
    "Au   7.890   1.954   1.954  -0.000   0.000  0.000\n",
    "Au   7.887  11.350  11.350  -0.000   0.000 -0.000\n",
    "Au  13.359   1.935   1.935  -0.000   0.000  0.000\n",
    "Au  13.329  11.352  11.352  -0.000   0.000  0.000\n",
    "Au   2.377   5.100   5.100  -0.000  -0.000  0.000\n",
    "Au   2.491   4.889   4.889  -0.000   0.000  0.000\n",
    "Au   2.372  14.534  14.534  -0.000  -0.000  0.000\n",
    "Au   2.477  14.349  14.349  -0.000  -0.000  0.000\n",
    "Au   7.852   5.101   5.101  -0.000  -0.000  0.000\n",
    "Au   7.916   4.891   4.891  -0.000   0.000 -0.000\n",
    "Au   7.807  14.542  14.542  -0.000  -0.000  0.000\n",
    "Au   7.933  14.341  14.341  -0.000  -0.000  0.000\n",
    "Au  13.279   5.103   5.103  -0.000   0.000  0.000\n",
    "Au  13.369   4.905   4.905  -0.000   0.000 -0.000\n",
    "Au  13.265  14.554  14.554  -0.000   0.000 -0.000\n",
    "Au  13.384  14.317  14.317  -0.000   0.000  0.000'''\n",
    "\n",
    "view1 = py3Dmol.view(width=800,height=400)\n",
    "view1.addModel(au,'xyz',{'vibrate': {'frames':10,'amplitude':500}})\n",
    "\n",
    "view1.setBackgroundColor('0xeeeeee')\n",
    "view1.setStyle({'sphere':{}})\n",
    "view1.animate({'loop': 'backAndForth'})\n",
    "view1.zoomTo()\n",
    "view1.show()"
   ]
  },
  {
   "cell_type": "code",
   "execution_count": null,
   "metadata": {},
   "outputs": [],
   "source": []
  }
 ],
 "metadata": {
  "kernelspec": {
   "display_name": "Python 2",
   "language": "python",
   "name": "python2"
  },
  "language_info": {
   "codemirror_mode": {
    "name": "ipython",
    "version": 2
   },
   "file_extension": ".py",
   "mimetype": "text/x-python",
   "name": "python",
   "nbconvert_exporter": "python",
   "pygments_lexer": "ipython2",
   "version": "2.7.15"
  }
 },
 "nbformat": 4,
 "nbformat_minor": 2
}
