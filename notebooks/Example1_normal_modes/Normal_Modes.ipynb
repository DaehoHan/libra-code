{
 "cells": [
  {
   "cell_type": "code",
   "execution_count": 7,
   "metadata": {},
   "outputs": [],
   "source": [
    "import liblibra_core\n",
    "from libra_py import *\n",
    "import math\n",
    "import py3Dmol"
   ]
  },
  {
   "cell_type": "code",
   "execution_count": 8,
   "metadata": {
    "scrolled": true
   },
   "outputs": [],
   "source": [
    "params = {\"nsteps\":100, \"nperiods\":1, \"scale\":250.0, \"visualize\":0, \"verbosity\":0, \"prefix\":\"_Si8_cov_flag0\"}\n",
    "\n",
    "R, V, A, M, E = QE_methods.read_md_data(\"x0.xml\")"
   ]
  },
  {
   "cell_type": "markdown",
   "metadata": {},
   "source": [
    "### Method 1:\n",
    "\n",
    "Strachan, A. Normal Modes and Frequencies from Covariances in Molecular Dynamics \n",
    "    or Monte Carlo Simulation. J. Chem. Phys. 2003, 120, 1-4.\n",
    "    \n",
    "In the following 2 calls *res* is a tuple (w, w_inv_cm, U_v,  w2, w2_inv_cm, U_a)"
   ]
  },
  {
   "cell_type": "code",
   "execution_count": 9,
   "metadata": {},
   "outputs": [],
   "source": [
    "params.update({\"cov_flag\":0})\n",
    "res00 = normal_modes.compute_cov( R, V, A, M, E, params)"
   ]
  },
  {
   "cell_type": "markdown",
   "metadata": {},
   "source": [
    "Another option is to use data centered around the averages (fluctuations)"
   ]
  },
  {
   "cell_type": "code",
   "execution_count": 10,
   "metadata": {},
   "outputs": [],
   "source": [
    "params.update({\"cov_flag\":1})\n",
    "res01 = normal_modes.compute_cov( R, V, A, M, E, params)\n"
   ]
  },
  {
   "cell_type": "markdown",
   "metadata": {},
   "source": [
    "### Method 2:\n",
    "Pereverzev, A.; Sewell, T. D. Obtaining the Hessian from the Force Covariance Matrix:\n",
    "    Application to Crystalline Explosives PETN and RDX. J. Chem. Phys. 2015, 142, 134110.\n",
    "    \n",
    "In the following 2 calls *res* is a tuple (w_a, w_inv_cm, U_a)\n",
    "Again, without centering:"
   ]
  },
  {
   "cell_type": "code",
   "execution_count": 11,
   "metadata": {},
   "outputs": [],
   "source": [
    "params.update({\"cov_flag\":0})\n",
    "res20 = normal_modes.compute_cov2( R, A, M, E, 300.0, params)"
   ]
  },
  {
   "cell_type": "markdown",
   "metadata": {},
   "source": [
    "With the centering:"
   ]
  },
  {
   "cell_type": "code",
   "execution_count": 12,
   "metadata": {},
   "outputs": [],
   "source": [
    "params.update({\"cov_flag\":1})\n",
    "res21 = normal_modes.compute_cov2( R, A, M, E, 300.0, params)"
   ]
  },
  {
   "cell_type": "markdown",
   "metadata": {},
   "source": [
    "Now, we can select which normal modes to visualize:"
   ]
  },
  {
   "cell_type": "code",
   "execution_count": 17,
   "metadata": {},
   "outputs": [
    {
     "data": {
      "application/3dmoljs_load.v0": "<div id=\"3dmolviewer_154845092725\"  style=\"position: relative; width: 800px; height: 400px\">\n        <p id=\"3dmolwarning_154845092725\" style=\"background-color:#ffcccc;color:black\">You appear to be running in JupyterLab.  You need to install the 3dmol extension: <br>\n        <tt>jupyter labextension install jupyterlab_3dmol</tt></p>\n        </div>\n<script>\n\nvar loadScriptAsync = function(uri){\n  return new Promise((resolve, reject) => {\n    var tag = document.createElement('script');\n    tag.src = uri;\n    tag.async = true;\n    tag.onload = () => {\n      resolve();\n    };\n  var firstScriptTag = document.getElementsByTagName('script')[0];\n  firstScriptTag.parentNode.insertBefore(tag, firstScriptTag);\n});\n};\n\nif(typeof $3Dmolpromise === 'undefined') {\n$3Dmolpromise = null;\n  $3Dmolpromise = loadScriptAsync('https://3dmol.csb.pitt.edu/build/3Dmol.js');\n}\n\nvar viewer_154845092725 = null;\nvar warn = document.getElementById(\"3dmolwarning_154845092725\");\nif(warn) {\n    warn.parentNode.removeChild(warn);\n}\n$3Dmolpromise.then(function() {\nvar viewergrid_154845092725 = null;\nviewergrid_154845092725 = $3Dmol.createViewerGrid($(\"#3dmolviewer_154845092725\"),{rows: 3, cols: 2, control_all: false},{backgroundColor:\"white\"});\nviewer_154845092725 = viewergrid_154845092725[0][0];\n\tviewergrid_154845092725[0][0].addModel(\"  8\\nComment\\nSi  0.004  0.003  0.003  0.001  -0.000  -0.000\\nSi  -0.004  5.138  5.138  -0.000  -0.000  -0.000\\nSi  5.130  5.134  5.134  -0.000  0.000  0.000\\nSi  5.137  -0.003  -0.003  -0.003  -0.000  -0.000\\nSi  7.699  2.563  2.563  -0.000  -0.000  -0.000\\nSi  2.557  2.556  2.556  0.002  0.000  0.000\\nSi  2.565  7.704  7.704  0.000  0.000  0.000\\nSi  7.699  7.693  7.693  0.001  0.000  0.000\\n\",\"xyz\",{\"vibrate\": {\"frames\": 10, \"amplitude\": 500}});\n\tviewergrid_154845092725[0][1].addModel(\"  8\\nComment\\nSi  0.004  0.003  0.003  0.001  -0.000  -0.000\\nSi  -0.004  5.138  5.138  -0.000  -0.000  -0.000\\nSi  5.130  5.134  5.134  -0.000  0.000  0.000\\nSi  5.137  -0.003  -0.003  -0.003  -0.000  -0.000\\nSi  7.699  2.563  2.563  -0.000  -0.000  -0.000\\nSi  2.557  2.556  2.556  0.002  0.000  0.000\\nSi  2.565  7.704  7.704  0.000  0.000  0.000\\nSi  7.699  7.693  7.693  0.001  0.000  0.000\\n\",\"xyz\",{\"vibrate\": {\"frames\": 10, \"amplitude\": 500}});\n\tviewergrid_154845092725[1][0].addModel(\"  8\\nComment\\nSi  0.004  0.003  0.003  -0.001  0.000  0.000\\nSi  -0.004  5.138  5.138  0.001  -0.000  -0.000\\nSi  5.130  5.134  5.134  0.001  -0.000  -0.000\\nSi  5.137  -0.003  -0.003  -0.000  0.000  0.000\\nSi  7.699  2.563  2.563  -0.001  -0.002  -0.002\\nSi  2.557  2.556  2.556  0.002  -0.001  -0.001\\nSi  2.565  7.704  7.704  -0.000  0.001  0.001\\nSi  7.699  7.693  7.693  -0.001  0.001  0.001\\n\",\"xyz\",{\"vibrate\": {\"frames\": 10, \"amplitude\": 500}});\n\tviewergrid_154845092725[1][1].addModel(\"  8\\nComment\\nSi  0.004  0.003  0.003  -0.001  0.000  0.000\\nSi  -0.004  5.138  5.138  0.001  -0.001  -0.001\\nSi  5.130  5.134  5.134  0.001  0.000  0.000\\nSi  5.137  -0.003  -0.003  -0.001  0.000  0.000\\nSi  7.699  2.563  2.563  -0.001  -0.002  -0.002\\nSi  2.557  2.556  2.556  0.002  -0.001  -0.001\\nSi  2.565  7.704  7.704  -0.000  0.001  0.001\\nSi  7.699  7.693  7.693  -0.001  0.001  0.001\\n\",\"xyz\",{\"vibrate\": {\"frames\": 10, \"amplitude\": 500}});\n\tviewergrid_154845092725[2][0].addModel(\"  8\\nComment\\nSi  0.004  0.003  0.003  0.001  -0.000  -0.000\\nSi  -0.004  5.138  5.138  -0.001  0.000  0.000\\nSi  5.130  5.134  5.134  -0.001  0.000  0.000\\nSi  5.137  -0.003  -0.003  0.000  -0.000  -0.000\\nSi  7.699  2.563  2.563  0.001  0.002  0.002\\nSi  2.557  2.556  2.556  -0.002  0.001  0.001\\nSi  2.565  7.704  7.704  0.000  -0.001  -0.001\\nSi  7.699  7.693  7.693  0.001  -0.001  -0.001\\n\",\"xyz\",{\"vibrate\": {\"frames\": 10, \"amplitude\": 500}});\n\tviewergrid_154845092725[2][1].addModel(\"  8\\nComment\\nSi  0.004  0.003  0.003  -0.001  0.000  0.000\\nSi  -0.004  5.138  5.138  0.001  -0.001  -0.001\\nSi  5.130  5.134  5.134  0.001  0.000  0.000\\nSi  5.137  -0.003  -0.003  -0.001  0.000  0.000\\nSi  7.699  2.563  2.563  -0.001  -0.002  -0.002\\nSi  2.557  2.556  2.556  0.002  -0.001  -0.001\\nSi  2.565  7.704  7.704  -0.000  0.001  0.001\\nSi  7.699  7.693  7.693  -0.001  0.001  0.001\\n\",\"xyz\",{\"vibrate\": {\"frames\": 10, \"amplitude\": 500}});\n\tviewergrid_154845092725[0][0].setBackgroundColor(\"0xeeeeee\");\n\tviewergrid_154845092725[0][1].setBackgroundColor(\"0xeeeeee\");\n\tviewergrid_154845092725[1][0].setBackgroundColor(\"0xeeeeee\");\n\tviewergrid_154845092725[1][1].setBackgroundColor(\"0xeeeeee\");\n\tviewergrid_154845092725[2][0].setBackgroundColor(\"0xeeeeee\");\n\tviewergrid_154845092725[2][1].setBackgroundColor(\"0xeeeeee\");\n\tviewergrid_154845092725[0][0].setStyle({\"sphere\": {}});\n\tviewergrid_154845092725[0][1].setStyle({\"sphere\": {}});\n\tviewergrid_154845092725[1][0].setStyle({\"sphere\": {}});\n\tviewergrid_154845092725[1][1].setStyle({\"sphere\": {}});\n\tviewergrid_154845092725[2][0].setStyle({\"sphere\": {}});\n\tviewergrid_154845092725[2][1].setStyle({\"sphere\": {}});\n\tviewergrid_154845092725[0][0].animate({\"loop\": \"backAndForth\"});\n\tviewergrid_154845092725[0][1].animate({\"loop\": \"backAndForth\"});\n\tviewergrid_154845092725[1][0].animate({\"loop\": \"backAndForth\"});\n\tviewergrid_154845092725[1][1].animate({\"loop\": \"backAndForth\"});\n\tviewergrid_154845092725[2][0].animate({\"loop\": \"backAndForth\"});\n\tviewergrid_154845092725[2][1].animate({\"loop\": \"backAndForth\"});\n\tviewergrid_154845092725[0][0].zoomTo();\n\tviewergrid_154845092725[0][1].zoomTo();\n\tviewergrid_154845092725[1][0].zoomTo();\n\tviewergrid_154845092725[1][1].zoomTo();\n\tviewergrid_154845092725[2][0].zoomTo();\n\tviewergrid_154845092725[2][1].zoomTo();\nviewergrid_154845092725[2][1].render();\nviewergrid_154845092725[2][0].render();\nviewergrid_154845092725[1][1].render();\nviewergrid_154845092725[1][0].render();\nviewergrid_154845092725[0][1].render();\nviewergrid_154845092725[0][0].render();\n});\n</script>",
      "text/html": [
       "<div id=\"3dmolviewer_154845092725\"  style=\"position: relative; width: 800px; height: 400px\">\n",
       "        <p id=\"3dmolwarning_154845092725\" style=\"background-color:#ffcccc;color:black\">You appear to be running in JupyterLab.  You need to install the 3dmol extension: <br>\n",
       "        <tt>jupyter labextension install jupyterlab_3dmol</tt></p>\n",
       "        </div>\n",
       "<script>\n",
       "\n",
       "var loadScriptAsync = function(uri){\n",
       "  return new Promise((resolve, reject) => {\n",
       "    var tag = document.createElement('script');\n",
       "    tag.src = uri;\n",
       "    tag.async = true;\n",
       "    tag.onload = () => {\n",
       "      resolve();\n",
       "    };\n",
       "  var firstScriptTag = document.getElementsByTagName('script')[0];\n",
       "  firstScriptTag.parentNode.insertBefore(tag, firstScriptTag);\n",
       "});\n",
       "};\n",
       "\n",
       "if(typeof $3Dmolpromise === 'undefined') {\n",
       "$3Dmolpromise = null;\n",
       "  $3Dmolpromise = loadScriptAsync('https://3dmol.csb.pitt.edu/build/3Dmol.js');\n",
       "}\n",
       "\n",
       "var viewer_154845092725 = null;\n",
       "var warn = document.getElementById(\"3dmolwarning_154845092725\");\n",
       "if(warn) {\n",
       "    warn.parentNode.removeChild(warn);\n",
       "}\n",
       "$3Dmolpromise.then(function() {\n",
       "var viewergrid_154845092725 = null;\n",
       "viewergrid_154845092725 = $3Dmol.createViewerGrid($(\"#3dmolviewer_154845092725\"),{rows: 3, cols: 2, control_all: false},{backgroundColor:\"white\"});\n",
       "viewer_154845092725 = viewergrid_154845092725[0][0];\n",
       "\tviewergrid_154845092725[0][0].addModel(\"  8\\nComment\\nSi  0.004  0.003  0.003  0.001  -0.000  -0.000\\nSi  -0.004  5.138  5.138  -0.000  -0.000  -0.000\\nSi  5.130  5.134  5.134  -0.000  0.000  0.000\\nSi  5.137  -0.003  -0.003  -0.003  -0.000  -0.000\\nSi  7.699  2.563  2.563  -0.000  -0.000  -0.000\\nSi  2.557  2.556  2.556  0.002  0.000  0.000\\nSi  2.565  7.704  7.704  0.000  0.000  0.000\\nSi  7.699  7.693  7.693  0.001  0.000  0.000\\n\",\"xyz\",{\"vibrate\": {\"frames\": 10, \"amplitude\": 500}});\n",
       "\tviewergrid_154845092725[0][1].addModel(\"  8\\nComment\\nSi  0.004  0.003  0.003  0.001  -0.000  -0.000\\nSi  -0.004  5.138  5.138  -0.000  -0.000  -0.000\\nSi  5.130  5.134  5.134  -0.000  0.000  0.000\\nSi  5.137  -0.003  -0.003  -0.003  -0.000  -0.000\\nSi  7.699  2.563  2.563  -0.000  -0.000  -0.000\\nSi  2.557  2.556  2.556  0.002  0.000  0.000\\nSi  2.565  7.704  7.704  0.000  0.000  0.000\\nSi  7.699  7.693  7.693  0.001  0.000  0.000\\n\",\"xyz\",{\"vibrate\": {\"frames\": 10, \"amplitude\": 500}});\n",
       "\tviewergrid_154845092725[1][0].addModel(\"  8\\nComment\\nSi  0.004  0.003  0.003  -0.001  0.000  0.000\\nSi  -0.004  5.138  5.138  0.001  -0.000  -0.000\\nSi  5.130  5.134  5.134  0.001  -0.000  -0.000\\nSi  5.137  -0.003  -0.003  -0.000  0.000  0.000\\nSi  7.699  2.563  2.563  -0.001  -0.002  -0.002\\nSi  2.557  2.556  2.556  0.002  -0.001  -0.001\\nSi  2.565  7.704  7.704  -0.000  0.001  0.001\\nSi  7.699  7.693  7.693  -0.001  0.001  0.001\\n\",\"xyz\",{\"vibrate\": {\"frames\": 10, \"amplitude\": 500}});\n",
       "\tviewergrid_154845092725[1][1].addModel(\"  8\\nComment\\nSi  0.004  0.003  0.003  -0.001  0.000  0.000\\nSi  -0.004  5.138  5.138  0.001  -0.001  -0.001\\nSi  5.130  5.134  5.134  0.001  0.000  0.000\\nSi  5.137  -0.003  -0.003  -0.001  0.000  0.000\\nSi  7.699  2.563  2.563  -0.001  -0.002  -0.002\\nSi  2.557  2.556  2.556  0.002  -0.001  -0.001\\nSi  2.565  7.704  7.704  -0.000  0.001  0.001\\nSi  7.699  7.693  7.693  -0.001  0.001  0.001\\n\",\"xyz\",{\"vibrate\": {\"frames\": 10, \"amplitude\": 500}});\n",
       "\tviewergrid_154845092725[2][0].addModel(\"  8\\nComment\\nSi  0.004  0.003  0.003  0.001  -0.000  -0.000\\nSi  -0.004  5.138  5.138  -0.001  0.000  0.000\\nSi  5.130  5.134  5.134  -0.001  0.000  0.000\\nSi  5.137  -0.003  -0.003  0.000  -0.000  -0.000\\nSi  7.699  2.563  2.563  0.001  0.002  0.002\\nSi  2.557  2.556  2.556  -0.002  0.001  0.001\\nSi  2.565  7.704  7.704  0.000  -0.001  -0.001\\nSi  7.699  7.693  7.693  0.001  -0.001  -0.001\\n\",\"xyz\",{\"vibrate\": {\"frames\": 10, \"amplitude\": 500}});\n",
       "\tviewergrid_154845092725[2][1].addModel(\"  8\\nComment\\nSi  0.004  0.003  0.003  -0.001  0.000  0.000\\nSi  -0.004  5.138  5.138  0.001  -0.001  -0.001\\nSi  5.130  5.134  5.134  0.001  0.000  0.000\\nSi  5.137  -0.003  -0.003  -0.001  0.000  0.000\\nSi  7.699  2.563  2.563  -0.001  -0.002  -0.002\\nSi  2.557  2.556  2.556  0.002  -0.001  -0.001\\nSi  2.565  7.704  7.704  -0.000  0.001  0.001\\nSi  7.699  7.693  7.693  -0.001  0.001  0.001\\n\",\"xyz\",{\"vibrate\": {\"frames\": 10, \"amplitude\": 500}});\n",
       "\tviewergrid_154845092725[0][0].setBackgroundColor(\"0xeeeeee\");\n",
       "\tviewergrid_154845092725[0][1].setBackgroundColor(\"0xeeeeee\");\n",
       "\tviewergrid_154845092725[1][0].setBackgroundColor(\"0xeeeeee\");\n",
       "\tviewergrid_154845092725[1][1].setBackgroundColor(\"0xeeeeee\");\n",
       "\tviewergrid_154845092725[2][0].setBackgroundColor(\"0xeeeeee\");\n",
       "\tviewergrid_154845092725[2][1].setBackgroundColor(\"0xeeeeee\");\n",
       "\tviewergrid_154845092725[0][0].setStyle({\"sphere\": {}});\n",
       "\tviewergrid_154845092725[0][1].setStyle({\"sphere\": {}});\n",
       "\tviewergrid_154845092725[1][0].setStyle({\"sphere\": {}});\n",
       "\tviewergrid_154845092725[1][1].setStyle({\"sphere\": {}});\n",
       "\tviewergrid_154845092725[2][0].setStyle({\"sphere\": {}});\n",
       "\tviewergrid_154845092725[2][1].setStyle({\"sphere\": {}});\n",
       "\tviewergrid_154845092725[0][0].animate({\"loop\": \"backAndForth\"});\n",
       "\tviewergrid_154845092725[0][1].animate({\"loop\": \"backAndForth\"});\n",
       "\tviewergrid_154845092725[1][0].animate({\"loop\": \"backAndForth\"});\n",
       "\tviewergrid_154845092725[1][1].animate({\"loop\": \"backAndForth\"});\n",
       "\tviewergrid_154845092725[2][0].animate({\"loop\": \"backAndForth\"});\n",
       "\tviewergrid_154845092725[2][1].animate({\"loop\": \"backAndForth\"});\n",
       "\tviewergrid_154845092725[0][0].zoomTo();\n",
       "\tviewergrid_154845092725[0][1].zoomTo();\n",
       "\tviewergrid_154845092725[1][0].zoomTo();\n",
       "\tviewergrid_154845092725[1][1].zoomTo();\n",
       "\tviewergrid_154845092725[2][0].zoomTo();\n",
       "\tviewergrid_154845092725[2][1].zoomTo();\n",
       "viewergrid_154845092725[2][1].render();\n",
       "viewergrid_154845092725[2][0].render();\n",
       "viewergrid_154845092725[1][1].render();\n",
       "viewergrid_154845092725[1][0].render();\n",
       "viewergrid_154845092725[0][1].render();\n",
       "viewergrid_154845092725[0][0].render();\n",
       "});\n",
       "</script>"
      ]
     },
     "metadata": {},
     "output_type": "display_data"
    }
   ],
   "source": [
    "mode = 10\n",
    "\n",
    "# Method 1\n",
    "xyz00v = normal_modes.get_xyz(E,R, M, res00[2], mode)  # velocity covariance\n",
    "xyz00a = normal_modes.get_xyz(E,R, M, res00[5], mode)  # acceleration covariance\n",
    "xyz01v = normal_modes.get_xyz(E,R, M, res01[2], mode)  # velocity fluctuation covariance\n",
    "xyz01a = normal_modes.get_xyz(E,R, M, res01[5], mode)  # acceleration fluctuation covariance\n",
    "\n",
    "# Method 2\n",
    "xyz20f = normal_modes.get_xyz(E,R, M, res20[2], mode)  # force covariance\n",
    "xyz21f = normal_modes.get_xyz(E,R, M, res21[2], mode)  # force fluctuation covariance\n",
    "\n",
    "\n",
    "view = py3Dmol.view(width=800,height=400, linked=False,viewergrid=(3,2))\n",
    "view.addModel(xyz00v,'xyz',{'vibrate': {'frames':10,'amplitude':500}}, viewer=(0,0))\n",
    "view.addModel(xyz01v,'xyz',{'vibrate': {'frames':10,'amplitude':500}}, viewer=(0,1))\n",
    "\n",
    "view.addModel(xyz00a,'xyz',{'vibrate': {'frames':10,'amplitude':500}}, viewer=(1,0))\n",
    "view.addModel(xyz01a,'xyz',{'vibrate': {'frames':10,'amplitude':500}}, viewer=(1,1))\n",
    "\n",
    "view.addModel(xyz20f,'xyz',{'vibrate': {'frames':10,'amplitude':500}}, viewer=(2,0))\n",
    "view.addModel(xyz21f,'xyz',{'vibrate': {'frames':10,'amplitude':500}}, viewer=(2,1))\n",
    "\n",
    "view.setBackgroundColor('0xeeeeee')\n",
    "view.setStyle({'sphere':{}})\n",
    "view.animate({'loop': 'backAndForth'})\n",
    "view.zoomTo()\n",
    "view.show()"
   ]
  },
  {
   "cell_type": "code",
   "execution_count": null,
   "metadata": {},
   "outputs": [],
   "source": []
  }
 ],
 "metadata": {
  "kernelspec": {
   "display_name": "Python 2",
   "language": "python",
   "name": "python2"
  },
  "language_info": {
   "codemirror_mode": {
    "name": "ipython",
    "version": 2
   },
   "file_extension": ".py",
   "mimetype": "text/x-python",
   "name": "python",
   "nbconvert_exporter": "python",
   "pygments_lexer": "ipython2",
   "version": "2.7.15"
  }
 },
 "nbformat": 4,
 "nbformat_minor": 2
}
