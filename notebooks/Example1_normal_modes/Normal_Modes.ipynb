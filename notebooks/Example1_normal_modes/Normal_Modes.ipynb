{
 "cells": [
  {
   "cell_type": "code",
   "execution_count": 1,
   "metadata": {},
   "outputs": [
    {
     "name": "stderr",
     "output_type": "stream",
     "text": [
      "/home/alexey/miniconda2/envs/libra/lib/python2.7/site-packages/ipykernel_launcher.py:1: RuntimeWarning: to-Python converter for std::vector<std::complex<double>, std::allocator<std::complex<double> > > already registered; second conversion method ignored.\n",
      "  \"\"\"Entry point for launching an IPython kernel.\n",
      "/home/alexey/miniconda2/envs/libra/lib/python2.7/site-packages/ipykernel_launcher.py:1: RuntimeWarning: to-Python converter for std::vector<std::vector<int, std::allocator<int> >, std::allocator<std::vector<int, std::allocator<int> > > > already registered; second conversion method ignored.\n",
      "  \"\"\"Entry point for launching an IPython kernel.\n",
      "/home/alexey/miniconda2/envs/libra/lib/python2.7/site-packages/ipykernel_launcher.py:1: RuntimeWarning: to-Python converter for boost::python::detail::container_element<std::vector<std::vector<int, std::allocator<int> >, std::allocator<std::vector<int, std::allocator<int> > > >, unsigned long, boost::python::detail::final_vector_derived_policies<std::vector<std::vector<int, std::allocator<int> >, std::allocator<std::vector<int, std::allocator<int> > > >, false> > already registered; second conversion method ignored.\n",
      "  \"\"\"Entry point for launching an IPython kernel.\n",
      "/home/alexey/miniconda2/envs/libra/lib/python2.7/site-packages/ipykernel_launcher.py:1: RuntimeWarning: to-Python converter for std::vector<std::vector<float, std::allocator<float> >, std::allocator<std::vector<float, std::allocator<float> > > > already registered; second conversion method ignored.\n",
      "  \"\"\"Entry point for launching an IPython kernel.\n",
      "/home/alexey/miniconda2/envs/libra/lib/python2.7/site-packages/ipykernel_launcher.py:1: RuntimeWarning: to-Python converter for boost::python::detail::container_element<std::vector<std::vector<float, std::allocator<float> >, std::allocator<std::vector<float, std::allocator<float> > > >, unsigned long, boost::python::detail::final_vector_derived_policies<std::vector<std::vector<float, std::allocator<float> >, std::allocator<std::vector<float, std::allocator<float> > > >, false> > already registered; second conversion method ignored.\n",
      "  \"\"\"Entry point for launching an IPython kernel.\n",
      "/home/alexey/miniconda2/envs/libra/lib/python2.7/site-packages/ipykernel_launcher.py:1: RuntimeWarning: to-Python converter for std::vector<std::vector<double, std::allocator<double> >, std::allocator<std::vector<double, std::allocator<double> > > > already registered; second conversion method ignored.\n",
      "  \"\"\"Entry point for launching an IPython kernel.\n",
      "/home/alexey/miniconda2/envs/libra/lib/python2.7/site-packages/ipykernel_launcher.py:1: RuntimeWarning: to-Python converter for boost::python::detail::container_element<std::vector<std::vector<double, std::allocator<double> >, std::allocator<std::vector<double, std::allocator<double> > > >, unsigned long, boost::python::detail::final_vector_derived_policies<std::vector<std::vector<double, std::allocator<double> >, std::allocator<std::vector<double, std::allocator<double> > > >, false> > already registered; second conversion method ignored.\n",
      "  \"\"\"Entry point for launching an IPython kernel.\n",
      "/home/alexey/miniconda2/envs/libra/lib/python2.7/site-packages/ipykernel_launcher.py:1: RuntimeWarning: to-Python converter for boost::python::detail::container_element<std::vector<std::vector<std::complex<double>, std::allocator<std::complex<double> > >, std::allocator<std::vector<std::complex<double>, std::allocator<std::complex<double> > > > >, unsigned long, boost::python::detail::final_vector_derived_policies<std::vector<std::vector<std::complex<double>, std::allocator<std::complex<double> > >, std::allocator<std::vector<std::complex<double>, std::allocator<std::complex<double> > > > >, false> > already registered; second conversion method ignored.\n",
      "  \"\"\"Entry point for launching an IPython kernel.\n",
      "/home/alexey/miniconda2/envs/libra/lib/python2.7/site-packages/ipykernel_launcher.py:1: RuntimeWarning: to-Python converter for liblibra::libforcefield::Atom_Record already registered; second conversion method ignored.\n",
      "  \"\"\"Entry point for launching an IPython kernel.\n",
      "/home/alexey/miniconda2/envs/libra/lib/python2.7/site-packages/ipykernel_launcher.py:1: RuntimeWarning: to-Python converter for std::vector<liblibra::libforcefield::Atom_Record, std::allocator<liblibra::libforcefield::Atom_Record> > already registered; second conversion method ignored.\n",
      "  \"\"\"Entry point for launching an IPython kernel.\n",
      "/home/alexey/miniconda2/envs/libra/lib/python2.7/site-packages/ipykernel_launcher.py:1: RuntimeWarning: to-Python converter for boost::python::detail::container_element<std::vector<liblibra::libforcefield::Atom_Record, std::allocator<liblibra::libforcefield::Atom_Record> >, unsigned long, boost::python::detail::final_vector_derived_policies<std::vector<liblibra::libforcefield::Atom_Record, std::allocator<liblibra::libforcefield::Atom_Record> >, false> > already registered; second conversion method ignored.\n",
      "  \"\"\"Entry point for launching an IPython kernel.\n",
      "/home/alexey/miniconda2/envs/libra/lib/python2.7/site-packages/ipykernel_launcher.py:1: RuntimeWarning: to-Python converter for liblibra::libforcefield::Bond_Record already registered; second conversion method ignored.\n",
      "  \"\"\"Entry point for launching an IPython kernel.\n",
      "/home/alexey/miniconda2/envs/libra/lib/python2.7/site-packages/ipykernel_launcher.py:1: RuntimeWarning: to-Python converter for std::vector<liblibra::libforcefield::Bond_Record, std::allocator<liblibra::libforcefield::Bond_Record> > already registered; second conversion method ignored.\n",
      "  \"\"\"Entry point for launching an IPython kernel.\n",
      "/home/alexey/miniconda2/envs/libra/lib/python2.7/site-packages/ipykernel_launcher.py:1: RuntimeWarning: to-Python converter for boost::python::detail::container_element<std::vector<liblibra::libforcefield::Bond_Record, std::allocator<liblibra::libforcefield::Bond_Record> >, unsigned long, boost::python::detail::final_vector_derived_policies<std::vector<liblibra::libforcefield::Bond_Record, std::allocator<liblibra::libforcefield::Bond_Record> >, false> > already registered; second conversion method ignored.\n",
      "  \"\"\"Entry point for launching an IPython kernel.\n",
      "/home/alexey/miniconda2/envs/libra/lib/python2.7/site-packages/ipykernel_launcher.py:1: RuntimeWarning: to-Python converter for liblibra::libforcefield::Angle_Record already registered; second conversion method ignored.\n",
      "  \"\"\"Entry point for launching an IPython kernel.\n",
      "/home/alexey/miniconda2/envs/libra/lib/python2.7/site-packages/ipykernel_launcher.py:1: RuntimeWarning: to-Python converter for std::vector<liblibra::libforcefield::Angle_Record, std::allocator<liblibra::libforcefield::Angle_Record> > already registered; second conversion method ignored.\n",
      "  \"\"\"Entry point for launching an IPython kernel.\n",
      "/home/alexey/miniconda2/envs/libra/lib/python2.7/site-packages/ipykernel_launcher.py:1: RuntimeWarning: to-Python converter for boost::python::detail::container_element<std::vector<liblibra::libforcefield::Angle_Record, std::allocator<liblibra::libforcefield::Angle_Record> >, unsigned long, boost::python::detail::final_vector_derived_policies<std::vector<liblibra::libforcefield::Angle_Record, std::allocator<liblibra::libforcefield::Angle_Record> >, false> > already registered; second conversion method ignored.\n",
      "  \"\"\"Entry point for launching an IPython kernel.\n",
      "/home/alexey/miniconda2/envs/libra/lib/python2.7/site-packages/ipykernel_launcher.py:1: RuntimeWarning: to-Python converter for liblibra::libforcefield::Dihedral_Record already registered; second conversion method ignored.\n",
      "  \"\"\"Entry point for launching an IPython kernel.\n",
      "/home/alexey/miniconda2/envs/libra/lib/python2.7/site-packages/ipykernel_launcher.py:1: RuntimeWarning: to-Python converter for std::vector<liblibra::libforcefield::Dihedral_Record, std::allocator<liblibra::libforcefield::Dihedral_Record> > already registered; second conversion method ignored.\n",
      "  \"\"\"Entry point for launching an IPython kernel.\n",
      "/home/alexey/miniconda2/envs/libra/lib/python2.7/site-packages/ipykernel_launcher.py:1: RuntimeWarning: to-Python converter for boost::python::detail::container_element<std::vector<liblibra::libforcefield::Dihedral_Record, std::allocator<liblibra::libforcefield::Dihedral_Record> >, unsigned long, boost::python::detail::final_vector_derived_policies<std::vector<liblibra::libforcefield::Dihedral_Record, std::allocator<liblibra::libforcefield::Dihedral_Record> >, false> > already registered; second conversion method ignored.\n",
      "  \"\"\"Entry point for launching an IPython kernel.\n",
      "/home/alexey/miniconda2/envs/libra/lib/python2.7/site-packages/ipykernel_launcher.py:1: RuntimeWarning: to-Python converter for liblibra::libforcefield::Fragment_Record already registered; second conversion method ignored.\n",
      "  \"\"\"Entry point for launching an IPython kernel.\n",
      "/home/alexey/miniconda2/envs/libra/lib/python2.7/site-packages/ipykernel_launcher.py:1: RuntimeWarning: to-Python converter for liblibra::libforcefield::ForceField already registered; second conversion method ignored.\n",
      "  \"\"\"Entry point for launching an IPython kernel.\n"
     ]
    }
   ],
   "source": [
    "from liblibra_core import *\n",
    "from libra_py import *\n",
    "import math\n",
    "import py3Dmol"
   ]
  },
  {
   "cell_type": "code",
   "execution_count": 2,
   "metadata": {
    "scrolled": true
   },
   "outputs": [
    {
     "name": "stdout",
     "output_type": "stream",
     "text": [
      "10.2625353797 0.0 0.0\n",
      "0.0 10.2625353797 0.0\n",
      "0.0 0.0 10.2625353797\n"
     ]
    }
   ],
   "source": [
    "def fold_coords1(R,H):\n",
    "    ndof = R.num_of_rows\n",
    "    nsteps = R.num_of_cols\n",
    "    nat = ndof/3\n",
    "    \n",
    "    res = MATRIX(ndof, nsteps)\n",
    "    \n",
    "    for step in xrange(nsteps):\n",
    "        r_in = VECTORList()\n",
    "        for at in xrange(nat):\n",
    "            r_in.append(VECTOR(R.get(3*at, step), R.get(3*at+1, step), R.get(3*at+2, step)))\n",
    "        \n",
    "        #r_out = apply_pbc(H, r_in, boost::python::list t){\n",
    "\n",
    "\n",
    "            \n",
    "params = {\"nsteps\":100, \"nperiods\":1, \"scale\":250.0, \"visualize\":0, \"verbosity\":0, \"prefix\":\"_Si8_cov_flag0\"}\n",
    "\n",
    "R, V, A, M, E = QE_methods.read_md_data(\"x0.xml\")\n",
    "#R.scale(-1,-1, 1.0/units.Angst)\n",
    "C = QE_methods.read_md_data_cell(\"x0.xml\")\n",
    "\n",
    "print C.get(0,0), C.get(1,0), C.get(2,0)\n",
    "print C.get(3,0), C.get(4,0), C.get(5,0)\n",
    "print C.get(6,0), C.get(7,0), C.get(8,0)\n",
    "\n",
    "H = MATRIX3x3()\n",
    "H.xx = C.get(0,0);  H.xy = C.get(0,1);  H.xz = C.get(0,2);\n",
    "H.yx = C.get(1,0);  H.yy = C.get(1,1);  H.yz = C.get(1,2);\n",
    "H.zx = C.get(2,0);  H.zy = C.get(2,1);  H.zz = C.get(2,2);\n",
    "\n",
    "#alat = 10.26253537973\n",
    "tH = H.T()  #* alat # * units.Angst\n",
    "\n",
    "fR = fold_coords(R, tH, \"abc\")"
   ]
  },
  {
   "cell_type": "markdown",
   "metadata": {},
   "source": [
    "### Method 1:\n",
    "\n",
    "Strachan, A. Normal Modes and Frequencies from Covariances in Molecular Dynamics \n",
    "    or Monte Carlo Simulation. J. Chem. Phys. 2003, 120, 1-4.\n",
    "    \n",
    "In the following 2 calls *res* is a tuple (w, w_inv_cm, U_v,  w2, w2_inv_cm, U_a)"
   ]
  },
  {
   "cell_type": "code",
   "execution_count": 3,
   "metadata": {},
   "outputs": [],
   "source": [
    "params.update({\"cov_flag\":0})\n",
    "res00 = normal_modes.compute_cov( R, V, A, M, E, params)"
   ]
  },
  {
   "cell_type": "markdown",
   "metadata": {},
   "source": [
    "Another option is to use data centered around the averages (fluctuations)"
   ]
  },
  {
   "cell_type": "code",
   "execution_count": 4,
   "metadata": {},
   "outputs": [],
   "source": [
    "params.update({\"cov_flag\":1})\n",
    "res01 = normal_modes.compute_cov( R, V, A, M, E, params)\n"
   ]
  },
  {
   "cell_type": "markdown",
   "metadata": {},
   "source": [
    "### Method 2:\n",
    "Pereverzev, A.; Sewell, T. D. Obtaining the Hessian from the Force Covariance Matrix:\n",
    "    Application to Crystalline Explosives PETN and RDX. J. Chem. Phys. 2015, 142, 134110.\n",
    "    \n",
    "In the following 2 calls *res* is a tuple (w_a, w_inv_cm, U_a)\n",
    "Again, without centering:"
   ]
  },
  {
   "cell_type": "code",
   "execution_count": 5,
   "metadata": {},
   "outputs": [],
   "source": [
    "params.update({\"cov_flag\":0})\n",
    "res20 = normal_modes.compute_cov2( R, A, M, E, 300.0, params)"
   ]
  },
  {
   "cell_type": "markdown",
   "metadata": {},
   "source": [
    "With the centering:"
   ]
  },
  {
   "cell_type": "code",
   "execution_count": 6,
   "metadata": {},
   "outputs": [],
   "source": [
    "params.update({\"cov_flag\":1})\n",
    "res21 = normal_modes.compute_cov2( R, A, M, E, 300.0, params)"
   ]
  },
  {
   "cell_type": "markdown",
   "metadata": {},
   "source": [
    "Now, we can select which normal modes to visualize:"
   ]
  },
  {
   "cell_type": "code",
   "execution_count": 7,
   "metadata": {},
   "outputs": [
    {
     "data": {
      "application/3dmoljs_load.v0": "<div id=\"3dmolviewer_15485269401\"  style=\"position: relative; width: 800px; height: 400px\">\n        <p id=\"3dmolwarning_15485269401\" style=\"background-color:#ffcccc;color:black\">You appear to be running in JupyterLab.  You need to install the 3dmol extension: <br>\n        <tt>jupyter labextension install jupyterlab_3dmol</tt></p>\n        </div>\n<script>\n\nvar loadScriptAsync = function(uri){\n  return new Promise((resolve, reject) => {\n    var tag = document.createElement('script');\n    tag.src = uri;\n    tag.async = true;\n    tag.onload = () => {\n      resolve();\n    };\n  var firstScriptTag = document.getElementsByTagName('script')[0];\n  firstScriptTag.parentNode.insertBefore(tag, firstScriptTag);\n});\n};\n\nif(typeof $3Dmolpromise === 'undefined') {\n$3Dmolpromise = null;\n  $3Dmolpromise = loadScriptAsync('https://3dmol.csb.pitt.edu/build/3Dmol.js');\n}\n\nvar viewer_15485269401 = null;\nvar warn = document.getElementById(\"3dmolwarning_15485269401\");\nif(warn) {\n    warn.parentNode.removeChild(warn);\n}\n$3Dmolpromise.then(function() {\nvar viewergrid_15485269401 = null;\nviewergrid_15485269401 = $3Dmol.createViewerGrid($(\"#3dmolviewer_15485269401\"),{rows: 3, cols: 2, control_all: false},{backgroundColor:\"white\"});\nviewer_15485269401 = viewergrid_15485269401[0][0];\n\tviewergrid_15485269401[0][0].addModel(\"  8\\nComment\\nSi  0.004  0.003  0.001  0.001  -0.000  0.001\\nSi  -0.004  5.138  5.144  0.001  0.001  0.001\\nSi  5.130  5.134  0.002  0.002  -0.000  -0.001\\nSi  5.137  -0.003  5.128  -0.000  0.000  -0.001\\nSi  7.699  2.563  7.678  -0.001  -0.001  0.001\\nSi  2.557  2.556  2.576  -0.001  0.001  0.000\\nSi  2.565  7.704  7.695  0.000  0.001  0.001\\nSi  7.699  7.693  2.564  -0.001  -0.001  -0.002\\n\",\"xyz\",{\"vibrate\": {\"frames\": 10, \"amplitude\": 500}});\n\tviewergrid_15485269401[0][1].addModel(\"  8\\nComment\\nSi  0.004  0.003  0.001  0.001  -0.000  0.001\\nSi  -0.004  5.138  5.144  0.001  0.001  0.001\\nSi  5.130  5.134  0.002  0.001  0.000  -0.000\\nSi  5.137  -0.003  5.128  -0.000  -0.000  -0.000\\nSi  7.699  2.563  7.678  -0.001  -0.001  0.001\\nSi  2.557  2.556  2.576  -0.001  0.001  -0.000\\nSi  2.565  7.704  7.695  0.000  0.001  0.000\\nSi  7.699  7.693  2.564  -0.001  -0.001  -0.002\\n\",\"xyz\",{\"vibrate\": {\"frames\": 10, \"amplitude\": 500}});\n\tviewergrid_15485269401[1][0].addModel(\"  8\\nComment\\nSi  0.004  0.003  0.001  -0.001  -0.001  -0.001\\nSi  -0.004  5.138  5.144  0.000  -0.001  0.000\\nSi  5.130  5.134  0.002  0.001  0.001  0.000\\nSi  5.137  -0.003  5.128  0.001  0.000  -0.000\\nSi  7.699  2.563  7.678  -0.001  0.000  0.001\\nSi  2.557  2.556  2.576  0.002  -0.001  -0.000\\nSi  2.565  7.704  7.695  -0.000  0.001  -0.002\\nSi  7.699  7.693  2.564  -0.001  -0.000  0.001\\n\",\"xyz\",{\"vibrate\": {\"frames\": 10, \"amplitude\": 500}});\n\tviewergrid_15485269401[1][1].addModel(\"  8\\nComment\\nSi  0.004  0.003  0.001  -0.001  -0.001  -0.001\\nSi  -0.004  5.138  5.144  -0.000  -0.001  0.001\\nSi  5.130  5.134  0.002  0.001  0.001  -0.000\\nSi  5.137  -0.003  5.128  0.001  0.000  0.000\\nSi  7.699  2.563  7.678  0.000  0.000  0.002\\nSi  2.557  2.556  2.576  0.001  -0.000  -0.001\\nSi  2.565  7.704  7.695  -0.000  0.001  -0.001\\nSi  7.699  7.693  2.564  -0.001  -0.001  0.001\\n\",\"xyz\",{\"vibrate\": {\"frames\": 10, \"amplitude\": 500}});\n\tviewergrid_15485269401[2][0].addModel(\"  8\\nComment\\nSi  0.004  0.003  0.001  -0.001  -0.001  -0.001\\nSi  -0.004  5.138  5.144  0.000  -0.001  0.000\\nSi  5.130  5.134  0.002  0.001  0.001  0.000\\nSi  5.137  -0.003  5.128  0.001  0.000  -0.000\\nSi  7.699  2.563  7.678  -0.001  0.000  0.001\\nSi  2.557  2.556  2.576  0.002  -0.001  -0.000\\nSi  2.565  7.704  7.695  -0.000  0.001  -0.002\\nSi  7.699  7.693  2.564  -0.001  -0.000  0.001\\n\",\"xyz\",{\"vibrate\": {\"frames\": 10, \"amplitude\": 500}});\n\tviewergrid_15485269401[2][1].addModel(\"  8\\nComment\\nSi  0.004  0.003  0.001  -0.001  -0.001  -0.001\\nSi  -0.004  5.138  5.144  -0.000  -0.001  0.001\\nSi  5.130  5.134  0.002  0.001  0.001  -0.000\\nSi  5.137  -0.003  5.128  0.001  0.000  0.000\\nSi  7.699  2.563  7.678  0.000  0.000  0.002\\nSi  2.557  2.556  2.576  0.001  -0.000  -0.001\\nSi  2.565  7.704  7.695  -0.000  0.001  -0.001\\nSi  7.699  7.693  2.564  -0.001  -0.001  0.001\\n\",\"xyz\",{\"vibrate\": {\"frames\": 10, \"amplitude\": 500}});\n\tviewergrid_15485269401[0][0].setBackgroundColor(\"0xeeeeee\");\n\tviewergrid_15485269401[0][1].setBackgroundColor(\"0xeeeeee\");\n\tviewergrid_15485269401[1][0].setBackgroundColor(\"0xeeeeee\");\n\tviewergrid_15485269401[1][1].setBackgroundColor(\"0xeeeeee\");\n\tviewergrid_15485269401[2][0].setBackgroundColor(\"0xeeeeee\");\n\tviewergrid_15485269401[2][1].setBackgroundColor(\"0xeeeeee\");\n\tviewergrid_15485269401[0][0].setStyle({\"sphere\": {}});\n\tviewergrid_15485269401[0][1].setStyle({\"sphere\": {}});\n\tviewergrid_15485269401[1][0].setStyle({\"sphere\": {}});\n\tviewergrid_15485269401[1][1].setStyle({\"sphere\": {}});\n\tviewergrid_15485269401[2][0].setStyle({\"sphere\": {}});\n\tviewergrid_15485269401[2][1].setStyle({\"sphere\": {}});\n\tviewergrid_15485269401[0][0].animate({\"loop\": \"backAndForth\"});\n\tviewergrid_15485269401[0][1].animate({\"loop\": \"backAndForth\"});\n\tviewergrid_15485269401[1][0].animate({\"loop\": \"backAndForth\"});\n\tviewergrid_15485269401[1][1].animate({\"loop\": \"backAndForth\"});\n\tviewergrid_15485269401[2][0].animate({\"loop\": \"backAndForth\"});\n\tviewergrid_15485269401[2][1].animate({\"loop\": \"backAndForth\"});\n\tviewergrid_15485269401[0][0].zoomTo();\n\tviewergrid_15485269401[0][1].zoomTo();\n\tviewergrid_15485269401[1][0].zoomTo();\n\tviewergrid_15485269401[1][1].zoomTo();\n\tviewergrid_15485269401[2][0].zoomTo();\n\tviewergrid_15485269401[2][1].zoomTo();\nviewergrid_15485269401[2][1].render();\nviewergrid_15485269401[2][0].render();\nviewergrid_15485269401[1][1].render();\nviewergrid_15485269401[1][0].render();\nviewergrid_15485269401[0][1].render();\nviewergrid_15485269401[0][0].render();\n});\n</script>",
      "text/html": [
       "<div id=\"3dmolviewer_15485269401\"  style=\"position: relative; width: 800px; height: 400px\">\n",
       "        <p id=\"3dmolwarning_15485269401\" style=\"background-color:#ffcccc;color:black\">You appear to be running in JupyterLab.  You need to install the 3dmol extension: <br>\n",
       "        <tt>jupyter labextension install jupyterlab_3dmol</tt></p>\n",
       "        </div>\n",
       "<script>\n",
       "\n",
       "var loadScriptAsync = function(uri){\n",
       "  return new Promise((resolve, reject) => {\n",
       "    var tag = document.createElement('script');\n",
       "    tag.src = uri;\n",
       "    tag.async = true;\n",
       "    tag.onload = () => {\n",
       "      resolve();\n",
       "    };\n",
       "  var firstScriptTag = document.getElementsByTagName('script')[0];\n",
       "  firstScriptTag.parentNode.insertBefore(tag, firstScriptTag);\n",
       "});\n",
       "};\n",
       "\n",
       "if(typeof $3Dmolpromise === 'undefined') {\n",
       "$3Dmolpromise = null;\n",
       "  $3Dmolpromise = loadScriptAsync('https://3dmol.csb.pitt.edu/build/3Dmol.js');\n",
       "}\n",
       "\n",
       "var viewer_15485269401 = null;\n",
       "var warn = document.getElementById(\"3dmolwarning_15485269401\");\n",
       "if(warn) {\n",
       "    warn.parentNode.removeChild(warn);\n",
       "}\n",
       "$3Dmolpromise.then(function() {\n",
       "var viewergrid_15485269401 = null;\n",
       "viewergrid_15485269401 = $3Dmol.createViewerGrid($(\"#3dmolviewer_15485269401\"),{rows: 3, cols: 2, control_all: false},{backgroundColor:\"white\"});\n",
       "viewer_15485269401 = viewergrid_15485269401[0][0];\n",
       "\tviewergrid_15485269401[0][0].addModel(\"  8\\nComment\\nSi  0.004  0.003  0.001  0.001  -0.000  0.001\\nSi  -0.004  5.138  5.144  0.001  0.001  0.001\\nSi  5.130  5.134  0.002  0.002  -0.000  -0.001\\nSi  5.137  -0.003  5.128  -0.000  0.000  -0.001\\nSi  7.699  2.563  7.678  -0.001  -0.001  0.001\\nSi  2.557  2.556  2.576  -0.001  0.001  0.000\\nSi  2.565  7.704  7.695  0.000  0.001  0.001\\nSi  7.699  7.693  2.564  -0.001  -0.001  -0.002\\n\",\"xyz\",{\"vibrate\": {\"frames\": 10, \"amplitude\": 500}});\n",
       "\tviewergrid_15485269401[0][1].addModel(\"  8\\nComment\\nSi  0.004  0.003  0.001  0.001  -0.000  0.001\\nSi  -0.004  5.138  5.144  0.001  0.001  0.001\\nSi  5.130  5.134  0.002  0.001  0.000  -0.000\\nSi  5.137  -0.003  5.128  -0.000  -0.000  -0.000\\nSi  7.699  2.563  7.678  -0.001  -0.001  0.001\\nSi  2.557  2.556  2.576  -0.001  0.001  -0.000\\nSi  2.565  7.704  7.695  0.000  0.001  0.000\\nSi  7.699  7.693  2.564  -0.001  -0.001  -0.002\\n\",\"xyz\",{\"vibrate\": {\"frames\": 10, \"amplitude\": 500}});\n",
       "\tviewergrid_15485269401[1][0].addModel(\"  8\\nComment\\nSi  0.004  0.003  0.001  -0.001  -0.001  -0.001\\nSi  -0.004  5.138  5.144  0.000  -0.001  0.000\\nSi  5.130  5.134  0.002  0.001  0.001  0.000\\nSi  5.137  -0.003  5.128  0.001  0.000  -0.000\\nSi  7.699  2.563  7.678  -0.001  0.000  0.001\\nSi  2.557  2.556  2.576  0.002  -0.001  -0.000\\nSi  2.565  7.704  7.695  -0.000  0.001  -0.002\\nSi  7.699  7.693  2.564  -0.001  -0.000  0.001\\n\",\"xyz\",{\"vibrate\": {\"frames\": 10, \"amplitude\": 500}});\n",
       "\tviewergrid_15485269401[1][1].addModel(\"  8\\nComment\\nSi  0.004  0.003  0.001  -0.001  -0.001  -0.001\\nSi  -0.004  5.138  5.144  -0.000  -0.001  0.001\\nSi  5.130  5.134  0.002  0.001  0.001  -0.000\\nSi  5.137  -0.003  5.128  0.001  0.000  0.000\\nSi  7.699  2.563  7.678  0.000  0.000  0.002\\nSi  2.557  2.556  2.576  0.001  -0.000  -0.001\\nSi  2.565  7.704  7.695  -0.000  0.001  -0.001\\nSi  7.699  7.693  2.564  -0.001  -0.001  0.001\\n\",\"xyz\",{\"vibrate\": {\"frames\": 10, \"amplitude\": 500}});\n",
       "\tviewergrid_15485269401[2][0].addModel(\"  8\\nComment\\nSi  0.004  0.003  0.001  -0.001  -0.001  -0.001\\nSi  -0.004  5.138  5.144  0.000  -0.001  0.000\\nSi  5.130  5.134  0.002  0.001  0.001  0.000\\nSi  5.137  -0.003  5.128  0.001  0.000  -0.000\\nSi  7.699  2.563  7.678  -0.001  0.000  0.001\\nSi  2.557  2.556  2.576  0.002  -0.001  -0.000\\nSi  2.565  7.704  7.695  -0.000  0.001  -0.002\\nSi  7.699  7.693  2.564  -0.001  -0.000  0.001\\n\",\"xyz\",{\"vibrate\": {\"frames\": 10, \"amplitude\": 500}});\n",
       "\tviewergrid_15485269401[2][1].addModel(\"  8\\nComment\\nSi  0.004  0.003  0.001  -0.001  -0.001  -0.001\\nSi  -0.004  5.138  5.144  -0.000  -0.001  0.001\\nSi  5.130  5.134  0.002  0.001  0.001  -0.000\\nSi  5.137  -0.003  5.128  0.001  0.000  0.000\\nSi  7.699  2.563  7.678  0.000  0.000  0.002\\nSi  2.557  2.556  2.576  0.001  -0.000  -0.001\\nSi  2.565  7.704  7.695  -0.000  0.001  -0.001\\nSi  7.699  7.693  2.564  -0.001  -0.001  0.001\\n\",\"xyz\",{\"vibrate\": {\"frames\": 10, \"amplitude\": 500}});\n",
       "\tviewergrid_15485269401[0][0].setBackgroundColor(\"0xeeeeee\");\n",
       "\tviewergrid_15485269401[0][1].setBackgroundColor(\"0xeeeeee\");\n",
       "\tviewergrid_15485269401[1][0].setBackgroundColor(\"0xeeeeee\");\n",
       "\tviewergrid_15485269401[1][1].setBackgroundColor(\"0xeeeeee\");\n",
       "\tviewergrid_15485269401[2][0].setBackgroundColor(\"0xeeeeee\");\n",
       "\tviewergrid_15485269401[2][1].setBackgroundColor(\"0xeeeeee\");\n",
       "\tviewergrid_15485269401[0][0].setStyle({\"sphere\": {}});\n",
       "\tviewergrid_15485269401[0][1].setStyle({\"sphere\": {}});\n",
       "\tviewergrid_15485269401[1][0].setStyle({\"sphere\": {}});\n",
       "\tviewergrid_15485269401[1][1].setStyle({\"sphere\": {}});\n",
       "\tviewergrid_15485269401[2][0].setStyle({\"sphere\": {}});\n",
       "\tviewergrid_15485269401[2][1].setStyle({\"sphere\": {}});\n",
       "\tviewergrid_15485269401[0][0].animate({\"loop\": \"backAndForth\"});\n",
       "\tviewergrid_15485269401[0][1].animate({\"loop\": \"backAndForth\"});\n",
       "\tviewergrid_15485269401[1][0].animate({\"loop\": \"backAndForth\"});\n",
       "\tviewergrid_15485269401[1][1].animate({\"loop\": \"backAndForth\"});\n",
       "\tviewergrid_15485269401[2][0].animate({\"loop\": \"backAndForth\"});\n",
       "\tviewergrid_15485269401[2][1].animate({\"loop\": \"backAndForth\"});\n",
       "\tviewergrid_15485269401[0][0].zoomTo();\n",
       "\tviewergrid_15485269401[0][1].zoomTo();\n",
       "\tviewergrid_15485269401[1][0].zoomTo();\n",
       "\tviewergrid_15485269401[1][1].zoomTo();\n",
       "\tviewergrid_15485269401[2][0].zoomTo();\n",
       "\tviewergrid_15485269401[2][1].zoomTo();\n",
       "viewergrid_15485269401[2][1].render();\n",
       "viewergrid_15485269401[2][0].render();\n",
       "viewergrid_15485269401[1][1].render();\n",
       "viewergrid_15485269401[1][0].render();\n",
       "viewergrid_15485269401[0][1].render();\n",
       "viewergrid_15485269401[0][0].render();\n",
       "});\n",
       "</script>"
      ]
     },
     "metadata": {},
     "output_type": "display_data"
    },
    {
     "name": "stdout",
     "output_type": "stream",
     "text": [
      "  8\n",
      "Comment\n",
      "Si  0.004  0.003  0.001  0.001  -0.000  0.001\n",
      "Si  -0.004  5.138  5.144  0.001  0.001  0.001\n",
      "Si  5.130  5.134  0.002  0.002  -0.000  -0.001\n",
      "Si  5.137  -0.003  5.128  -0.000  0.000  -0.001\n",
      "Si  7.699  2.563  7.678  -0.001  -0.001  0.001\n",
      "Si  2.557  2.556  2.576  -0.001  0.001  0.000\n",
      "Si  2.565  7.704  7.695  0.000  0.001  0.001\n",
      "Si  7.699  7.693  2.564  -0.001  -0.001  -0.002\n",
      "\n"
     ]
    }
   ],
   "source": [
    "mode = 10\n",
    "\n",
    "# Method 1\n",
    "xyz00v = normal_modes.get_xyz(E,R, M, res00[2], mode)  # velocity covariance\n",
    "xyz00a = normal_modes.get_xyz(E,R, M, res00[5], mode)  # acceleration covariance\n",
    "xyz01v = normal_modes.get_xyz(E,R, M, res01[2], mode)  # velocity fluctuation covariance\n",
    "xyz01a = normal_modes.get_xyz(E,R, M, res01[5], mode)  # acceleration fluctuation covariance\n",
    "\n",
    "# Method 2\n",
    "xyz20f = normal_modes.get_xyz(E,R, M, res20[2], mode)  # force covariance\n",
    "xyz21f = normal_modes.get_xyz(E,R, M, res21[2], mode)  # force fluctuation covariance\n",
    "\n",
    "\n",
    "view = py3Dmol.view(width=800,height=400, linked=False,viewergrid=(3,2))\n",
    "view.addModel(xyz00v,'xyz',{'vibrate': {'frames':10,'amplitude':500}}, viewer=(0,0))\n",
    "view.addModel(xyz01v,'xyz',{'vibrate': {'frames':10,'amplitude':500}}, viewer=(0,1))\n",
    "\n",
    "view.addModel(xyz00a,'xyz',{'vibrate': {'frames':10,'amplitude':500}}, viewer=(1,0))\n",
    "view.addModel(xyz01a,'xyz',{'vibrate': {'frames':10,'amplitude':500}}, viewer=(1,1))\n",
    "\n",
    "view.addModel(xyz20f,'xyz',{'vibrate': {'frames':10,'amplitude':500}}, viewer=(2,0))\n",
    "view.addModel(xyz21f,'xyz',{'vibrate': {'frames':10,'amplitude':500}}, viewer=(2,1))\n",
    "\n",
    "view.setBackgroundColor('0xeeeeee')\n",
    "view.setStyle({'sphere':{}})\n",
    "view.animate({'loop': 'backAndForth'})\n",
    "view.zoomTo()\n",
    "view.show()\n",
    "\n",
    "print xyz00v"
   ]
  },
  {
   "cell_type": "code",
   "execution_count": 8,
   "metadata": {},
   "outputs": [
    {
     "data": {
      "application/3dmoljs_load.v0": "<div id=\"3dmolviewer_154852694032\"  style=\"position: relative; width: 800px; height: 400px\">\n        <p id=\"3dmolwarning_154852694032\" style=\"background-color:#ffcccc;color:black\">You appear to be running in JupyterLab.  You need to install the 3dmol extension: <br>\n        <tt>jupyter labextension install jupyterlab_3dmol</tt></p>\n        </div>\n<script>\n\nvar loadScriptAsync = function(uri){\n  return new Promise((resolve, reject) => {\n    var tag = document.createElement('script');\n    tag.src = uri;\n    tag.async = true;\n    tag.onload = () => {\n      resolve();\n    };\n  var firstScriptTag = document.getElementsByTagName('script')[0];\n  firstScriptTag.parentNode.insertBefore(tag, firstScriptTag);\n});\n};\n\nif(typeof $3Dmolpromise === 'undefined') {\n$3Dmolpromise = null;\n  $3Dmolpromise = loadScriptAsync('https://3dmol.csb.pitt.edu/build/3Dmol.js');\n}\n\nvar viewer_154852694032 = null;\nvar warn = document.getElementById(\"3dmolwarning_154852694032\");\nif(warn) {\n    warn.parentNode.removeChild(warn);\n}\n$3Dmolpromise.then(function() {\nviewer_154852694032 = $3Dmol.createViewer($(\"#3dmolviewer_154852694032\"),{backgroundColor:\"white\"});\n\tviewer_154852694032.addModel(\"8\\n\\nSi 0.000000000000000 0.000000000000000 0.000000000000000\\nSi 0.000000000000000 5.131267690524859 5.131267690524859\\nSi 5.131267690524859 5.131267690524859 0.000000000000000\\nSi 5.131267690524859 0.000000000000000 5.131267690524859\\nSi 7.696901534842424 2.565633844317566 7.696901534842424\\nSi 2.565633844317566 2.565633844317566 2.565633844317566\\nSi 2.565633844317566 7.696901534842424 7.696901534842424\\nSi 7.696901534842424 7.696901534842424 2.565633844317566\",\"xyz\",{\"vibrate\": {\"frames\": 10, \"amplitude\": 500}});\n\tviewer_154852694032.setBackgroundColor(\"0xeeeeee\");\n\tviewer_154852694032.setStyle({\"sphere\": {}});\n\tviewer_154852694032.animate({\"loop\": \"backAndForth\"});\n\tviewer_154852694032.zoomTo();\nviewer_154852694032.render();\n});\n</script>",
      "text/html": [
       "<div id=\"3dmolviewer_154852694032\"  style=\"position: relative; width: 800px; height: 400px\">\n",
       "        <p id=\"3dmolwarning_154852694032\" style=\"background-color:#ffcccc;color:black\">You appear to be running in JupyterLab.  You need to install the 3dmol extension: <br>\n",
       "        <tt>jupyter labextension install jupyterlab_3dmol</tt></p>\n",
       "        </div>\n",
       "<script>\n",
       "\n",
       "var loadScriptAsync = function(uri){\n",
       "  return new Promise((resolve, reject) => {\n",
       "    var tag = document.createElement('script');\n",
       "    tag.src = uri;\n",
       "    tag.async = true;\n",
       "    tag.onload = () => {\n",
       "      resolve();\n",
       "    };\n",
       "  var firstScriptTag = document.getElementsByTagName('script')[0];\n",
       "  firstScriptTag.parentNode.insertBefore(tag, firstScriptTag);\n",
       "});\n",
       "};\n",
       "\n",
       "if(typeof $3Dmolpromise === 'undefined') {\n",
       "$3Dmolpromise = null;\n",
       "  $3Dmolpromise = loadScriptAsync('https://3dmol.csb.pitt.edu/build/3Dmol.js');\n",
       "}\n",
       "\n",
       "var viewer_154852694032 = null;\n",
       "var warn = document.getElementById(\"3dmolwarning_154852694032\");\n",
       "if(warn) {\n",
       "    warn.parentNode.removeChild(warn);\n",
       "}\n",
       "$3Dmolpromise.then(function() {\n",
       "viewer_154852694032 = $3Dmol.createViewer($(\"#3dmolviewer_154852694032\"),{backgroundColor:\"white\"});\n",
       "\tviewer_154852694032.addModel(\"8\\n\\nSi 0.000000000000000 0.000000000000000 0.000000000000000\\nSi 0.000000000000000 5.131267690524859 5.131267690524859\\nSi 5.131267690524859 5.131267690524859 0.000000000000000\\nSi 5.131267690524859 0.000000000000000 5.131267690524859\\nSi 7.696901534842424 2.565633844317566 7.696901534842424\\nSi 2.565633844317566 2.565633844317566 2.565633844317566\\nSi 2.565633844317566 7.696901534842424 7.696901534842424\\nSi 7.696901534842424 7.696901534842424 2.565633844317566\",\"xyz\",{\"vibrate\": {\"frames\": 10, \"amplitude\": 500}});\n",
       "\tviewer_154852694032.setBackgroundColor(\"0xeeeeee\");\n",
       "\tviewer_154852694032.setStyle({\"sphere\": {}});\n",
       "\tviewer_154852694032.animate({\"loop\": \"backAndForth\"});\n",
       "\tviewer_154852694032.zoomTo();\n",
       "viewer_154852694032.render();\n",
       "});\n",
       "</script>"
      ]
     },
     "metadata": {},
     "output_type": "display_data"
    },
    {
     "name": "stdout",
     "output_type": "stream",
     "text": [
      "8\n",
      "\n",
      "Si 0.000000000000000 0.000000000000000 0.000000000000000\n",
      "Si 0.000000000000000 5.131267690524859 5.131267690524859\n",
      "Si 5.131267690524859 5.131267690524859 0.000000000000000\n",
      "Si 5.131267690524859 0.000000000000000 5.131267690524859\n",
      "Si 7.696901534842424 2.565633844317566 7.696901534842424\n",
      "Si 2.565633844317566 2.565633844317566 2.565633844317566\n",
      "Si 2.565633844317566 7.696901534842424 7.696901534842424\n",
      "Si 7.696901534842424 7.696901534842424 2.565633844317566\n",
      "  8\n",
      "Comment\n",
      "Si  0.004  0.003  0.001  0.001  -0.000  0.001\n",
      "Si  -0.004  5.138  5.144  0.001  0.001  0.001\n",
      "Si  5.130  5.134  0.002  0.002  -0.000  -0.001\n",
      "Si  5.137  -0.003  5.128  -0.000  0.000  -0.001\n",
      "Si  7.699  2.563  7.678  -0.001  -0.001  0.001\n",
      "Si  2.557  2.556  2.576  -0.001  0.001  0.000\n",
      "Si  2.565  7.704  7.695  0.000  0.001  0.001\n",
      "Si  7.699  7.693  2.564  -0.001  -0.001  -0.002\n",
      "\n"
     ]
    }
   ],
   "source": [
    "si8=\"\"\"8\n",
    "\n",
    "Si 0.000000000000000 0.000000000000000 0.000000000000000\n",
    "Si 0.000000000000000 5.131267690524859 5.131267690524859\n",
    "Si 5.131267690524859 5.131267690524859 0.000000000000000\n",
    "Si 5.131267690524859 0.000000000000000 5.131267690524859\n",
    "Si 7.696901534842424 2.565633844317566 7.696901534842424\n",
    "Si 2.565633844317566 2.565633844317566 2.565633844317566\n",
    "Si 2.565633844317566 7.696901534842424 7.696901534842424\n",
    "Si 7.696901534842424 7.696901534842424 2.565633844317566\"\"\"\n",
    "\n",
    "view1 = py3Dmol.view(width=800,height=400)\n",
    "view1.addModel(si8,'xyz',{'vibrate': {'frames':10,'amplitude':500}})\n",
    "view1.setBackgroundColor('0xeeeeee')\n",
    "view1.setStyle({'sphere':{}})\n",
    "view1.animate({'loop': 'backAndForth'})\n",
    "view1.zoomTo()\n",
    "view1.show()\n",
    "\n",
    "print si8\n",
    "print xyz00v"
   ]
  },
  {
   "cell_type": "code",
   "execution_count": null,
   "metadata": {},
   "outputs": [],
   "source": []
  }
 ],
 "metadata": {
  "kernelspec": {
   "display_name": "Python 2",
   "language": "python",
   "name": "python2"
  },
  "language_info": {
   "codemirror_mode": {
    "name": "ipython",
    "version": 2
   },
   "file_extension": ".py",
   "mimetype": "text/x-python",
   "name": "python",
   "nbconvert_exporter": "python",
   "pygments_lexer": "ipython2",
   "version": "2.7.15"
  }
 },
 "nbformat": 4,
 "nbformat_minor": 2
}
