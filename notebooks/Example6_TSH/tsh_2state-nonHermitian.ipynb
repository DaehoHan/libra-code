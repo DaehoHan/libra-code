{
 "cells": [
  {
   "cell_type": "markdown",
   "metadata": {},
   "source": [
    "First, lets import all necessary modules, including Matplotlib for plotting\n",
    "\n",
    "Also, define parameters for plotting, including colors"
   ]
  },
  {
   "cell_type": "code",
   "execution_count": 1,
   "metadata": {},
   "outputs": [
    {
     "name": "stderr",
     "output_type": "stream",
     "text": [
      "/home/alexey/miniconda2/envs/libra/lib/python2.7/site-packages/ipykernel_launcher.py:9: RuntimeWarning: to-Python converter for std::vector<std::complex<double>, std::allocator<std::complex<double> > > already registered; second conversion method ignored.\n",
      "  if __name__ == '__main__':\n",
      "/home/alexey/miniconda2/envs/libra/lib/python2.7/site-packages/ipykernel_launcher.py:9: RuntimeWarning: to-Python converter for std::vector<std::vector<int, std::allocator<int> >, std::allocator<std::vector<int, std::allocator<int> > > > already registered; second conversion method ignored.\n",
      "  if __name__ == '__main__':\n",
      "/home/alexey/miniconda2/envs/libra/lib/python2.7/site-packages/ipykernel_launcher.py:9: RuntimeWarning: to-Python converter for boost::python::detail::container_element<std::vector<std::vector<int, std::allocator<int> >, std::allocator<std::vector<int, std::allocator<int> > > >, unsigned long, boost::python::detail::final_vector_derived_policies<std::vector<std::vector<int, std::allocator<int> >, std::allocator<std::vector<int, std::allocator<int> > > >, false> > already registered; second conversion method ignored.\n",
      "  if __name__ == '__main__':\n",
      "/home/alexey/miniconda2/envs/libra/lib/python2.7/site-packages/ipykernel_launcher.py:9: RuntimeWarning: to-Python converter for std::vector<std::vector<float, std::allocator<float> >, std::allocator<std::vector<float, std::allocator<float> > > > already registered; second conversion method ignored.\n",
      "  if __name__ == '__main__':\n",
      "/home/alexey/miniconda2/envs/libra/lib/python2.7/site-packages/ipykernel_launcher.py:9: RuntimeWarning: to-Python converter for boost::python::detail::container_element<std::vector<std::vector<float, std::allocator<float> >, std::allocator<std::vector<float, std::allocator<float> > > >, unsigned long, boost::python::detail::final_vector_derived_policies<std::vector<std::vector<float, std::allocator<float> >, std::allocator<std::vector<float, std::allocator<float> > > >, false> > already registered; second conversion method ignored.\n",
      "  if __name__ == '__main__':\n",
      "/home/alexey/miniconda2/envs/libra/lib/python2.7/site-packages/ipykernel_launcher.py:9: RuntimeWarning: to-Python converter for std::vector<std::vector<double, std::allocator<double> >, std::allocator<std::vector<double, std::allocator<double> > > > already registered; second conversion method ignored.\n",
      "  if __name__ == '__main__':\n",
      "/home/alexey/miniconda2/envs/libra/lib/python2.7/site-packages/ipykernel_launcher.py:9: RuntimeWarning: to-Python converter for boost::python::detail::container_element<std::vector<std::vector<double, std::allocator<double> >, std::allocator<std::vector<double, std::allocator<double> > > >, unsigned long, boost::python::detail::final_vector_derived_policies<std::vector<std::vector<double, std::allocator<double> >, std::allocator<std::vector<double, std::allocator<double> > > >, false> > already registered; second conversion method ignored.\n",
      "  if __name__ == '__main__':\n",
      "/home/alexey/miniconda2/envs/libra/lib/python2.7/site-packages/ipykernel_launcher.py:9: RuntimeWarning: to-Python converter for boost::python::detail::container_element<std::vector<std::vector<std::complex<double>, std::allocator<std::complex<double> > >, std::allocator<std::vector<std::complex<double>, std::allocator<std::complex<double> > > > >, unsigned long, boost::python::detail::final_vector_derived_policies<std::vector<std::vector<std::complex<double>, std::allocator<std::complex<double> > >, std::allocator<std::vector<std::complex<double>, std::allocator<std::complex<double> > > > >, false> > already registered; second conversion method ignored.\n",
      "  if __name__ == '__main__':\n"
     ]
    }
   ],
   "source": [
    "import os\n",
    "import sys\n",
    "import math\n",
    "import copy\n",
    "\n",
    "if sys.platform==\"cygwin\":\n",
    "    from cyglibra_core import *\n",
    "elif sys.platform==\"linux\" or sys.platform==\"linux2\":\n",
    "    from liblibra_core import *\n",
    "\n",
    "from libra_py import units\n",
    "from libra_py import hungarian\n",
    "from libra_py.workflows.nbra import step3\n",
    "\n",
    "import matplotlib.pyplot as plt   # plots\n",
    "%matplotlib inline \n",
    "\n",
    "plt.rc('axes', titlesize=24)      # fontsize of the axes title\n",
    "plt.rc('axes', labelsize=20)      # fontsize of the x and y labels\n",
    "plt.rc('legend', fontsize=20)     # legend fontsize\n",
    "plt.rc('xtick', labelsize=16)    # fontsize of the tick labels\n",
    "plt.rc('ytick', labelsize=16)    # fontsize of the tick labels\n",
    "\n",
    "plt.rc('figure.subplot', left=0.2)\n",
    "plt.rc('figure.subplot', right=0.95)\n",
    "plt.rc('figure.subplot', bottom=0.13)\n",
    "plt.rc('figure.subplot', top=0.88)\n",
    "\n",
    "colors = {}\n",
    "\n",
    "colors.update({\"11\": \"#8b1a0e\"})  # red       \n",
    "colors.update({\"12\": \"#FF4500\"})  # orangered \n",
    "colors.update({\"13\": \"#B22222\"})  # firebrick \n",
    "colors.update({\"14\": \"#DC143C\"})  # crimson   \n",
    "\n",
    "colors.update({\"21\": \"#5e9c36\"})  # green\n",
    "colors.update({\"22\": \"#006400\"})  # darkgreen  \n",
    "colors.update({\"23\": \"#228B22\"})  # forestgreen\n",
    "colors.update({\"24\": \"#808000\"})  # olive      \n",
    "\n",
    "colors.update({\"31\": \"#8A2BE2\"})  # blueviolet\n",
    "colors.update({\"32\": \"#00008B\"})  # darkblue  \n",
    "\n",
    "colors.update({\"41\": \"#2F4F4F\"})  # darkslategray"
   ]
  },
  {
   "cell_type": "markdown",
   "metadata": {},
   "source": [
    "Here is where we define our model. For this model, we can denerate the Hvib matrices along the pre-computed trajectories (the NBRA assumption). NBRA = neglect of back-reaction approximation. \n",
    "\n",
    "In this example, we only imagine a system evolving in time such that the adiabatic energies and non-adiabatic couplings are constant for all times - really the simplest model problem. Well, in reality, this may be not that simple to realise, but we don't care here.\n",
    "\n",
    "We generate a single data set (one \"trajectory\") - that's why len(Hvib) == 1 \n",
    "\n",
    "The trajectory comprises nsteps = 1000 nuclear timesteps\n",
    "\n",
    "Adiabatic energy levels are at -0.001 and 0.001 a.u. and the NAC is at 0.001 a.u. as well"
   ]
  },
  {
   "cell_type": "code",
   "execution_count": 2,
   "metadata": {},
   "outputs": [],
   "source": [
    "def compute_reordering(St):\n",
    "    \"\"\"\n",
    "\n",
    "    Performs the state's identity reordering in a given basis for all time steps.\n",
    "    This is reflects in the corresponding changess of the TDM.\n",
    "\n",
    "    Args:\n",
    "        St ( list of CMATRIX(nstates, nstates) ): TDM for each timestep        \n",
    "        \n",
    "    Returns:\n",
    "        None: but changes the input St object\n",
    "\n",
    "    \"\"\"\n",
    "\n",
    "    nstates = St.num_of_cols\n",
    "        \n",
    "    # Current permutation\n",
    "    perm_t = intList()     \n",
    "    for a in xrange(nstates):\n",
    "        perm_t.append(a)\n",
    "        \n",
    "\n",
    "    # Temporary matrices for the Hungarian method    \n",
    "    en_mat = CMATRIX(nstates, nstates); \n",
    "    \n",
    "    # compute the cost matrices for diagonal blocks\n",
    "    cost_mat = step3.make_cost_mat(St, en_mat, 0.0)            \n",
    "\n",
    "    # Solve the optimal assignment problem for diagonal blocks\n",
    "    res_aa = hungarian.maximize(cost_mat)\n",
    "    \n",
    "    # Convert the list of lists into the permutation object\n",
    "    for ra in res_aa:\n",
    "        perm_t[ra[0]] = ra[1]  \n",
    "    \n",
    "\n",
    "    return perm_t    "
   ]
  },
  {
   "cell_type": "code",
   "execution_count": 3,
   "metadata": {},
   "outputs": [],
   "source": [
    "def expH(H, dt):\n",
    "    \"\"\"\n",
    "    Compute exp(-i*H*dt/hbar), hbar = 1\n",
    "    \"\"\"\n",
    "    \n",
    "    N = H.num_of_cols\n",
    "    I = CMATRIX(N,N); I.identity()\n",
    "    \n",
    "    U, S, V = CMATRIX(N,N), CMATRIX(N,N), CMATRIX(N,N)\n",
    "    \n",
    "    #h = (1.0j) * H \n",
    "    \n",
    "    #JacobiSVD_decomposition(h, U, S, V)\n",
    "    #JacobiSVD_decomposition(H, U, S, V)\n",
    "    BDCSVD_decomposition(H, U, S, V)\n",
    "    \n",
    "    #h = U * S * V.H()\n",
    "    #for a in xrange(4):\n",
    "    #    print a, h.get(a), H.get(a)\n",
    "        \n",
    "    \n",
    "    #suu = U.H() * U0\n",
    "    #svv = V.H() * V0\n",
    "    #perm_uu = compute_reordering(suu)\n",
    "    #perm_vv = compute_reordering(svv)    \n",
    "    #print Cpp2Py(perm_uu), Cpp2Py(perm_vv)\n",
    "    \n",
    "    #U.permute_cols(perm_uu)\n",
    "    #V.permute_cols(perm_vv)\n",
    "    \n",
    "    \n",
    "    # H = U * S * V.H()\n",
    "    expS = CMATRIX(N,N)\n",
    "    expS *= 0.0\n",
    "    \n",
    "    #print S.get(0,0).real, S.get(0,0).imag, S.get(1,1).real, S.get(1,1).imag\n",
    "    \n",
    "    for i in xrange(N):\n",
    "        argg = -S.get(i,i).real*dt        \n",
    "        expS.set(i,i, math.cos(argg), math.sin(argg))\n",
    "        \n",
    "        #expS.set(i,i, math.exp(-dt * S.get(i,i).real ) ) \n",
    "        \n",
    "    res = U * expS * V.H()\n",
    "    \n",
    "    return res\n"
   ]
  },
  {
   "cell_type": "code",
   "execution_count": 4,
   "metadata": {},
   "outputs": [],
   "source": [
    "def expH2(H, dt):\n",
    "    \"\"\"\n",
    "    exp(-i*dt*H/hbar)\n",
    "    \n",
    "    \"\"\"\n",
    "    N = H.num_of_cols\n",
    "    tmp = CMATRIX(N,N)\n",
    "    res = CMATRIX(N,N)\n",
    "    \n",
    "    res.identity()\n",
    "    tmp.identity()\n",
    "    \n",
    "    for n in xrange(1,1000):\n",
    "        tmp = ((-1.0j * dt)/float(n)) * H * tmp\n",
    "        res = res + tmp\n",
    "        \n",
    "    return res"
   ]
  },
  {
   "cell_type": "code",
   "execution_count": 5,
   "metadata": {},
   "outputs": [],
   "source": [
    "def correctedH(H, Coeff, T, case):\n",
    "    \n",
    "    sz = H.num_of_cols    \n",
    "    kT = units.kB * T    \n",
    "    \n",
    "    \n",
    "    rho = MATRIX(sz,1)    \n",
    "    for i in xrange(sz):\n",
    "        rho.set(i, 0, abs(Coeff.get(i,0)) )\n",
    "    \n",
    "    #============= Step 1 ===================\n",
    "    Hcorr = CMATRIX(H)    \n",
    "    for j in xrange(sz):\n",
    "        for k in xrange(sz):\n",
    "            if j!=k:                \n",
    "                dE = H.get(k,k).real - H.get(j,j).real\n",
    "                corr = math.sqrt(2.0 / (1.0 + math.exp(-dE/kT)) )                                \n",
    "                Hcorr.scale(j,k, corr)\n",
    "                \n",
    "    #============= Step 2 ===================\n",
    "    \n",
    "    Hcorr2 = CMATRIX(sz,sz)\n",
    "    for j in xrange(sz):\n",
    "        for k in xrange(j+1,sz):\n",
    "            if case==0:  # diabatic - original Bastida\n",
    "                hkj = rho.get(k)*Hcorr.get(j,k) + rho.get(j)*Hcorr.get(k,j)\n",
    "            elif case==1: # adiabatic - changed Bastida\n",
    "                hkj = rho.get(k)*Hcorr.get(j,k) + rho.get(j)*Hcorr.get(k,j)\n",
    "            \n",
    "            Hcorr2.set(k,j, hkj)\n",
    "            Hcorr2.set(j,k, hkj)\n",
    "            \n",
    "    return Hcorr2\n",
    "    "
   ]
  },
  {
   "cell_type": "code",
   "execution_count": 6,
   "metadata": {},
   "outputs": [],
   "source": [
    "def compute_dyn(H, Coeff, params, U0, V0):\n",
    "    nstates = Coeff.num_of_rows\n",
    "    nsteps = params[\"nsteps\"]\n",
    "    dt = params[\"dt\"]\n",
    "    Temp = params[\"Temperature\"]\n",
    "    case = params[\"Bastida_adi\"]\n",
    "    \n",
    "    C = CMATRIX(Coeff)\n",
    "    \n",
    "    res = MATRIX(nsteps, 1+nstates*2)\n",
    "    eH = CMATRIX(2,2)\n",
    "    \n",
    "    for i in xrange(nsteps):        \n",
    "        D = C * C.H()\n",
    "        norm = D.tr().real\n",
    "        \n",
    "        res.set(i, 0, dt*i)\n",
    "        for j in xrange(nstates):\n",
    "            res.set(i, 1+j, D.get(j,j).real)\n",
    "            \n",
    "            if norm>0.0:\n",
    "                res.set(i, 1+nstates+j, D.get(j,j).real/norm)\n",
    "            else:\n",
    "                res.set(i, 1+nstates+j, 0.0)\n",
    "                \n",
    "                \n",
    "\n",
    "        h = correctedH(H[i], C, Temp, case)\n",
    "        #h = CMATRIX(H[i])\n",
    "        \n",
    "        # SVD\n",
    "        #C = expH(H[i], dt) * C\n",
    "        \n",
    "        # Eigensolver - gives wrong dynamics!\n",
    "        #exp_matrix(eH, H[i], dt*(0.0-1.0j))\n",
    "        #C = eH * C\n",
    "        \n",
    "        # Direct\n",
    "        #C = expH2(H[i], dt) * C\n",
    "        #C = exp_2(h, -1.0j*dt) * C\n",
    "        \n",
    "        #D = C * C.H()\n",
    "        #norm = D.tr().real\n",
    "        #C *= (1.0/math.sqrt(norm))\n",
    "        \n",
    "        # Current way:\n",
    "        propagate_electronic(dt, C, h)\n",
    "    \n",
    "    return res    "
   ]
  },
  {
   "cell_type": "markdown",
   "metadata": {},
   "source": [
    "Lets test the propagators for a single dt"
   ]
  },
  {
   "cell_type": "code",
   "execution_count": 7,
   "metadata": {},
   "outputs": [],
   "source": [
    "dt = 10.0\n",
    "\n",
    "hvib = CMATRIX(2,2)\n",
    "hvib.set(0,0, 0.0+0.0j);     hvib.set(0,1, 0.0+0.001j);\n",
    "hvib.set(1,0, 0.0-0.001j);   hvib.set(1,1, 0.001+0.0j);\n",
    "\n",
    "#C = expH(hvib, dt) * Coeff\n",
    "\n",
    "#D = C * C.H()\n",
    "#print D.get(0,0).real, D.get(1,1).real"
   ]
  },
  {
   "cell_type": "code",
   "execution_count": 8,
   "metadata": {},
   "outputs": [
    {
     "name": "stdout",
     "output_type": "stream",
     "text": [
      "           SVD                                      Direct                            Eigensolver\n",
      "0 (-0.447235955434+1.66664166682e-07j) (0.999950000833+1.66664166683e-07j) (0.999950000833+1.66664166685e-07j)\n",
      "1 (0.00999966667083+0.894360110265j) (0.00999966667083-4.99987500111e-05j) (0.00999966667083-4.99987500111e-05j)\n",
      "2 (-0.00999966667083-0.894360110265j) (-0.00999966667083+4.99987500111e-05j) (-0.00999966667083+4.99987500111e-05j)\n",
      "3 (0.447124154831-0.00999950000667j) (0.999900002083-0.00999950000667j) (0.999900002083-0.00999950000667j)\n"
     ]
    }
   ],
   "source": [
    "E1, E2 = expH(hvib, dt), expH2(hvib, dt)   # SVD,  direct\n",
    "\n",
    "E3 = CMATRIX(2,2)\n",
    "exp_matrix(E3, hvib, dt*(0.0-1.0j))  # eigensolver\n",
    "\n",
    "print \"           SVD                                      Direct                            Eigensolver\" \n",
    "for i in xrange(4):\n",
    "    print i, E1.get(i), E2.get(i), E3.get(i)"
   ]
  },
  {
   "cell_type": "code",
   "execution_count": 9,
   "metadata": {},
   "outputs": [
    {
     "name": "stdout",
     "output_type": "stream",
     "text": [
      "0.531767277263\n"
     ]
    }
   ],
   "source": [
    "nsteps = 1000\n",
    "\n",
    "# Populate Hvib - this is our model\n",
    "Hvib = []\n",
    "hvib = []\n",
    "\n",
    "Temp = 5000.0\n",
    "bf = math.exp(-0.01/(units.kB*Temp))\n",
    "ibf = 1.0/bf\n",
    "print bf\n",
    "\n",
    "\n",
    "for i in xrange(nsteps):\n",
    "    hvib.append(CMATRIX(2,2))\n",
    "    hvib[i].set(0,0, 0.0);     hvib[i].set(0,1, -0.001j);\n",
    "    hvib[i].set(1,0, 0.001j);   hvib[i].set(1,1, 0.001);\n",
    "Hvib.append(hvib)"
   ]
  },
  {
   "cell_type": "code",
   "execution_count": 10,
   "metadata": {},
   "outputs": [
    {
     "name": "stdout",
     "output_type": "stream",
     "text": [
      "State populations: 0.0 1.0\n",
      "{'Bastida_adi': 1, 'dt': 10.0, 'nsteps': 1000, 'Temperature': 1000.0}\n",
      "0.729223749794\n"
     ]
    }
   ],
   "source": [
    "Coeff = CMATRIX(2,1)\n",
    "Coeff.set(0,0, 0.0+0.0j)\n",
    "Coeff.set(1,0, 1.0+0.0j)\n",
    "\n",
    "D = Coeff * Coeff.H()\n",
    "print \"State populations:\", D.get(0,0).real, D.get(1,1).real\n",
    "\n",
    "U0 = CMATRIX(2,2)\n",
    "S0 = CMATRIX(2,2)\n",
    "V0 = CMATRIX(2,2)\n",
    "JacobiSVD_decomposition(Hvib[0][0], U0, S0, V0)\n",
    "\n",
    "params = {\"nsteps\":nsteps, \"dt\":10.0, \"Temperature\": 1000.0, \"Bastida_adi\":1 }\n",
    "res = compute_dyn(Hvib[0], Coeff, params, U0, V0)\n",
    "\n",
    "print params\n",
    "bf = math.exp(-0.001/(units.kB*params[\"Temperature\"]))\n",
    "print bf"
   ]
  },
  {
   "cell_type": "markdown",
   "metadata": {},
   "source": [
    "Convert the results into a plottable format"
   ]
  },
  {
   "cell_type": "code",
   "execution_count": 11,
   "metadata": {},
   "outputs": [],
   "source": [
    "t = []\n",
    "P0, P1 = [], []\n",
    "nP0, nP1 = [], []\n",
    "for i in xrange(nsteps):\n",
    "    t.append(res.get(i, 0)*units.au2fs )  # time\n",
    "    P0.append(res.get(i, 1))  # raw pop of state 0\n",
    "    P1.append(res.get(i, 2))  # raw pop of state 1\n",
    "    nP0.append(res.get(i, 3))  # normalized pop of state 0\n",
    "    nP1.append(res.get(i, 4))  # normalized pop of state 1"
   ]
  },
  {
   "cell_type": "markdown",
   "metadata": {},
   "source": [
    "Finally, we can plot the results. "
   ]
  },
  {
   "cell_type": "code",
   "execution_count": 12,
   "metadata": {},
   "outputs": [
    {
     "data": {
      "image/png": "[encoded data removed]",
      "text/plain": [
       "<Figure size 1296x864 with 2 Axes>"
      ]
     },
     "metadata": {},
     "output_type": "display_data"
    }
   ],
   "source": [
    "plt.figure(1, figsize=(18, 12)) # dpi=300, frameon=False)\n",
    "plt.subplot(1,2,1)\n",
    "plt.xlabel('Time, fs')\n",
    "plt.ylabel('Unnormalized Populations')\n",
    "plt.plot(t, P0, label='0', linewidth=2, color = colors[\"21\"]) \n",
    "plt.plot(t, P1, label='1', linewidth=2, color = colors[\"31\"]) \n",
    "plt.legend()\n",
    "\n",
    "plt.subplot(1,2,2)\n",
    "plt.xlabel('Time, fs')\n",
    "plt.ylabel('Normalized Populations')\n",
    "plt.plot(t, nP0, label='0', linewidth=2, color = colors[\"21\"]) \n",
    "plt.plot(t, nP1, label='1', linewidth=2, color = colors[\"31\"]) \n",
    "plt.legend()\n",
    "\n",
    "plt.show()\n",
    "plt.close()"
   ]
  },
  {
   "cell_type": "code",
   "execution_count": 13,
   "metadata": {},
   "outputs": [
    {
     "name": "stdout",
     "output_type": "stream",
     "text": [
      "0.729225553582\n"
     ]
    }
   ],
   "source": [
    "print nP1[nsteps-1]/nP0[nsteps-1]"
   ]
  },
  {
   "cell_type": "code",
   "execution_count": null,
   "metadata": {},
   "outputs": [],
   "source": []
  }
 ],
 "metadata": {
  "kernelspec": {
   "display_name": "Python 2",
   "language": "python",
   "name": "python2"
  },
  "language_info": {
   "codemirror_mode": {
    "name": "ipython",
    "version": 2
   },
   "file_extension": ".py",
   "mimetype": "text/x-python",
   "name": "python",
   "nbconvert_exporter": "python",
   "pygments_lexer": "ipython2",
   "version": "2.7.15"
  }
 },
 "nbformat": 4,
 "nbformat_minor": 2
}
